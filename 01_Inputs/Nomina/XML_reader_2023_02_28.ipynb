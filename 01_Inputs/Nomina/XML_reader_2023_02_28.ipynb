{
 "cells": [
  {
   "cell_type": "code",
   "execution_count": 36,
   "metadata": {},
   "outputs": [],
   "source": [
    "#Import Libraries\n",
    "import xml.etree.ElementTree as ET\n",
    "import pandas as pd\n",
    "import re"
   ]
  },
  {
   "cell_type": "code",
   "execution_count": 37,
   "metadata": {},
   "outputs": [],
   "source": [
    "#Define file to read\n",
    "#xml_file_path= r\"C:\\Users\\Roberto\\OneDrive\\cargoIabono\\Proyectos y Desarrollos\\P001_V001_CFDI-Reader\\01_Inputs\\Facturas\\0A8BEAE0-F410-4A97-8860-7F5EBADC0D60.xml\"\n",
    "xml_file_path= r\"C:\\Users\\Roberto\\OneDrive\\cargoIabono\\Proyectos y Desarrollos\\P001_V001_CFDI-Reader\\01_Inputs\\Nomina\\EMS2103108P3_Pago de nómina_20220815_N_AOAR951019842.xml\""
   ]
  },
  {
   "cell_type": "code",
   "execution_count": 38,
   "metadata": {},
   "outputs": [],
   "source": [
    "#Reading XML \n",
    "xml_tree = ET.parse(xml_file_path)\n",
    "xml_root = xml_tree.getroot()\n",
    "xml_tag = xml_root.tag\n",
    "xml_flat = ET.tostring(xml_root, encoding='utf8').decode('utf8') #reading xml as text"
   ]
  },
  {
   "cell_type": "code",
   "execution_count": null,
   "metadata": {},
   "outputs": [],
   "source": [
    "for elem in xml_root.iter():\n",
    "    if elem.attrib:\n",
    "        tagname_regex_pattern = re.compile(r'\\{(.+?)\\}')\n",
    "        tag_without_braces = tagname_regex_pattern.sub('', elem.tag)\n",
    "        df_tag = 'df_' + tag_without_braces\n",
    "        df_tag_value = (elem.attrib)\n",
    "        locals()[df_tag] = pd.DataFrame([df_tag_value])\n",
    "        print(df_tag)\n",
    "        #print(locals()[df_tag])"
   ]
  },
  {
   "cell_type": "code",
   "execution_count": 46,
   "metadata": {},
   "outputs": [
    {
     "name": "stdout",
     "output_type": "stream",
     "text": [
      "df_Emisor\n",
      "df_Receptor\n",
      "df_Concepto\n",
      "df_Nomina\n",
      "df_Emisor\n",
      "df_Receptor\n",
      "df_Percepciones\n",
      "df_Percepcion\n",
      "df_Percepcion\n",
      "df_Deducciones\n",
      "df_Deduccion\n",
      "df_Deduccion\n",
      "df_Deduccion\n",
      "df_Deduccion\n",
      "df_OtroPago\n",
      "df_SubsidioAlEmpleo\n",
      "df_TimbreFiscalDigital\n"
     ]
    }
   ],
   "source": [
    "df_dict = {}\n",
    "\n",
    "for elem in xml_root.findall('.//*'):\n",
    "    # check if the element has any attributes\n",
    "    if elem.attrib:\n",
    "        # extract the tag name without namespace\n",
    "        tag_without_ns = elem.tag.split('}')[-1]\n",
    "        \n",
    "        # construct the DataFrame name with the modified tag name\n",
    "        df_tag = 'df_' + tag_without_ns\n",
    "        \n",
    "        # check if the DataFrame already exists in the dictionary\n",
    "        if df_tag in df_dict:\n",
    "            # if it exists, retrieve it from the dictionary and append the element's attributes to it\n",
    "            df = df_dict[df_tag]\n",
    "            \n",
    "            # check if the DataFrame is empty\n",
    "            if len(df) == 0:\n",
    "                df = pd.DataFrame([elem.attrib])\n",
    "            else:\n",
    "                df = pd.concat([df, pd.DataFrame([elem.attrib])], axis=0)\n",
    "        else:\n",
    "            # if it doesn't exist, create a new DataFrame with the element's attributes\n",
    "            df = pd.DataFrame([elem.attrib])\n",
    "        \n",
    "        # store the updated DataFrame in the dictionary\n",
    "        df_dict[df_tag] = df\n",
    "        \n",
    "        # print the DataFrame name to the console\n",
    "        print(df_tag)\n",
    "\n"
   ]
  },
  {
   "cell_type": "code",
   "execution_count": 47,
   "metadata": {},
   "outputs": [
    {
     "name": "stdout",
     "output_type": "stream",
     "text": [
      "   TipoDeduccion  Clave                              Concepto   Importe\n",
      "0            002    201                                   ISR  10077.68\n",
      "1            001    202                         Seguro social    957.26\n",
      "2            004  2rfap      Retencion Fondo de Ahorro Patrón   1876.29\n",
      "3            004  2rfao  Retencion Fondo de Ahorro Trabajador   1876.29\n",
      "4            002    201                                   ISR  10077.68\n",
      "5            001    202                         Seguro social    957.26\n",
      "6            004  2rfap      Retencion Fondo de Ahorro Patrón   1876.29\n",
      "7            004  2rfao  Retencion Fondo de Ahorro Trabajador   1876.29\n",
      "8            002    201                                   ISR  10077.68\n",
      "9            001    202                         Seguro social    957.26\n",
      "10           004  2rfap      Retencion Fondo de Ahorro Patrón   1876.29\n",
      "11           004  2rfao  Retencion Fondo de Ahorro Trabajador   1876.29\n",
      "12           002    201                                   ISR  10077.68\n",
      "13           001    202                         Seguro social    957.26\n",
      "14           004  2rfap      Retencion Fondo de Ahorro Patrón   1876.29\n",
      "15           004  2rfao  Retencion Fondo de Ahorro Trabajador   1876.29\n",
      "16           002    201                                   ISR  10077.68\n",
      "17           001    202                         Seguro social    957.26\n",
      "18           004  2rfap      Retencion Fondo de Ahorro Patrón   1876.29\n",
      "19           004  2rfao  Retencion Fondo de Ahorro Trabajador   1876.29\n",
      "20           002    201                                   ISR  10077.68\n",
      "21           001    202                         Seguro social    957.26\n",
      "22           004  2rfap      Retencion Fondo de Ahorro Patrón   1876.29\n",
      "23           004  2rfao  Retencion Fondo de Ahorro Trabajador   1876.29\n",
      "24           002    201                                   ISR  10077.68\n",
      "25           001    202                         Seguro social    957.26\n",
      "26           004  2rfap      Retencion Fondo de Ahorro Patrón   1876.29\n",
      "27           004  2rfao  Retencion Fondo de Ahorro Trabajador   1876.29\n"
     ]
    }
   ],
   "source": [
    "print(df_Deduccion)"
   ]
  },
  {
   "cell_type": "code",
   "execution_count": 39,
   "metadata": {},
   "outputs": [
    {
     "name": "stdout",
     "output_type": "stream",
     "text": [
      "df_Emisor\n",
      "df_Receptor\n",
      "df_Concepto\n",
      "df_Nomina\n"
     ]
    },
    {
     "name": "stderr",
     "output_type": "stream",
     "text": [
      "C:\\Users\\Roberto\\AppData\\Local\\Temp\\ipykernel_3424\\2474443505.py:17: FutureWarning: The frame.append method is deprecated and will be removed from pandas in a future version. Use pandas.concat instead.\n",
      "  df = df.append(elem.attrib, ignore_index=False)\n"
     ]
    },
    {
     "ename": "TypeError",
     "evalue": "Can only append a dict if ignore_index=True",
     "output_type": "error",
     "traceback": [
      "\u001b[1;31m---------------------------------------------------------------------------\u001b[0m",
      "\u001b[1;31mTypeError\u001b[0m                                 Traceback (most recent call last)",
      "Cell \u001b[1;32mIn [39], line 17\u001b[0m\n\u001b[0;32m     14\u001b[0m \u001b[39mif\u001b[39;00m df_tag \u001b[39min\u001b[39;00m df_dict:\n\u001b[0;32m     15\u001b[0m     \u001b[39m# if it exists, retrieve it from the dictionary and append the element's attributes to it\u001b[39;00m\n\u001b[0;32m     16\u001b[0m     df \u001b[39m=\u001b[39m df_dict[df_tag]\n\u001b[1;32m---> 17\u001b[0m     df \u001b[39m=\u001b[39m df\u001b[39m.\u001b[39;49mappend(elem\u001b[39m.\u001b[39;49mattrib, ignore_index\u001b[39m=\u001b[39;49m\u001b[39mFalse\u001b[39;49;00m)\n\u001b[0;32m     18\u001b[0m \u001b[39melse\u001b[39;00m:\n\u001b[0;32m     19\u001b[0m     \u001b[39m# if it doesn't exist, create a new DataFrame with the element's attributes\u001b[39;00m\n\u001b[0;32m     20\u001b[0m     df \u001b[39m=\u001b[39m pd\u001b[39m.\u001b[39mDataFrame([elem\u001b[39m.\u001b[39mattrib])\n",
      "File \u001b[1;32mc:\\Users\\Roberto\\AppData\\Local\\Programs\\Python\\Python310\\lib\\site-packages\\pandas\\core\\frame.py:9755\u001b[0m, in \u001b[0;36mDataFrame.append\u001b[1;34m(self, other, ignore_index, verify_integrity, sort)\u001b[0m\n\u001b[0;32m   9652\u001b[0m \u001b[39m\"\"\"\u001b[39;00m\n\u001b[0;32m   9653\u001b[0m \u001b[39mAppend rows of `other` to the end of caller, returning a new object.\u001b[39;00m\n\u001b[0;32m   9654\u001b[0m \n\u001b[1;32m   (...)\u001b[0m\n\u001b[0;32m   9745\u001b[0m \u001b[39m4  4\u001b[39;00m\n\u001b[0;32m   9746\u001b[0m \u001b[39m\"\"\"\u001b[39;00m\n\u001b[0;32m   9747\u001b[0m warnings\u001b[39m.\u001b[39mwarn(\n\u001b[0;32m   9748\u001b[0m     \u001b[39m\"\u001b[39m\u001b[39mThe frame.append method is deprecated \u001b[39m\u001b[39m\"\u001b[39m\n\u001b[0;32m   9749\u001b[0m     \u001b[39m\"\u001b[39m\u001b[39mand will be removed from pandas in a future version. \u001b[39m\u001b[39m\"\u001b[39m\n\u001b[1;32m   (...)\u001b[0m\n\u001b[0;32m   9752\u001b[0m     stacklevel\u001b[39m=\u001b[39mfind_stack_level(),\n\u001b[0;32m   9753\u001b[0m )\n\u001b[1;32m-> 9755\u001b[0m \u001b[39mreturn\u001b[39;00m \u001b[39mself\u001b[39;49m\u001b[39m.\u001b[39;49m_append(other, ignore_index, verify_integrity, sort)\n",
      "File \u001b[1;32mc:\\Users\\Roberto\\AppData\\Local\\Programs\\Python\\Python310\\lib\\site-packages\\pandas\\core\\frame.py:9767\u001b[0m, in \u001b[0;36mDataFrame._append\u001b[1;34m(self, other, ignore_index, verify_integrity, sort)\u001b[0m\n\u001b[0;32m   9765\u001b[0m \u001b[39mif\u001b[39;00m \u001b[39misinstance\u001b[39m(other, \u001b[39mdict\u001b[39m):\n\u001b[0;32m   9766\u001b[0m     \u001b[39mif\u001b[39;00m \u001b[39mnot\u001b[39;00m ignore_index:\n\u001b[1;32m-> 9767\u001b[0m         \u001b[39mraise\u001b[39;00m \u001b[39mTypeError\u001b[39;00m(\u001b[39m\"\u001b[39m\u001b[39mCan only append a dict if ignore_index=True\u001b[39m\u001b[39m\"\u001b[39m)\n\u001b[0;32m   9768\u001b[0m     other \u001b[39m=\u001b[39m Series(other)\n\u001b[0;32m   9769\u001b[0m \u001b[39mif\u001b[39;00m other\u001b[39m.\u001b[39mname \u001b[39mis\u001b[39;00m \u001b[39mNone\u001b[39;00m \u001b[39mand\u001b[39;00m \u001b[39mnot\u001b[39;00m ignore_index:\n",
      "\u001b[1;31mTypeError\u001b[0m: Can only append a dict if ignore_index=True"
     ]
    }
   ],
   "source": [
    "# loop over elements in the XML tree\n",
    "df_dict = {}\n",
    "for elem in xml_root.findall('.//*'):\n",
    "\n",
    "    # check if the element has any attributes\n",
    "    if elem.attrib:\n",
    "        # extract the tag name without namespace\n",
    "        tag_without_ns = elem.tag.split('}')[-1]\n",
    "        \n",
    "        # construct the DataFrame name with the modified tag name\n",
    "        df_tag = 'df_' + tag_without_ns\n",
    "        \n",
    "        # check if the DataFrame already exists in the dictionary\n",
    "        if df_tag in df_dict:\n",
    "            # if it exists, retrieve it from the dictionary and append the element's attributes to it\n",
    "            df = df_dict[df_tag]\n",
    "            df = df.append(elem.attrib, ignore_index=False)\n",
    "        else:\n",
    "            # if it doesn't exist, create a new DataFrame with the element's attributes\n",
    "            df = pd.DataFrame([elem.attrib])\n",
    "        \n",
    "        # store the updated DataFrame in the dictionary\n",
    "        df_dict[df_tag] = df\n",
    "        \n",
    "        # print the DataFrame name to the console\n",
    "        print(df_tag)\n"
   ]
  },
  {
   "cell_type": "code",
   "execution_count": 30,
   "metadata": {},
   "outputs": [
    {
     "name": "stdout",
     "output_type": "stream",
     "text": [
      "df_Comprobante\n",
      "df_Emisor\n",
      "df_Receptor\n",
      "df_Concepto\n",
      "df_Nomina\n",
      "df_Emisor\n",
      "df_Receptor\n",
      "df_Percepciones\n",
      "df_Percepcion\n",
      "df_Percepcion\n",
      "df_Deducciones\n",
      "df_Deduccion\n",
      "df_Deduccion\n",
      "df_Deduccion\n",
      "df_Deduccion\n",
      "df_OtroPago\n",
      "df_SubsidioAlEmpleo\n",
      "df_TimbreFiscalDigital\n"
     ]
    },
    {
     "name": "stderr",
     "output_type": "stream",
     "text": [
      "C:\\Users\\Roberto\\AppData\\Local\\Temp\\ipykernel_3424\\790718335.py:21: FutureWarning: The frame.append method is deprecated and will be removed from pandas in a future version. Use pandas.concat instead.\n",
      "  df = df.append(elem.attrib, ignore_index=True)\n",
      "C:\\Users\\Roberto\\AppData\\Local\\Temp\\ipykernel_3424\\790718335.py:21: FutureWarning: The frame.append method is deprecated and will be removed from pandas in a future version. Use pandas.concat instead.\n",
      "  df = df.append(elem.attrib, ignore_index=True)\n",
      "C:\\Users\\Roberto\\AppData\\Local\\Temp\\ipykernel_3424\\790718335.py:21: FutureWarning: The frame.append method is deprecated and will be removed from pandas in a future version. Use pandas.concat instead.\n",
      "  df = df.append(elem.attrib, ignore_index=True)\n",
      "C:\\Users\\Roberto\\AppData\\Local\\Temp\\ipykernel_3424\\790718335.py:21: FutureWarning: The frame.append method is deprecated and will be removed from pandas in a future version. Use pandas.concat instead.\n",
      "  df = df.append(elem.attrib, ignore_index=True)\n",
      "C:\\Users\\Roberto\\AppData\\Local\\Temp\\ipykernel_3424\\790718335.py:21: FutureWarning: The frame.append method is deprecated and will be removed from pandas in a future version. Use pandas.concat instead.\n",
      "  df = df.append(elem.attrib, ignore_index=True)\n",
      "C:\\Users\\Roberto\\AppData\\Local\\Temp\\ipykernel_3424\\790718335.py:21: FutureWarning: The frame.append method is deprecated and will be removed from pandas in a future version. Use pandas.concat instead.\n",
      "  df = df.append(elem.attrib, ignore_index=True)\n",
      "C:\\Users\\Roberto\\AppData\\Local\\Temp\\ipykernel_3424\\790718335.py:21: FutureWarning: The frame.append method is deprecated and will be removed from pandas in a future version. Use pandas.concat instead.\n",
      "  df = df.append(elem.attrib, ignore_index=True)\n",
      "C:\\Users\\Roberto\\AppData\\Local\\Temp\\ipykernel_3424\\790718335.py:21: FutureWarning: The frame.append method is deprecated and will be removed from pandas in a future version. Use pandas.concat instead.\n",
      "  df = df.append(elem.attrib, ignore_index=True)\n",
      "C:\\Users\\Roberto\\AppData\\Local\\Temp\\ipykernel_3424\\790718335.py:21: FutureWarning: The frame.append method is deprecated and will be removed from pandas in a future version. Use pandas.concat instead.\n",
      "  df = df.append(elem.attrib, ignore_index=True)\n",
      "C:\\Users\\Roberto\\AppData\\Local\\Temp\\ipykernel_3424\\790718335.py:21: FutureWarning: The frame.append method is deprecated and will be removed from pandas in a future version. Use pandas.concat instead.\n",
      "  df = df.append(elem.attrib, ignore_index=True)\n",
      "C:\\Users\\Roberto\\AppData\\Local\\Temp\\ipykernel_3424\\790718335.py:21: FutureWarning: The frame.append method is deprecated and will be removed from pandas in a future version. Use pandas.concat instead.\n",
      "  df = df.append(elem.attrib, ignore_index=True)\n",
      "C:\\Users\\Roberto\\AppData\\Local\\Temp\\ipykernel_3424\\790718335.py:21: FutureWarning: The frame.append method is deprecated and will be removed from pandas in a future version. Use pandas.concat instead.\n",
      "  df = df.append(elem.attrib, ignore_index=True)\n",
      "C:\\Users\\Roberto\\AppData\\Local\\Temp\\ipykernel_3424\\790718335.py:21: FutureWarning: The frame.append method is deprecated and will be removed from pandas in a future version. Use pandas.concat instead.\n",
      "  df = df.append(elem.attrib, ignore_index=True)\n",
      "C:\\Users\\Roberto\\AppData\\Local\\Temp\\ipykernel_3424\\790718335.py:21: FutureWarning: The frame.append method is deprecated and will be removed from pandas in a future version. Use pandas.concat instead.\n",
      "  df = df.append(elem.attrib, ignore_index=True)\n",
      "C:\\Users\\Roberto\\AppData\\Local\\Temp\\ipykernel_3424\\790718335.py:21: FutureWarning: The frame.append method is deprecated and will be removed from pandas in a future version. Use pandas.concat instead.\n",
      "  df = df.append(elem.attrib, ignore_index=True)\n",
      "C:\\Users\\Roberto\\AppData\\Local\\Temp\\ipykernel_3424\\790718335.py:21: FutureWarning: The frame.append method is deprecated and will be removed from pandas in a future version. Use pandas.concat instead.\n",
      "  df = df.append(elem.attrib, ignore_index=True)\n",
      "C:\\Users\\Roberto\\AppData\\Local\\Temp\\ipykernel_3424\\790718335.py:21: FutureWarning: The frame.append method is deprecated and will be removed from pandas in a future version. Use pandas.concat instead.\n",
      "  df = df.append(elem.attrib, ignore_index=True)\n",
      "C:\\Users\\Roberto\\AppData\\Local\\Temp\\ipykernel_3424\\790718335.py:21: FutureWarning: The frame.append method is deprecated and will be removed from pandas in a future version. Use pandas.concat instead.\n",
      "  df = df.append(elem.attrib, ignore_index=True)\n"
     ]
    }
   ],
   "source": [
    "# loop over elements in the XML tree\n",
    "for elem in xml_root.iter():\n",
    "    \n",
    "    # check if the element has any attributes\n",
    "    if elem.attrib:\n",
    "\n",
    "        # compile a regular expression pattern to match text inside curly braces\n",
    "        tagname_regex_pattern = re.compile(r'\\{(.+?)\\}')\n",
    "        \n",
    "        # substitute the text inside curly braces with \"replaced\" and store the result\n",
    "        tag_without_braces = tagname_regex_pattern.sub('', elem.tag)\n",
    "        \n",
    "        # construct the DataFrame name with the modified tag name\n",
    "        df_tag = 'df_' + tag_without_braces\n",
    "        \n",
    "        # check if the DataFrame already exists in the local namespace\n",
    "        if df_tag in locals():\n",
    "            \n",
    "            # if it exists, retrieve it from the local namespace and append the element's attributes to it\n",
    "            df = locals()[df_tag]\n",
    "            df = df.append(elem.attrib, ignore_index=True)\n",
    "        else:\n",
    "            \n",
    "            # if it doesn't exist, create a new DataFrame with the element's attributes\n",
    "            df = pd.DataFrame([elem.attrib])\n",
    "        \n",
    "        # store the updated DataFrame in the local namespace\n",
    "        locals()[df_tag] = df\n",
    "        \n",
    "        # print the updated DataFrame to the console\n",
    "        #print(locals()[df_tag])\n",
    "        print(df_tag)\n"
   ]
  },
  {
   "cell_type": "code",
   "execution_count": 50,
   "metadata": {},
   "outputs": [
    {
     "name": "stdout",
     "output_type": "stream",
     "text": [
      "df_Comprobante\n",
      "df_Emisor\n",
      "df_Receptor\n",
      "df_Concepto\n",
      "df_Nomina\n",
      "df_Emisor\n",
      "df_Receptor\n",
      "df_Percepciones\n",
      "df_Percepcion\n",
      "df_Percepcion\n",
      "df_Deducciones\n",
      "df_Deduccion\n",
      "df_Deduccion\n",
      "df_Deduccion\n",
      "df_Deduccion\n",
      "df_OtroPago\n",
      "df_SubsidioAlEmpleo\n",
      "df_TimbreFiscalDigital\n"
     ]
    }
   ],
   "source": [
    "for elem in xml_root.iter():\n",
    "    if elem.attrib:\n",
    "        tagname_regex_pattern = re.compile(r'\\{(.+?)\\}')\n",
    "        tag_without_braces = tagname_regex_pattern.sub('', elem.tag)\n",
    "        df_tag = 'df_' + tag_without_braces\n",
    "        df_tag_value = (elem.attrib)\n",
    "        locals()[df_tag] = pd.DataFrame([df_tag_value])\n",
    "        print(df_tag)\n",
    "        #print(locals()[df_tag])"
   ]
  },
  {
   "cell_type": "code",
   "execution_count": 108,
   "metadata": {},
   "outputs": [
    {
     "name": "stdout",
     "output_type": "stream",
     "text": [
      "  {http://www.w3.org/2001/XMLSchema-instance}schemaLocation Version Serie  \\\n",
      "0  http://www.sat.gob.mx/cfd/3 http://www.sat.gob...            3.3   NOM   \n",
      "\n",
      "  Folio                Fecha  \\\n",
      "0  1334  2022-08-15T14:18:40   \n",
      "\n",
      "                                               Sello FormaPago  \\\n",
      "0  Te4Lmnf/eDgK5YLE2UC/LENClMEglH2XUavfiO1DS/Ym7G...        99   \n",
      "\n",
      "          NoCertificado                                        Certificado  \\\n",
      "0  00001000000508041177  MIIGAjCCA+qgAwIBAgIUMDAwMDEwMDAwMDA1MDgwNDExNz...   \n",
      "\n",
      "   SubTotal Descuento Moneda     Total TipoDeComprobante MetodoPago  \\\n",
      "0  43376.49  14787.52    MXN  28588.97                 N        PUE   \n",
      "\n",
      "  LugarExpedicion  \n",
      "0           64000  \n"
     ]
    }
   ],
   "source": [
    "print(df_Comprobante)"
   ]
  },
  {
   "attachments": {},
   "cell_type": "markdown",
   "metadata": {},
   "source": [
    "Testing part"
   ]
  },
  {
   "cell_type": "code",
   "execution_count": null,
   "metadata": {},
   "outputs": [],
   "source": [
    "[(elem.tag, elem.attrib,)  for elem in xml_root.iter()]   "
   ]
  }
 ],
 "metadata": {
  "kernelspec": {
   "display_name": "Python 3",
   "language": "python",
   "name": "python3"
  },
  "language_info": {
   "codemirror_mode": {
    "name": "ipython",
    "version": 3
   },
   "file_extension": ".py",
   "mimetype": "text/x-python",
   "name": "python",
   "nbconvert_exporter": "python",
   "pygments_lexer": "ipython3",
   "version": "3.10.8 (tags/v3.10.8:aaaf517, Oct 11 2022, 16:50:30) [MSC v.1933 64 bit (AMD64)]"
  },
  "orig_nbformat": 4,
  "vscode": {
   "interpreter": {
    "hash": "5071cda9a5660602aca701335f27c10e4afae7f60ddd820f1297d11c505cfd3c"
   }
  }
 },
 "nbformat": 4,
 "nbformat_minor": 2
}
