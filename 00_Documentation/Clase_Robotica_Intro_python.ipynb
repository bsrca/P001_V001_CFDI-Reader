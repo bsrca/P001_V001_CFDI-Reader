{
  "cells": [
    {
      "cell_type": "markdown",
      "metadata": {
        "id": "p5V0S11yu0bj"
      },
      "source": [
        "# __Curso Python para Industria 4.0__"
      ]
    },
    {
      "cell_type": "markdown",
      "metadata": {
        "id": "_2qWd0yBu0bw"
      },
      "source": [
        "### **_Python_** es un lenguaje de programación que es mantenido por una gran cantidad de usuarios. Python sólo contiene un conjunto restringido de funciones que ayudan a construir funciones más complejas. Los usuarios de Python han generado una gran cantidad de librerias o módulos que realizan todo tipo de funciones. Es trabajo del programador final integrar estas librerias para lograr resultados particulares.\n",
        "\n",
        "###   A continuación veremos algunas funciones útiles para a programación en general, sin embargo, haremos énfasis en elementos matemáticos que serán de utilidad en los temas que se tratan en este diplomado\n",
        "\n",
        "### Es suposición general, que los conocimientos previos de programación son básicos.\n",
        "\n",
        "## Iniciemos con lo básico:"
      ]
    },
    {
      "cell_type": "code",
      "execution_count": null,
      "metadata": {
        "id": "fAxgSwXQu0cS"
      },
      "outputs": [],
      "source": [
        "f=2.3\n"
      ]
    },
    {
      "cell_type": "code",
      "execution_count": null,
      "metadata": {
        "colab": {
          "base_uri": "https://localhost:8080/"
        },
        "id": "PITucqjFu0cW",
        "outputId": "1954969e-e8b2-4469-c36a-2c0b658c6927"
      },
      "outputs": [
        {
          "data": {
            "text/plain": [
              "False"
            ]
          },
          "execution_count": 2,
          "metadata": {
            "tags": []
          },
          "output_type": "execute_result"
        }
      ],
      "source": [
        "f.is_integer()\n"
      ]
    },
    {
      "cell_type": "code",
      "execution_count": null,
      "metadata": {
        "id": "mmlBHslou0cY"
      },
      "outputs": [],
      "source": [
        "s='hola'"
      ]
    },
    {
      "cell_type": "code",
      "execution_count": null,
      "metadata": {
        "id": "iScTUJEHu0cb"
      },
      "outputs": [],
      "source": [
        "f=2.3"
      ]
    },
    {
      "cell_type": "code",
      "execution_count": null,
      "metadata": {
        "id": "u8tdIa7Au0cc"
      },
      "outputs": [],
      "source": [
        "L=[3,7,2]\n"
      ]
    },
    {
      "cell_type": "code",
      "execution_count": null,
      "metadata": {
        "colab": {
          "base_uri": "https://localhost:8080/",
          "height": 35
        },
        "id": "2gu_Wiw_u0cd",
        "outputId": "09b3b022-b830-4413-be31-7de37768ea9a"
      },
      "outputs": [
        {
          "data": {
            "application/vnd.google.colaboratory.intrinsic+json": {
              "type": "string"
            },
            "text/plain": [
              "'HOLA'"
            ]
          },
          "execution_count": 6,
          "metadata": {
            "tags": []
          },
          "output_type": "execute_result"
        }
      ],
      "source": [
        "s.swapcase()\n"
      ]
    },
    {
      "cell_type": "code",
      "execution_count": null,
      "metadata": {
        "id": "poJBfkvZu0ce"
      },
      "outputs": [],
      "source": [
        "L.reverse()\n"
      ]
    },
    {
      "cell_type": "code",
      "execution_count": null,
      "metadata": {
        "colab": {
          "base_uri": "https://localhost:8080/"
        },
        "id": "zmkiSui9u0cg",
        "outputId": "83812215-627b-4a1f-aa67-133c461b84ad"
      },
      "outputs": [
        {
          "data": {
            "text/plain": [
              "3"
            ]
          },
          "execution_count": 8,
          "metadata": {
            "tags": []
          },
          "output_type": "execute_result"
        }
      ],
      "source": [
        "L.pop()\n"
      ]
    },
    {
      "cell_type": "code",
      "execution_count": null,
      "metadata": {
        "colab": {
          "base_uri": "https://localhost:8080/"
        },
        "id": "eIjeVskSu0ch",
        "outputId": "79fe7ac4-a4fb-4b7c-dcfd-56352246050c"
      },
      "outputs": [
        {
          "data": {
            "text/plain": [
              "<function float.is_integer>"
            ]
          },
          "execution_count": 9,
          "metadata": {
            "tags": []
          },
          "output_type": "execute_result"
        }
      ],
      "source": [
        "f.is_integer"
      ]
    },
    {
      "cell_type": "code",
      "execution_count": null,
      "metadata": {
        "id": "jejOEk7hu0ci"
      },
      "outputs": [],
      "source": [
        "L. reverse()"
      ]
    },
    {
      "cell_type": "code",
      "execution_count": null,
      "metadata": {
        "id": "yJhjsaIvu0ck"
      },
      "outputs": [],
      "source": [
        "L=[1, 'b', 2+1j, max, 'saludos clase']"
      ]
    },
    {
      "cell_type": "code",
      "execution_count": null,
      "metadata": {
        "id": "rtYAOCruu0cl"
      },
      "outputs": [],
      "source": [
        "a=2"
      ]
    },
    {
      "cell_type": "code",
      "execution_count": null,
      "metadata": {
        "colab": {
          "base_uri": "https://localhost:8080/"
        },
        "id": "W-9p8OqCu0cm",
        "outputId": "8979aac7-0cab-49ca-940d-ae19dd737361"
      },
      "outputs": [
        {
          "data": {
            "text/plain": [
              "2"
            ]
          },
          "execution_count": 13,
          "metadata": {
            "tags": []
          },
          "output_type": "execute_result"
        }
      ],
      "source": [
        "a"
      ]
    },
    {
      "cell_type": "code",
      "execution_count": null,
      "metadata": {
        "id": "raV0OeS1u0co"
      },
      "outputs": [],
      "source": [
        "b=3"
      ]
    },
    {
      "cell_type": "code",
      "execution_count": null,
      "metadata": {
        "colab": {
          "base_uri": "https://localhost:8080/"
        },
        "id": "M6EUcEo6u0cq",
        "outputId": "26d2dc37-86f1-4ef9-85ec-0dbc8b539177"
      },
      "outputs": [
        {
          "data": {
            "text/plain": [
              "5"
            ]
          },
          "execution_count": 15,
          "metadata": {
            "tags": []
          },
          "output_type": "execute_result"
        }
      ],
      "source": [
        "a+b"
      ]
    },
    {
      "cell_type": "code",
      "execution_count": null,
      "metadata": {
        "colab": {
          "base_uri": "https://localhost:8080/"
        },
        "id": "uCt4bkeEu0cs",
        "outputId": "8e05bc81-a80e-4491-94db-0ea5f8b6ba20"
      },
      "outputs": [
        {
          "data": {
            "text/plain": [
              "6"
            ]
          },
          "execution_count": 16,
          "metadata": {
            "tags": []
          },
          "output_type": "execute_result"
        }
      ],
      "source": [
        "a*b"
      ]
    },
    {
      "cell_type": "code",
      "execution_count": null,
      "metadata": {
        "colab": {
          "base_uri": "https://localhost:8080/"
        },
        "id": "oMsYSV7_u0ct",
        "outputId": "fdf23023-bcb0-4b60-9751-689cc5c2534b"
      },
      "outputs": [
        {
          "data": {
            "text/plain": [
              "0.3333333333333333"
            ]
          },
          "execution_count": 17,
          "metadata": {
            "tags": []
          },
          "output_type": "execute_result"
        }
      ],
      "source": [
        "a/6"
      ]
    },
    {
      "cell_type": "markdown",
      "metadata": {
        "id": "sH5UNUXsu0cv"
      },
      "source": [
        "## <p>Los módulos deben ser pre-cargados a la memoria del sistema para poder ser utilizados dentro del programa, la forma de llamar a las librerias es por medio del comando \"import\".\n",
        "<p>"
      ]
    },
    {
      "cell_type": "code",
      "execution_count": null,
      "metadata": {
        "id": "dCWhQxgmu0cx"
      },
      "outputs": [],
      "source": [
        "import numpy as np\n",
        "import matplotlib as plot_"
      ]
    },
    {
      "cell_type": "code",
      "execution_count": null,
      "metadata": {
        "colab": {
          "base_uri": "https://localhost:8080/"
        },
        "id": "CnAwvu6Mu0cy",
        "outputId": "ffdb1a2f-939b-4f13-ac74-7539235c6420"
      },
      "outputs": [
        {
          "data": {
            "text/plain": [
              "['ALLOW_THREADS',\n",
              " 'AxisError',\n",
              " 'BUFSIZE',\n",
              " 'CLIP',\n",
              " 'ComplexWarning',\n",
              " 'DataSource',\n",
              " 'ERR_CALL',\n",
              " 'ERR_DEFAULT',\n",
              " 'ERR_IGNORE',\n",
              " 'ERR_LOG',\n",
              " 'ERR_PRINT',\n",
              " 'ERR_RAISE',\n",
              " 'ERR_WARN',\n",
              " 'FLOATING_POINT_SUPPORT',\n",
              " 'FPE_DIVIDEBYZERO',\n",
              " 'FPE_INVALID',\n",
              " 'FPE_OVERFLOW',\n",
              " 'FPE_UNDERFLOW',\n",
              " 'False_',\n",
              " 'Inf',\n",
              " 'Infinity',\n",
              " 'MAXDIMS',\n",
              " 'MAY_SHARE_BOUNDS',\n",
              " 'MAY_SHARE_EXACT',\n",
              " 'MachAr',\n",
              " 'ModuleDeprecationWarning',\n",
              " 'NAN',\n",
              " 'NINF',\n",
              " 'NZERO',\n",
              " 'NaN',\n",
              " 'PINF',\n",
              " 'PZERO',\n",
              " 'RAISE',\n",
              " 'RankWarning',\n",
              " 'SHIFT_DIVIDEBYZERO',\n",
              " 'SHIFT_INVALID',\n",
              " 'SHIFT_OVERFLOW',\n",
              " 'SHIFT_UNDERFLOW',\n",
              " 'ScalarType',\n",
              " 'Tester',\n",
              " 'TooHardError',\n",
              " 'True_',\n",
              " 'UFUNC_BUFSIZE_DEFAULT',\n",
              " 'UFUNC_PYVALS_NAME',\n",
              " 'VisibleDeprecationWarning',\n",
              " 'WRAP',\n",
              " '_NoValue',\n",
              " '_UFUNC_API',\n",
              " '__NUMPY_SETUP__',\n",
              " '__all__',\n",
              " '__builtins__',\n",
              " '__cached__',\n",
              " '__config__',\n",
              " '__doc__',\n",
              " '__file__',\n",
              " '__git_revision__',\n",
              " '__loader__',\n",
              " '__name__',\n",
              " '__package__',\n",
              " '__path__',\n",
              " '__spec__',\n",
              " '__version__',\n",
              " '_add_newdoc_ufunc',\n",
              " '_distributor_init',\n",
              " '_globals',\n",
              " '_mat',\n",
              " '_pytesttester',\n",
              " 'abs',\n",
              " 'absolute',\n",
              " 'add',\n",
              " 'add_docstring',\n",
              " 'add_newdoc',\n",
              " 'add_newdoc_ufunc',\n",
              " 'alen',\n",
              " 'all',\n",
              " 'allclose',\n",
              " 'alltrue',\n",
              " 'amax',\n",
              " 'amin',\n",
              " 'angle',\n",
              " 'any',\n",
              " 'append',\n",
              " 'apply_along_axis',\n",
              " 'apply_over_axes',\n",
              " 'arange',\n",
              " 'arccos',\n",
              " 'arccosh',\n",
              " 'arcsin',\n",
              " 'arcsinh',\n",
              " 'arctan',\n",
              " 'arctan2',\n",
              " 'arctanh',\n",
              " 'argmax',\n",
              " 'argmin',\n",
              " 'argpartition',\n",
              " 'argsort',\n",
              " 'argwhere',\n",
              " 'around',\n",
              " 'array',\n",
              " 'array2string',\n",
              " 'array_equal',\n",
              " 'array_equiv',\n",
              " 'array_repr',\n",
              " 'array_split',\n",
              " 'array_str',\n",
              " 'asanyarray',\n",
              " 'asarray',\n",
              " 'asarray_chkfinite',\n",
              " 'ascontiguousarray',\n",
              " 'asfarray',\n",
              " 'asfortranarray',\n",
              " 'asmatrix',\n",
              " 'asscalar',\n",
              " 'atleast_1d',\n",
              " 'atleast_2d',\n",
              " 'atleast_3d',\n",
              " 'average',\n",
              " 'bartlett',\n",
              " 'base_repr',\n",
              " 'binary_repr',\n",
              " 'bincount',\n",
              " 'bitwise_and',\n",
              " 'bitwise_not',\n",
              " 'bitwise_or',\n",
              " 'bitwise_xor',\n",
              " 'blackman',\n",
              " 'block',\n",
              " 'bmat',\n",
              " 'bool',\n",
              " 'bool8',\n",
              " 'bool_',\n",
              " 'broadcast',\n",
              " 'broadcast_arrays',\n",
              " 'broadcast_to',\n",
              " 'busday_count',\n",
              " 'busday_offset',\n",
              " 'busdaycalendar',\n",
              " 'byte',\n",
              " 'byte_bounds',\n",
              " 'bytes0',\n",
              " 'bytes_',\n",
              " 'c_',\n",
              " 'can_cast',\n",
              " 'cast',\n",
              " 'cbrt',\n",
              " 'cdouble',\n",
              " 'ceil',\n",
              " 'cfloat',\n",
              " 'char',\n",
              " 'character',\n",
              " 'chararray',\n",
              " 'choose',\n",
              " 'clip',\n",
              " 'clongdouble',\n",
              " 'clongfloat',\n",
              " 'column_stack',\n",
              " 'common_type',\n",
              " 'compare_chararrays',\n",
              " 'compat',\n",
              " 'complex',\n",
              " 'complex128',\n",
              " 'complex256',\n",
              " 'complex64',\n",
              " 'complex_',\n",
              " 'complexfloating',\n",
              " 'compress',\n",
              " 'concatenate',\n",
              " 'conj',\n",
              " 'conjugate',\n",
              " 'convolve',\n",
              " 'copy',\n",
              " 'copysign',\n",
              " 'copyto',\n",
              " 'core',\n",
              " 'corrcoef',\n",
              " 'correlate',\n",
              " 'cos',\n",
              " 'cosh',\n",
              " 'count_nonzero',\n",
              " 'cov',\n",
              " 'cross',\n",
              " 'csingle',\n",
              " 'ctypeslib',\n",
              " 'cumprod',\n",
              " 'cumproduct',\n",
              " 'cumsum',\n",
              " 'datetime64',\n",
              " 'datetime_as_string',\n",
              " 'datetime_data',\n",
              " 'deg2rad',\n",
              " 'degrees',\n",
              " 'delete',\n",
              " 'deprecate',\n",
              " 'deprecate_with_doc',\n",
              " 'diag',\n",
              " 'diag_indices',\n",
              " 'diag_indices_from',\n",
              " 'diagflat',\n",
              " 'diagonal',\n",
              " 'diff',\n",
              " 'digitize',\n",
              " 'disp',\n",
              " 'divide',\n",
              " 'divmod',\n",
              " 'dot',\n",
              " 'double',\n",
              " 'dsplit',\n",
              " 'dstack',\n",
              " 'dtype',\n",
              " 'e',\n",
              " 'ediff1d',\n",
              " 'einsum',\n",
              " 'einsum_path',\n",
              " 'emath',\n",
              " 'empty',\n",
              " 'empty_like',\n",
              " 'equal',\n",
              " 'errstate',\n",
              " 'euler_gamma',\n",
              " 'exp',\n",
              " 'exp2',\n",
              " 'expand_dims',\n",
              " 'expm1',\n",
              " 'extract',\n",
              " 'eye',\n",
              " 'fabs',\n",
              " 'fastCopyAndTranspose',\n",
              " 'fft',\n",
              " 'fill_diagonal',\n",
              " 'find_common_type',\n",
              " 'finfo',\n",
              " 'fix',\n",
              " 'flatiter',\n",
              " 'flatnonzero',\n",
              " 'flexible',\n",
              " 'flip',\n",
              " 'fliplr',\n",
              " 'flipud',\n",
              " 'float',\n",
              " 'float128',\n",
              " 'float16',\n",
              " 'float32',\n",
              " 'float64',\n",
              " 'float_',\n",
              " 'float_power',\n",
              " 'floating',\n",
              " 'floor',\n",
              " 'floor_divide',\n",
              " 'fmax',\n",
              " 'fmin',\n",
              " 'fmod',\n",
              " 'format_float_positional',\n",
              " 'format_float_scientific',\n",
              " 'format_parser',\n",
              " 'frexp',\n",
              " 'frombuffer',\n",
              " 'fromfile',\n",
              " 'fromfunction',\n",
              " 'fromiter',\n",
              " 'frompyfunc',\n",
              " 'fromregex',\n",
              " 'fromstring',\n",
              " 'full',\n",
              " 'full_like',\n",
              " 'fv',\n",
              " 'gcd',\n",
              " 'generic',\n",
              " 'genfromtxt',\n",
              " 'geomspace',\n",
              " 'get_array_wrap',\n",
              " 'get_include',\n",
              " 'get_printoptions',\n",
              " 'getbufsize',\n",
              " 'geterr',\n",
              " 'geterrcall',\n",
              " 'geterrobj',\n",
              " 'gradient',\n",
              " 'greater',\n",
              " 'greater_equal',\n",
              " 'half',\n",
              " 'hamming',\n",
              " 'hanning',\n",
              " 'heaviside',\n",
              " 'histogram',\n",
              " 'histogram2d',\n",
              " 'histogram_bin_edges',\n",
              " 'histogramdd',\n",
              " 'hsplit',\n",
              " 'hstack',\n",
              " 'hypot',\n",
              " 'i0',\n",
              " 'identity',\n",
              " 'iinfo',\n",
              " 'imag',\n",
              " 'in1d',\n",
              " 'index_exp',\n",
              " 'indices',\n",
              " 'inexact',\n",
              " 'inf',\n",
              " 'info',\n",
              " 'infty',\n",
              " 'inner',\n",
              " 'insert',\n",
              " 'int',\n",
              " 'int0',\n",
              " 'int16',\n",
              " 'int32',\n",
              " 'int64',\n",
              " 'int8',\n",
              " 'int_',\n",
              " 'intc',\n",
              " 'integer',\n",
              " 'interp',\n",
              " 'intersect1d',\n",
              " 'intp',\n",
              " 'invert',\n",
              " 'ipmt',\n",
              " 'irr',\n",
              " 'is_busday',\n",
              " 'isclose',\n",
              " 'iscomplex',\n",
              " 'iscomplexobj',\n",
              " 'isfinite',\n",
              " 'isfortran',\n",
              " 'isin',\n",
              " 'isinf',\n",
              " 'isnan',\n",
              " 'isnat',\n",
              " 'isneginf',\n",
              " 'isposinf',\n",
              " 'isreal',\n",
              " 'isrealobj',\n",
              " 'isscalar',\n",
              " 'issctype',\n",
              " 'issubclass_',\n",
              " 'issubdtype',\n",
              " 'issubsctype',\n",
              " 'iterable',\n",
              " 'ix_',\n",
              " 'kaiser',\n",
              " 'kernel_version',\n",
              " 'kron',\n",
              " 'lcm',\n",
              " 'ldexp',\n",
              " 'left_shift',\n",
              " 'less',\n",
              " 'less_equal',\n",
              " 'lexsort',\n",
              " 'lib',\n",
              " 'linalg',\n",
              " 'linspace',\n",
              " 'little_endian',\n",
              " 'load',\n",
              " 'loads',\n",
              " 'loadtxt',\n",
              " 'log',\n",
              " 'log10',\n",
              " 'log1p',\n",
              " 'log2',\n",
              " 'logaddexp',\n",
              " 'logaddexp2',\n",
              " 'logical_and',\n",
              " 'logical_not',\n",
              " 'logical_or',\n",
              " 'logical_xor',\n",
              " 'logspace',\n",
              " 'long',\n",
              " 'longcomplex',\n",
              " 'longdouble',\n",
              " 'longfloat',\n",
              " 'longlong',\n",
              " 'lookfor',\n",
              " 'ma',\n",
              " 'mafromtxt',\n",
              " 'mask_indices',\n",
              " 'mat',\n",
              " 'math',\n",
              " 'matmul',\n",
              " 'matrix',\n",
              " 'matrixlib',\n",
              " 'max',\n",
              " 'maximum',\n",
              " 'maximum_sctype',\n",
              " 'may_share_memory',\n",
              " 'mean',\n",
              " 'median',\n",
              " 'memmap',\n",
              " 'meshgrid',\n",
              " 'mgrid',\n",
              " 'min',\n",
              " 'min_scalar_type',\n",
              " 'minimum',\n",
              " 'mintypecode',\n",
              " 'mirr',\n",
              " 'mod',\n",
              " 'modf',\n",
              " 'moveaxis',\n",
              " 'msort',\n",
              " 'multiply',\n",
              " 'nan',\n",
              " 'nan_to_num',\n",
              " 'nanargmax',\n",
              " 'nanargmin',\n",
              " 'nancumprod',\n",
              " 'nancumsum',\n",
              " 'nanmax',\n",
              " 'nanmean',\n",
              " 'nanmedian',\n",
              " 'nanmin',\n",
              " 'nanpercentile',\n",
              " 'nanprod',\n",
              " 'nanquantile',\n",
              " 'nanstd',\n",
              " 'nansum',\n",
              " 'nanvar',\n",
              " 'nbytes',\n",
              " 'ndarray',\n",
              " 'ndenumerate',\n",
              " 'ndfromtxt',\n",
              " 'ndim',\n",
              " 'ndindex',\n",
              " 'nditer',\n",
              " 'negative',\n",
              " 'nested_iters',\n",
              " 'newaxis',\n",
              " 'nextafter',\n",
              " 'nonzero',\n",
              " 'not_equal',\n",
              " 'nper',\n",
              " 'npv',\n",
              " 'numarray',\n",
              " 'number',\n",
              " 'obj2sctype',\n",
              " 'object',\n",
              " 'object0',\n",
              " 'object_',\n",
              " 'ogrid',\n",
              " 'oldnumeric',\n",
              " 'ones',\n",
              " 'ones_like',\n",
              " 'os',\n",
              " 'outer',\n",
              " 'packbits',\n",
              " 'pad',\n",
              " 'partition',\n",
              " 'percentile',\n",
              " 'pi',\n",
              " 'piecewise',\n",
              " 'place',\n",
              " 'pmt',\n",
              " 'poly',\n",
              " 'poly1d',\n",
              " 'polyadd',\n",
              " 'polyder',\n",
              " 'polydiv',\n",
              " 'polyfit',\n",
              " 'polyint',\n",
              " 'polymul',\n",
              " 'polynomial',\n",
              " 'polysub',\n",
              " 'polyval',\n",
              " 'positive',\n",
              " 'power',\n",
              " 'ppmt',\n",
              " 'printoptions',\n",
              " 'prod',\n",
              " 'product',\n",
              " 'promote_types',\n",
              " 'ptp',\n",
              " 'put',\n",
              " 'put_along_axis',\n",
              " 'putmask',\n",
              " 'pv',\n",
              " 'quantile',\n",
              " 'r_',\n",
              " 'rad2deg',\n",
              " 'radians',\n",
              " 'random',\n",
              " 'rate',\n",
              " 'ravel',\n",
              " 'ravel_multi_index',\n",
              " 'real',\n",
              " 'real_if_close',\n",
              " 'rec',\n",
              " 'recarray',\n",
              " 'recfromcsv',\n",
              " 'recfromtxt',\n",
              " 'reciprocal',\n",
              " 'record',\n",
              " 'remainder',\n",
              " 'repeat',\n",
              " 'require',\n",
              " 'reshape',\n",
              " 'resize',\n",
              " 'result_type',\n",
              " 'right_shift',\n",
              " 'rint',\n",
              " 'roll',\n",
              " 'rollaxis',\n",
              " 'roots',\n",
              " 'rot90',\n",
              " 'round',\n",
              " 'round_',\n",
              " 'row_stack',\n",
              " 's_',\n",
              " 'safe_eval',\n",
              " 'save',\n",
              " 'savetxt',\n",
              " 'savez',\n",
              " 'savez_compressed',\n",
              " 'sctype2char',\n",
              " 'sctypeDict',\n",
              " 'sctypeNA',\n",
              " 'sctypes',\n",
              " 'searchsorted',\n",
              " 'select',\n",
              " 'set_numeric_ops',\n",
              " 'set_printoptions',\n",
              " 'set_string_function',\n",
              " 'setbufsize',\n",
              " 'setdiff1d',\n",
              " 'seterr',\n",
              " 'seterrcall',\n",
              " 'seterrobj',\n",
              " 'setxor1d',\n",
              " 'shape',\n",
              " 'shares_memory',\n",
              " 'short',\n",
              " 'show_config',\n",
              " 'sign',\n",
              " 'signbit',\n",
              " 'signedinteger',\n",
              " 'sin',\n",
              " 'sinc',\n",
              " 'single',\n",
              " 'singlecomplex',\n",
              " 'sinh',\n",
              " 'size',\n",
              " 'sometrue',\n",
              " 'sort',\n",
              " 'sort_complex',\n",
              " 'source',\n",
              " 'spacing',\n",
              " 'split',\n",
              " 'sqrt',\n",
              " 'square',\n",
              " 'squeeze',\n",
              " 'stack',\n",
              " 'std',\n",
              " 'str',\n",
              " 'str0',\n",
              " 'str_',\n",
              " 'string_',\n",
              " 'subtract',\n",
              " 'sum',\n",
              " 'swapaxes',\n",
              " 'sys',\n",
              " 'take',\n",
              " 'take_along_axis',\n",
              " 'tan',\n",
              " 'tanh',\n",
              " 'tensordot',\n",
              " 'test',\n",
              " 'testing',\n",
              " 'tile',\n",
              " 'timedelta64',\n",
              " 'trace',\n",
              " 'tracemalloc_domain',\n",
              " 'transpose',\n",
              " 'trapz',\n",
              " 'tri',\n",
              " 'tril',\n",
              " 'tril_indices',\n",
              " 'tril_indices_from',\n",
              " 'trim_zeros',\n",
              " 'triu',\n",
              " 'triu_indices',\n",
              " 'triu_indices_from',\n",
              " 'true_divide',\n",
              " 'trunc',\n",
              " 'typeDict',\n",
              " 'typeNA',\n",
              " 'typecodes',\n",
              " 'typename',\n",
              " 'ubyte',\n",
              " 'ufunc',\n",
              " 'uint',\n",
              " 'uint0',\n",
              " 'uint16',\n",
              " 'uint32',\n",
              " 'uint64',\n",
              " 'uint8',\n",
              " 'uintc',\n",
              " 'uintp',\n",
              " 'ulonglong',\n",
              " 'unicode',\n",
              " 'unicode_',\n",
              " 'union1d',\n",
              " 'unique',\n",
              " 'unpackbits',\n",
              " 'unravel_index',\n",
              " 'unsignedinteger',\n",
              " 'unwrap',\n",
              " 'use_hugepage',\n",
              " 'ushort',\n",
              " 'vander',\n",
              " 'var',\n",
              " 'vdot',\n",
              " 'vectorize',\n",
              " 'version',\n",
              " 'void',\n",
              " 'void0',\n",
              " 'vsplit',\n",
              " 'vstack',\n",
              " 'warnings',\n",
              " 'where',\n",
              " 'who',\n",
              " 'zeros',\n",
              " 'zeros_like']"
            ]
          },
          "execution_count": 7,
          "metadata": {
            "tags": []
          },
          "output_type": "execute_result"
        }
      ],
      "source": [
        "dir(np)"
      ]
    },
    {
      "cell_type": "code",
      "execution_count": null,
      "metadata": {
        "colab": {
          "base_uri": "https://localhost:8080/"
        },
        "id": "IolnEf82u0cz",
        "outputId": "71560b2d-6ab2-4a97-a239-16a420ec6085"
      },
      "outputs": [
        {
          "data": {
            "text/plain": [
              "['__abs__',\n",
              " '__add__',\n",
              " '__and__',\n",
              " '__bool__',\n",
              " '__ceil__',\n",
              " '__class__',\n",
              " '__delattr__',\n",
              " '__dir__',\n",
              " '__divmod__',\n",
              " '__doc__',\n",
              " '__eq__',\n",
              " '__float__',\n",
              " '__floor__',\n",
              " '__floordiv__',\n",
              " '__format__',\n",
              " '__ge__',\n",
              " '__getattribute__',\n",
              " '__getnewargs__',\n",
              " '__gt__',\n",
              " '__hash__',\n",
              " '__index__',\n",
              " '__init__',\n",
              " '__init_subclass__',\n",
              " '__int__',\n",
              " '__invert__',\n",
              " '__le__',\n",
              " '__lshift__',\n",
              " '__lt__',\n",
              " '__mod__',\n",
              " '__mul__',\n",
              " '__ne__',\n",
              " '__neg__',\n",
              " '__new__',\n",
              " '__or__',\n",
              " '__pos__',\n",
              " '__pow__',\n",
              " '__radd__',\n",
              " '__rand__',\n",
              " '__rdivmod__',\n",
              " '__reduce__',\n",
              " '__reduce_ex__',\n",
              " '__repr__',\n",
              " '__rfloordiv__',\n",
              " '__rlshift__',\n",
              " '__rmod__',\n",
              " '__rmul__',\n",
              " '__ror__',\n",
              " '__round__',\n",
              " '__rpow__',\n",
              " '__rrshift__',\n",
              " '__rshift__',\n",
              " '__rsub__',\n",
              " '__rtruediv__',\n",
              " '__rxor__',\n",
              " '__setattr__',\n",
              " '__sizeof__',\n",
              " '__str__',\n",
              " '__sub__',\n",
              " '__subclasshook__',\n",
              " '__truediv__',\n",
              " '__trunc__',\n",
              " '__xor__',\n",
              " 'bit_length',\n",
              " 'conjugate',\n",
              " 'denominator',\n",
              " 'from_bytes',\n",
              " 'imag',\n",
              " 'numerator',\n",
              " 'real',\n",
              " 'to_bytes']"
            ]
          },
          "execution_count": 8,
          "metadata": {
            "tags": []
          },
          "output_type": "execute_result"
        }
      ],
      "source": [
        "dir(3)\n"
      ]
    },
    {
      "cell_type": "code",
      "execution_count": null,
      "metadata": {
        "colab": {
          "base_uri": "https://localhost:8080/"
        },
        "id": "ntN7dZ8fu0c1",
        "outputId": "f75d735a-4d9f-43ab-ad5d-5efd6fe0ffbf"
      },
      "outputs": [
        {
          "data": {
            "text/plain": [
              "0.1411200080598672"
            ]
          },
          "execution_count": 9,
          "metadata": {
            "tags": []
          },
          "output_type": "execute_result"
        }
      ],
      "source": [
        "np.sin(3)\n"
      ]
    },
    {
      "cell_type": "markdown",
      "metadata": {
        "id": "vtZWkN9vu0c2"
      },
      "source": [
        "## Un arreglo (array) es un conjunto de números que son del mismo tipo. En Python es conveniente utilizar arreglos de números como el que provee la libreria de numpy.\n"
      ]
    },
    {
      "cell_type": "code",
      "execution_count": null,
      "metadata": {
        "colab": {
          "base_uri": "https://localhost:8080/",
          "height": 168
        },
        "id": "mOjUWGB7u0c3",
        "outputId": "a70be157-1c7d-4ddc-f8b7-5d4e1526221d"
      },
      "outputs": [
        {
          "ename": "NameError",
          "evalue": "ignored",
          "output_type": "error",
          "traceback": [
            "\u001b[0;31m---------------------------------------------------------------------------\u001b[0m",
            "\u001b[0;31mNameError\u001b[0m                                 Traceback (most recent call last)",
            "\u001b[0;32m<ipython-input-1-1bf970debbff>\u001b[0m in \u001b[0;36m<module>\u001b[0;34m()\u001b[0m\n\u001b[0;32m----> 1\u001b[0;31m \u001b[0ma\u001b[0m \u001b[0;34m=\u001b[0m \u001b[0mnp\u001b[0m\u001b[0;34m.\u001b[0m\u001b[0mzeros\u001b[0m\u001b[0;34m(\u001b[0m\u001b[0;36m5\u001b[0m\u001b[0;34m)\u001b[0m\u001b[0;34m\u001b[0m\u001b[0;34m\u001b[0m\u001b[0m\n\u001b[0m",
            "\u001b[0;31mNameError\u001b[0m: name 'np' is not defined"
          ]
        }
      ],
      "source": [
        "a = np.zeros(5)"
      ]
    },
    {
      "cell_type": "code",
      "execution_count": null,
      "metadata": {
        "colab": {
          "base_uri": "https://localhost:8080/",
          "height": 168
        },
        "id": "bEwGbS9du0c4",
        "outputId": "6bf65822-0622-4179-df74-30ea1f02195c"
      },
      "outputs": [
        {
          "ename": "NameError",
          "evalue": "ignored",
          "output_type": "error",
          "traceback": [
            "\u001b[0;31m---------------------------------------------------------------------------\u001b[0m",
            "\u001b[0;31mNameError\u001b[0m                                 Traceback (most recent call last)",
            "\u001b[0;32m<ipython-input-2-2393211321ab>\u001b[0m in \u001b[0;36m<module>\u001b[0;34m()\u001b[0m\n\u001b[0;32m----> 1\u001b[0;31m \u001b[0mprint\u001b[0m\u001b[0;34m(\u001b[0m\u001b[0;34m\"Los valores guardados en la tupla a son:\"\u001b[0m \u001b[0;34m,\u001b[0m \u001b[0ma\u001b[0m\u001b[0;34m)\u001b[0m\u001b[0;34m\u001b[0m\u001b[0;34m\u001b[0m\u001b[0m\n\u001b[0m",
            "\u001b[0;31mNameError\u001b[0m: name 'a' is not defined"
          ]
        }
      ],
      "source": [
        "print(\"Los valores guardados en la tupla a son:\" , a)"
      ]
    },
    {
      "cell_type": "code",
      "execution_count": null,
      "metadata": {
        "id": "bM4_2BCBu0c6"
      },
      "outputs": [],
      "source": [
        "dir(np)"
      ]
    },
    {
      "cell_type": "code",
      "execution_count": null,
      "metadata": {
        "id": "vAWEtLrKu0c7"
      },
      "outputs": [],
      "source": [
        "type(a)"
      ]
    },
    {
      "cell_type": "code",
      "execution_count": null,
      "metadata": {
        "id": "XcCnuibgu0c9"
      },
      "outputs": [],
      "source": [
        "a = np.arange(1, 10)"
      ]
    },
    {
      "cell_type": "code",
      "execution_count": null,
      "metadata": {
        "id": "3cmnXeRau0c-"
      },
      "outputs": [],
      "source": [
        "print(a)"
      ]
    },
    {
      "cell_type": "code",
      "execution_count": null,
      "metadata": {
        "id": "jVhAEXL6u0c_"
      },
      "outputs": [],
      "source": [
        "a = np.arange(1,10,3)"
      ]
    },
    {
      "cell_type": "code",
      "execution_count": null,
      "metadata": {
        "id": "--XTkVqLu0dA"
      },
      "outputs": [],
      "source": [
        "print(a)"
      ]
    },
    {
      "cell_type": "code",
      "execution_count": null,
      "metadata": {
        "id": "M9HRVajDu0dB"
      },
      "outputs": [],
      "source": [
        "x_min = 0\n",
        "x_max = 100\n",
        "dx = 5\n",
        "x_array = np.arange(x_min, x_max+dx, dx)"
      ]
    },
    {
      "cell_type": "code",
      "execution_count": null,
      "metadata": {
        "id": "gxYtBySGu0dC"
      },
      "outputs": [],
      "source": [
        "print(x_array)"
      ]
    },
    {
      "cell_type": "code",
      "execution_count": null,
      "metadata": {
        "id": "jk3tMHpOu0dD"
      },
      "outputs": [],
      "source": [
        "A = np.array ([[2,3,5],[7,11,13]])"
      ]
    },
    {
      "cell_type": "code",
      "execution_count": null,
      "metadata": {
        "id": "c_p1p_Oju0dE"
      },
      "outputs": [],
      "source": [
        "print(A)"
      ]
    },
    {
      "cell_type": "code",
      "execution_count": null,
      "metadata": {
        "id": "y4Z8kQ9Su0dF"
      },
      "outputs": [],
      "source": [
        "A[0]"
      ]
    },
    {
      "cell_type": "code",
      "execution_count": null,
      "metadata": {
        "id": "YT0halbLu0dG"
      },
      "outputs": [],
      "source": [
        "A[0][2]"
      ]
    },
    {
      "cell_type": "markdown",
      "metadata": {
        "id": "ytouoD0Yu0dH"
      },
      "source": [
        "Queremos modificar el 3er elemento de la primer tupla:"
      ]
    },
    {
      "cell_type": "code",
      "execution_count": null,
      "metadata": {
        "id": "VEL8qa2su0dJ"
      },
      "outputs": [],
      "source": [
        "A[0][2] = 25 + 2"
      ]
    },
    {
      "cell_type": "code",
      "execution_count": null,
      "metadata": {
        "id": "Ah12_oQfu0dK"
      },
      "outputs": [],
      "source": [
        "print(A)"
      ]
    },
    {
      "cell_type": "markdown",
      "metadata": {
        "id": "-8uwYWglu0dL"
      },
      "source": [
        "# Estructuras de control, ciclos for y while."
      ]
    },
    {
      "cell_type": "markdown",
      "metadata": {
        "id": "r0z1IgKuu0dM"
      },
      "source": [
        "## Ciclos For"
      ]
    },
    {
      "cell_type": "code",
      "execution_count": null,
      "metadata": {
        "id": "hflEciPfu0dN"
      },
      "outputs": [],
      "source": [
        "import numpy as np # Recuerde siempre cargar las bibliotecas o módulos a utilizar en el programa."
      ]
    },
    {
      "cell_type": "code",
      "execution_count": null,
      "metadata": {
        "id": "BBer87Rfu0dO"
      },
      "outputs": [],
      "source": [
        "b,c = 2, -1"
      ]
    },
    {
      "cell_type": "code",
      "execution_count": null,
      "metadata": {
        "id": "gAajUkjtu0dO"
      },
      "outputs": [],
      "source": [
        "print (b , c)"
      ]
    },
    {
      "cell_type": "markdown",
      "metadata": {
        "id": "yOuRZJqHu0dP"
      },
      "source": [
        "### importancia de la indentación, porque el colon al final de for? bloques."
      ]
    },
    {
      "cell_type": "code",
      "execution_count": null,
      "metadata": {
        "id": "nUoLgzpuu0dQ"
      },
      "outputs": [],
      "source": [
        "for a in np.arange(-1, 2, 0.3):\n",
        "    x = (-b + np.sqrt(b**2 - 4*a*c)) / (2*a)\n",
        "    print(\"a = {:.4f}, x={:.4f}\" .format(a, x) )"
      ]
    },
    {
      "cell_type": "markdown",
      "metadata": {
        "id": "Dpqef0iwu0dR"
      },
      "source": [
        "## Ciclos while"
      ]
    },
    {
      "cell_type": "markdown",
      "metadata": {
        "id": "O5XY_oszu0dR"
      },
      "source": [
        "### Diferencia entre un ciclo while y un ciclo for."
      ]
    },
    {
      "cell_type": "code",
      "execution_count": null,
      "metadata": {
        "id": "UAFjC10bu0dS"
      },
      "outputs": [],
      "source": [
        "a, b, c = 2, 6, -1"
      ]
    },
    {
      "cell_type": "code",
      "execution_count": null,
      "metadata": {
        "id": "5asOSGKlu0dT"
      },
      "outputs": [],
      "source": [
        "while (b**2 - 4*a*c) >= 0:\n",
        "    x = (-b + np.sqrt(b**2 - 4*a*c))/(2*a)\n",
        "    print (\"a = {:.4f}, x={:.4f}\" .format(a, x) )\n",
        "    a = a - 0.3\n",
        "print(\"Tarea terminada.\")"
      ]
    },
    {
      "cell_type": "markdown",
      "metadata": {
        "id": "OsDLlhOku0dU"
      },
      "source": [
        "### Anidacion, bifurcaciones y sentencias if - else"
      ]
    },
    {
      "cell_type": "code",
      "execution_count": null,
      "metadata": {
        "id": "bjRXyv3Du0dU"
      },
      "outputs": [],
      "source": [
        "import numpy as np"
      ]
    },
    {
      "cell_type": "code",
      "execution_count": null,
      "metadata": {
        "id": "3dYdkDcXu0dV"
      },
      "outputs": [],
      "source": [
        "import numpy as np\n",
        "for trial in range(5):\n",
        "    userInput = input('Escoja un número: ')\n",
        "    numero = float(userInput)\n",
        "    if numero < 0:\n",
        "        print('La raíz cuadrada no es real')\n",
        "    else:\n",
        "        print('La raíz cuadrada de {} es {:.4f}' .format(numero, np.sqrt(numero)))\n",
        "    repeticion = input('Otro número [s/n]?')\n",
        "    if repeticion != 's':\n",
        "        break\n",
        "if trial == 4:\n",
        "    print('Lo siento, solo 5 intentos.')\n",
        "elif repeticion == 'n':\n",
        "    print('Hasta luego!')\n",
        "else:\n",
        "    print('Lo siento, no entiendo...')\n",
        "        "
      ]
    },
    {
      "cell_type": "markdown",
      "metadata": {
        "id": "peuuufTEu0dW"
      },
      "source": [
        "Repaso de sesiones previas.\n",
        "\n",
        "En sesiones previas se han visto las principales operaciones aritméticas, a continuación se presentan las operaciones aritméticas y lógicas en Python y su orden de precedencia:\n",
        "\n",
        "Operadores       Agrupación          Tipo de operación\n",
        "    ()           Izq. a derecha      paréntesis\n",
        "    **           Derecha a Izq.      exponenciación\n",
        "    * / // %     Izq. a Der.         Multiplicación, división verdadera, división entera, resto.\n",
        "    + -          Izq. a Der.         Adición, substracción.\n",
        "    > >= < <=    Izq. a Der.         Mayor que, Mayor o igual que, menor que, menor o igual que.\n",
        "    == !=        Izq. a Der.         Igual, no igual."
      ]
    },
    {
      "cell_type": "markdown",
      "metadata": {
        "id": "4YHkbJAtu0dX"
      },
      "source": [
        "La sintaxis para llamar a una función es:\n",
        "    funcion(.), \n",
        "    donde funcion es el nombre de la función y el paréntesis encierra al argumento que se pasa a la función.\n",
        "    Paython posee muchas funciones por default, las cuales permiten llevar a cabo tareas sencillas, tales como iprimir un mensaje."
      ]
    },
    {
      "cell_type": "code",
      "execution_count": null,
      "metadata": {
        "id": "2VvKomkju0dY"
      },
      "outputs": [],
      "source": [
        "print('El día de \\'hoy\\' es viernes.') # Argumento a imprimir, encerrado en comilla simple."
      ]
    },
    {
      "cell_type": "code",
      "execution_count": null,
      "metadata": {
        "id": "Qcz-2RFiu0dZ"
      },
      "outputs": [],
      "source": [
        "print(\"El día de hoy es viernes.\") # Argumento a imprimir, encerrado en comilla doble."
      ]
    },
    {
      "cell_type": "code",
      "execution_count": null,
      "metadata": {
        "id": "6p5pZsLru0da"
      },
      "outputs": [],
      "source": [
        "print(\"El día de 'hoy' es viernes.\")"
      ]
    },
    {
      "cell_type": "code",
      "execution_count": null,
      "metadata": {
        "id": "g6Sikt-Ju0dc"
      },
      "outputs": [],
      "source": [
        "print(\"El día de \"hoy\" es viernes.\") # Es válida ésta sintáxis?  Cuál será el error?"
      ]
    },
    {
      "cell_type": "code",
      "execution_count": null,
      "metadata": {
        "id": "yV3kzOI9u0dd"
      },
      "outputs": [],
      "source": [
        "print(''' 'El día de 'hoy' es 'viernes'.' ''') "
      ]
    },
    {
      "cell_type": "code",
      "execution_count": null,
      "metadata": {
        "id": "r_-x6zV6u0df"
      },
      "outputs": [],
      "source": [
        "print('El', 'día', 'de', 'hoy', 'es', 'viernes.') # Concatenado de strings. La función print() acepta varios argumentos separados por coma."
      ]
    },
    {
      "cell_type": "markdown",
      "metadata": {
        "id": "6bqc1Rgau0dg"
      },
      "source": [
        "Secuencias de escape.\n",
        "Al imprimir datos, se pueden utilizar secuencias de escape, que nos permiten dar formato al texto de salida. Las principales secuencias de escape son:\n",
        "\n",
        "\\n    Linea nueva.\n",
        "\\t    Tab horizontal.\n",
        "\\\\    caracter \\\n",
        "\\\"    caracter \"\n",
        "\\'    caracter '\n",
        "\n",
        "En caso de imprimir los caracteres de comilla y doble comilla, se puede optar por utilizar la triple comilla, lo cual ahorra la incersión de secuencias de escape en el texto."
      ]
    },
    {
      "cell_type": "code",
      "execution_count": null,
      "metadata": {
        "id": "65GnvruJu0dh"
      },
      "outputs": [],
      "source": [
        "print('El día de hoy\\tes\\tviernes') # Uso de secuencias de escape, retorno de carro ó linea nueva."
      ]
    },
    {
      "cell_type": "code",
      "execution_count": null,
      "metadata": {
        "id": "jE5fsGrXu0di"
      },
      "outputs": [],
      "source": [
        "print('Esta es una expresión \\\n",
        "suficientemente larga.') # Pruebe que sucede si se introduce un comentario en la línea anterior."
      ]
    },
    {
      "cell_type": "markdown",
      "metadata": {
        "id": "_z88vMM-u0dj"
      },
      "source": [
        "La función print, también puede imprimir resultados de operaciones hechas \"dentro\" de la misma función."
      ]
    },
    {
      "cell_type": "code",
      "execution_count": null,
      "metadata": {
        "id": "gyio47lKu0dj"
      },
      "outputs": [],
      "source": [
        "print('El resultado de la suma es:', 64 + 36) # Texto y operaciones como argumento a la función print()."
      ]
    },
    {
      "cell_type": "markdown",
      "metadata": {
        "id": "nRyC8Vytu0dk"
      },
      "source": [
        "la función \"type()\" nos indica el tipo de dato que posee el objeto o variable."
      ]
    },
    {
      "cell_type": "code",
      "execution_count": null,
      "metadata": {
        "id": "uEqxqN6Ru0dl"
      },
      "outputs": [],
      "source": [
        "type(55)"
      ]
    },
    {
      "cell_type": "code",
      "execution_count": null,
      "metadata": {
        "id": "gtzbBXDfu0dm"
      },
      "outputs": [],
      "source": [
        "type(55.5)"
      ]
    },
    {
      "cell_type": "code",
      "execution_count": null,
      "metadata": {
        "id": "pS5c0Islu0dm"
      },
      "outputs": [],
      "source": [
        "type('hoy')"
      ]
    },
    {
      "cell_type": "markdown",
      "metadata": {
        "id": "nycLHu2Iu0dn"
      },
      "source": [
        "La función input(), solicita información del usuario:"
      ]
    },
    {
      "cell_type": "code",
      "execution_count": null,
      "metadata": {
        "id": "3krZiRJdu0do"
      },
      "outputs": [],
      "source": [
        "input('Cuál es su nombre?')"
      ]
    },
    {
      "cell_type": "markdown",
      "metadata": {
        "id": "ZBGHT-lsu0dp"
      },
      "source": [
        "Podemos asignar el valor ingresado por medio de la función input a una variable, para posteriormente hacer uso de la información recabada."
      ]
    },
    {
      "cell_type": "code",
      "execution_count": null,
      "metadata": {
        "id": "-1S4ycxlu0dq"
      },
      "outputs": [],
      "source": [
        "nombre = input('Cuál es su nombre?')"
      ]
    },
    {
      "cell_type": "code",
      "execution_count": null,
      "metadata": {
        "id": "IXQK7gNcu0dq"
      },
      "outputs": [],
      "source": [
        "nombre # exhibe el valor de la variable \"nombre\""
      ]
    },
    {
      "cell_type": "markdown",
      "metadata": {
        "id": "xIM8c-Nqu0ds"
      },
      "source": [
        "La función input() siempre retorna un string."
      ]
    },
    {
      "cell_type": "code",
      "execution_count": null,
      "metadata": {
        "id": "0eMWOeL6u0dt"
      },
      "outputs": [],
      "source": [
        "type(nombre)"
      ]
    },
    {
      "cell_type": "code",
      "execution_count": null,
      "metadata": {
        "id": "LyCkiznbu0du"
      },
      "outputs": [],
      "source": [
        "valor_1 = input('ingrese primer valor: ')\n",
        "valor_2 = input('ingrese segundo valor: ')"
      ]
    },
    {
      "cell_type": "code",
      "execution_count": null,
      "metadata": {
        "id": "ipgT02Nuu0dv"
      },
      "outputs": [],
      "source": [
        "print(valor_1 + valor_2)"
      ]
    },
    {
      "cell_type": "markdown",
      "metadata": {
        "id": "BLlE5npnu0dw"
      },
      "source": [
        "Como se puede ver, el resultado anterior es incorrecto, por lo que, para realizar una suma correcta de valores, se tendría que hacer un cambio de tipo de datos:"
      ]
    },
    {
      "cell_type": "code",
      "execution_count": null,
      "metadata": {
        "id": "D2oFomo6u0dx"
      },
      "outputs": [],
      "source": [
        "valor_3 = float(input('introduzca el primer número entero:'))\n",
        "valor_4 = float(input('introduzca el segundo número entero:'))"
      ]
    },
    {
      "cell_type": "code",
      "execution_count": null,
      "metadata": {
        "id": "m0jb72Ndu0dy"
      },
      "outputs": [],
      "source": [
        "print('El resultado de la suma es', valor_3 + valor_4)"
      ]
    },
    {
      "cell_type": "markdown",
      "metadata": {
        "id": "rFR1b5Nzu0dz"
      },
      "source": [
        "La función int() trunca a un número en formato de punto flotante, a un número entero. Por otro lado, la función float() convierte a un número o expresión numérica, en un valor de punto flotante."
      ]
    },
    {
      "cell_type": "code",
      "execution_count": null,
      "metadata": {
        "id": "v8B0VsO4u0d0"
      },
      "outputs": [],
      "source": [
        "x = 4"
      ]
    },
    {
      "cell_type": "code",
      "execution_count": null,
      "metadata": {
        "id": "UALUhV6lu0d0"
      },
      "outputs": [],
      "source": [
        "if x > 2 and x > 3:\n",
        "    print('f')"
      ]
    },
    {
      "cell_type": "code",
      "execution_count": null,
      "metadata": {
        "id": "O0gKc7UCu0d1"
      },
      "outputs": [],
      "source": [
        "compras = 1\n",
        "productos = 10\n",
        "while compras <= productos:\n",
        "    print('Comprando producto')\n",
        "    compras = compras + 1"
      ]
    },
    {
      "cell_type": "code",
      "execution_count": null,
      "metadata": {
        "id": "E6i8h_Nbu0d2"
      },
      "outputs": [],
      "source": [
        "for letra in 'FIME':\n",
        "    print(letra, end = '       ')"
      ]
    },
    {
      "cell_type": "code",
      "execution_count": null,
      "metadata": {
        "id": "OJlIFjchu0d5"
      },
      "outputs": [],
      "source": [
        "n = range(10)"
      ]
    },
    {
      "cell_type": "code",
      "execution_count": null,
      "metadata": {
        "id": "eQQpvJjOu0d6"
      },
      "outputs": [],
      "source": [
        "n"
      ]
    },
    {
      "cell_type": "markdown",
      "metadata": {
        "id": "t50y-Ly5u0d7"
      },
      "source": [
        "La función range nos permite generar elementos de cero, al valor que se ha pasado como argumento de la función, sin incluirlo, en incrementos de 1."
      ]
    },
    {
      "cell_type": "code",
      "execution_count": null,
      "metadata": {
        "id": "2CenCR3Su0d9"
      },
      "outputs": [],
      "source": [
        "for number in range(11):\n",
        "    print(number, end=' ')"
      ]
    },
    {
      "cell_type": "markdown",
      "metadata": {
        "id": "0vVvijWAu0d_"
      },
      "source": [
        "La función range, puede aceprtar más de un argumento, en el caso de 2 argumentos, el conteo inicia en el valor_1 y termina en el valor_2 sin incluirlo."
      ]
    },
    {
      "cell_type": "code",
      "execution_count": null,
      "metadata": {
        "id": "8DXD88MBu0eA"
      },
      "outputs": [],
      "source": [
        "for number in range(3,10):\n",
        "    print(number, end=' ')"
      ]
    },
    {
      "cell_type": "markdown",
      "metadata": {
        "id": "2V2OPRaxu0eB"
      },
      "source": [
        "La función range, también acepta 3 argumentos, en cuyo caso, es el inicio del conteo, el valor final (sin incluirlo) y el tamaño de paso del conteo."
      ]
    },
    {
      "cell_type": "code",
      "execution_count": null,
      "metadata": {
        "id": "CrLbaZNwu0eC"
      },
      "outputs": [],
      "source": [
        "for number in range(2,10,3):\n",
        "    print(number, end=' ')"
      ]
    },
    {
      "cell_type": "markdown",
      "metadata": {
        "id": "DhW6ca6Au0eD"
      },
      "source": [
        "Importando un TIPO de un MODULO. Un módulo es un \"conjunto de funciones\" que están organizadas de acuerdo a una actividad. A cada una de estas funciones dentro del módulo se le llama tipo. La sintáxis para llamar a un módulo es: import nombre_modulo. La palabra clave es import y el nombre del módulo es nombre_modulo."
      ]
    },
    {
      "cell_type": "code",
      "execution_count": null,
      "metadata": {
        "id": "PL2ydeOTu0eE"
      },
      "outputs": [],
      "source": [
        "import decimal\n",
        "principal = decimal.Decimal('1000.00')\n",
        "principal"
      ]
    },
    {
      "cell_type": "markdown",
      "metadata": {
        "id": "FS1qob13u0eF"
      },
      "source": [
        "Como puede verse, si se requiere utilizar un tipo del módulo decimal, debemos llamarlo por medio de la directiva decimal.Decimal. En este caso, la función de interés es Decimal. Si no se desea cargar el módulo entero y llamar a cada uno de sus tipos de la manera anterior, se pueden cargar solamente los tipos con los que se trabajará, en cuyo caso la sintáxis es la siguiente:\n",
        "\n",
        "from nombre_modulo import nombre_tipo\n",
        "\n",
        "En cuyo caso se cargará solamente el tipo nombre_tipo."
      ]
    },
    {
      "cell_type": "code",
      "execution_count": null,
      "metadata": {
        "id": "7lbUSqUgu0eG"
      },
      "outputs": [],
      "source": [
        "from decimal import Decimal"
      ]
    },
    {
      "cell_type": "markdown",
      "metadata": {
        "id": "MOoXdoOQu0eG"
      },
      "source": [
        "Aritmética con decimales. Tanto el módulo como el tipo que se cargó en las lineas previas, se refieren al tipo de dato \"decimal\" que es un valor exacto. En el caso del valor decimal que obtenemos con un tipo float, realmente estamos trabajando con una aproximación al decimal, veamos a que nos referimos:"
      ]
    },
    {
      "cell_type": "code",
      "execution_count": null,
      "metadata": {
        "id": "RChOz7J1u0eH"
      },
      "outputs": [],
      "source": [
        "total = 100.17\n",
        "print(total)"
      ]
    },
    {
      "cell_type": "markdown",
      "metadata": {
        "id": "rIfo8RyPu0eK"
      },
      "source": [
        "Sin embargo, si imprimimos \"total\" con una exactitud de 20 digitos obtenemos lo siguiente:"
      ]
    },
    {
      "cell_type": "code",
      "execution_count": null,
      "metadata": {
        "id": "55Wgg72qu0eL"
      },
      "outputs": [],
      "source": [
        "print(f'{total:.20f}')"
      ]
    },
    {
      "cell_type": "code",
      "execution_count": null,
      "metadata": {
        "id": "uKWo_rVJu0eN"
      },
      "outputs": [],
      "source": [
        "print(f'{principal:.20f}')"
      ]
    },
    {
      "cell_type": "markdown",
      "metadata": {
        "id": "c5GaFlxOu0eO"
      },
      "source": [
        "El módulo decimal, está incluido en la librería estandard de python. Para cálculos matemáticos exáctos, existen otras librerías al alcance que han sido desarrolladas con ese propósito. El módulo decimal está pensado en operaciones \"financieras\"."
      ]
    },
    {
      "cell_type": "markdown",
      "metadata": {
        "id": "VZf1uJn6u0eP"
      },
      "source": [
        "Una persona invierte un monto de su dinero en una inversión que le reditua un 5% anual en intereses, suponiendo que el individuo reinvierte anualmente el monto y los intereses previos, cuánto obtendrá en 10 años?"
      ]
    },
    {
      "cell_type": "code",
      "execution_count": null,
      "metadata": {
        "id": "NDu9WSlgu0eR"
      },
      "outputs": [],
      "source": [
        "nominal = Decimal('1000.00')\n",
        "tasa = Decimal('0.05')\n",
        "for year in range(1,11):\n",
        "    amount = nominal * (1 + tasa)**year\n",
        "    print(f'{year:>2}{amount:>10.2f}')"
      ]
    },
    {
      "cell_type": "markdown",
      "metadata": {
        "id": "AUPPjP4Ou0eS"
      },
      "source": [
        "En Python también existe el comando \"break\""
      ]
    },
    {
      "cell_type": "code",
      "execution_count": null,
      "metadata": {
        "id": "YZ5FMVbvu0eT"
      },
      "outputs": [],
      "source": [
        "for number in range(1000):\n",
        "    if number == 10:\n",
        "        break\n",
        "    print(number, end=' ')"
      ]
    },
    {
      "cell_type": "markdown",
      "metadata": {
        "id": "UMkwdetTu0eT"
      },
      "source": [
        "En Python podemos generar expresiones lógicas más ricas que solamente las básicas >,<, >=, <= o !=.  Las operaciones booleanas son las conjuntivas \"and\", \"or\" y el operador unario \"not\"."
      ]
    },
    {
      "cell_type": "code",
      "execution_count": null,
      "metadata": {
        "id": "OFaOTtPPu0eU"
      },
      "outputs": [],
      "source": [
        "gender = 'Masculino'\n",
        "edad = 46\n",
        "if gender == 'Femenino' and edad in range(5, 45):\n",
        "    print('bajo riesgo de complicaciones covid-19')\n",
        "else:\n",
        "    print('Tome sus precauciones')"
      ]
    },
    {
      "cell_type": "markdown",
      "metadata": {
        "id": "fHc-Zm18u0eV"
      },
      "source": [
        "# Funciones.\n",
        "\n",
        "Una función es un pedazo de software que en principio podemos reutilizar. El principal propósito de una función es generar un programa modular que permita llamadas a procedimientos complicados y/o repetitivos por medio de una directiva sencilla. Una función se define de la siguiente manera:\n",
        "\n",
        "def nombre_funcion(argumento / argumentos): # Más de un argumento: la lista se separa por comas.\n",
        "   \"\"\"Leyenda descriptiva de la función\"\"\"\n",
        "   operaciones dentro de la función\n",
        "   return operacion_final ó argumentos_de_retorno\n",
        "   \n",
        "El siguiente ejemplo genera la función para elevar al cuadrado un número:"
      ]
    },
    {
      "cell_type": "code",
      "execution_count": null,
      "metadata": {
        "id": "0IB0tiytu0eW"
      },
      "outputs": [],
      "source": [
        "def cuadrado(numero): # funcion sencilla\n",
        "    \"\"\"Calcula el cuadrado de un número\"\"\"\n",
        "    return numero ** 2"
      ]
    },
    {
      "cell_type": "code",
      "execution_count": null,
      "metadata": {
        "colab": {
          "base_uri": "https://localhost:8080/"
        },
        "id": "QdLMCCUhu0eX",
        "outputId": "ba1d2eac-2c2a-4afb-81cf-5f5da16f809f"
      },
      "outputs": [
        {
          "data": {
            "text/plain": [
              "900"
            ]
          },
          "execution_count": 2,
          "metadata": {
            "tags": []
          },
          "output_type": "execute_result"
        }
      ],
      "source": [
        "cuadrado(30)"
      ]
    },
    {
      "cell_type": "code",
      "execution_count": null,
      "metadata": {
        "id": "gv0YCGBRu0eX"
      },
      "outputs": [],
      "source": [
        "cuadrado?"
      ]
    },
    {
      "cell_type": "code",
      "execution_count": null,
      "metadata": {
        "id": "ES_dHoOhu0eZ"
      },
      "outputs": [],
      "source": [
        "cuadrado??"
      ]
    },
    {
      "cell_type": "code",
      "execution_count": null,
      "metadata": {
        "id": "7TvxHvhau0eZ"
      },
      "outputs": [],
      "source": [
        "def maximum(valor_1, valor_2, valor_3): ## Esta es una función con múltiples argumentos.\n",
        "    \"\"\"Calcula y regresa el valor máximo de una triada\"\"\"\n",
        "    val_max = valor_1\n",
        "    if valor_2 > val_max:\n",
        "        val_max = valor_2\n",
        "    if valor_3 > val_max:\n",
        "        val_max = valor_3\n",
        "    return val_max"
      ]
    },
    {
      "cell_type": "code",
      "execution_count": null,
      "metadata": {
        "colab": {
          "base_uri": "https://localhost:8080/"
        },
        "id": "zg-w_zGbu0eb",
        "outputId": "dc5cea79-38e1-4e9a-c054-831f529df798"
      },
      "outputs": [
        {
          "data": {
            "text/plain": [
              "78"
            ]
          },
          "execution_count": 6,
          "metadata": {
            "tags": []
          },
          "output_type": "execute_result"
        }
      ],
      "source": [
        "maximum (13,78,3)"
      ]
    },
    {
      "cell_type": "code",
      "execution_count": null,
      "metadata": {
        "colab": {
          "base_uri": "https://localhost:8080/",
          "height": 35
        },
        "id": "dFiMBIwPu0ec",
        "outputId": "a13aad70-c565-441e-d164-78d45cbd1d52"
      },
      "outputs": [
        {
          "data": {
            "application/vnd.google.colaboratory.intrinsic+json": {
              "type": "string"
            },
            "text/plain": [
              "'yellowc'"
            ]
          },
          "execution_count": 7,
          "metadata": {
            "tags": []
          },
          "output_type": "execute_result"
        }
      ],
      "source": [
        "maximum('yellowa', 'yellowb', 'yellowc')"
      ]
    },
    {
      "cell_type": "code",
      "execution_count": null,
      "metadata": {
        "colab": {
          "base_uri": "https://localhost:8080/",
          "height": 35
        },
        "id": "W11I-iMxu0ed",
        "outputId": "04d774d9-3875-4439-f0d6-b8174dd8525a"
      },
      "outputs": [
        {
          "data": {
            "application/vnd.google.colaboratory.intrinsic+json": {
              "type": "string"
            },
            "text/plain": [
              "'r'"
            ]
          },
          "execution_count": 8,
          "metadata": {
            "tags": []
          },
          "output_type": "execute_result"
        }
      ],
      "source": [
        "maximum('aaa', 'r', 'aqc')"
      ]
    },
    {
      "cell_type": "code",
      "execution_count": null,
      "metadata": {
        "colab": {
          "base_uri": "https://localhost:8080/"
        },
        "id": "YoVjzKSZu0ef",
        "outputId": "f6757617-4bdc-441b-d847-3afc269fa4c4"
      },
      "outputs": [
        {
          "data": {
            "text/plain": [
              "11"
            ]
          },
          "execution_count": 9,
          "metadata": {
            "tags": []
          },
          "output_type": "execute_result"
        }
      ],
      "source": [
        "from math import ceil,floor # podemos llamar a mas de un tipo de un módulo.\n",
        "ceil(10.3)"
      ]
    },
    {
      "cell_type": "code",
      "execution_count": null,
      "metadata": {
        "colab": {
          "base_uri": "https://localhost:8080/"
        },
        "id": "NE7dlufOu0eg",
        "outputId": "91fcd4f8-f8fb-414a-ebb8-914f3dda39fc"
      },
      "outputs": [
        {
          "data": {
            "text/plain": [
              "10"
            ]
          },
          "execution_count": 10,
          "metadata": {
            "tags": []
          },
          "output_type": "execute_result"
        }
      ],
      "source": [
        "floor(10.7)"
      ]
    },
    {
      "cell_type": "code",
      "execution_count": null,
      "metadata": {
        "colab": {
          "base_uri": "https://localhost:8080/"
        },
        "id": "zbj58DETu0ei",
        "outputId": "4c1cef3c-49c1-4bdf-b584-08b741d79566"
      },
      "outputs": [
        {
          "data": {
            "text/plain": [
              "87.75"
            ]
          },
          "execution_count": 11,
          "metadata": {
            "tags": []
          },
          "output_type": "execute_result"
        }
      ],
      "source": [
        "import statistics as stats ## podemos llamar a un módulo y asignarle un nombre.\n",
        "grades = [90, 78, 95, 88]\n",
        "stats.mean(grades)"
      ]
    },
    {
      "cell_type": "markdown",
      "metadata": {
        "id": "YTkdCNKSu0ej"
      },
      "source": [
        "# Números aleatorios"
      ]
    },
    {
      "cell_type": "code",
      "execution_count": null,
      "metadata": {
        "id": "NtHVU5zJu0ek"
      },
      "outputs": [],
      "source": [
        "import random                               # importamos el módulo de aleatoriedad.\n",
        "for roll in range(10):                      # simulamos 10 lanzamientos del dado\n",
        "    print(random.randrange(1, 7), end =' ') # los números a generar estan entre 1 y 6 e imprimimos."
      ]
    },
    {
      "cell_type": "code",
      "execution_count": null,
      "metadata": {
        "id": "W4DxbPVEu0el"
      },
      "outputs": [],
      "source": [
        "import random\n",
        "\n",
        "# Iniciamos contadores.\n",
        "frec_cara_1 = 0\n",
        "frec_cara_2 = 0\n",
        "frec_cara_3 = 0\n",
        "frec_cara_4 = 0\n",
        "frec_cara_5 = 0\n",
        "frec_cara_6 = 0\n",
        "\n",
        "# Simulamos un número suficientemente grande de lanzamientos.\n",
        "for roll in range(6_000_000): # Utilizamos separador _ para claridad en la visualización.\n",
        "    cara = random.randrange(1, 7)\n",
        "    \n",
        "    # Aquí empezamos el conteo de veces que aparece cada cara del dado.\n",
        "    if cara == 1:\n",
        "        frec_cara_1 += 1\n",
        "    elif cara == 2:\n",
        "        frec_cara_2 += 1\n",
        "    elif cara == 3:\n",
        "        frec_cara_3 += 1\n",
        "    elif cara == 4:\n",
        "        frec_cara_4 += 1\n",
        "    elif cara == 5:\n",
        "        frec_cara_5 += 1\n",
        "    elif cara == 6:\n",
        "        frec_cara_6 += 1\n",
        "\n",
        "# Imprimimos el resultado de la corrida:\n",
        "print(f'Cara{\"Frecuencia\":>13}')\n",
        "print(f'{1:>4}{frec_cara_1:>13}')\n",
        "print(f'{2:>4}{frec_cara_2:>13}')\n",
        "print(f'{3:>4}{frec_cara_3:>13}')\n",
        "print(f'{4:>4}{frec_cara_4:>13}')\n",
        "print(f'{5:>4}{frec_cara_5:>13}')\n",
        "print(f'{6:>4}{frec_cara_6:>13}')"
      ]
    },
    {
      "cell_type": "markdown",
      "metadata": {
        "id": "ciBwflFiu0em"
      },
      "source": [
        "# Llamando funciones.\n",
        "Algunas funciones requieren de argumentos para regresar un resultado válido. Sin embargo, *Python* tiene una forma de asignar **valores por omisión**, de esta manera, si el usuario olvida incluir argumentos a la hora de llamar a una función, esta sustituye la falta con valores asignados por el programador. <br> \n",
        "Veamos un ejemplo."
      ]
    },
    {
      "cell_type": "code",
      "execution_count": null,
      "metadata": {
        "id": "F967OIw0u0en"
      },
      "outputs": [],
      "source": [
        "def rectangulo(largo=5, ancho=3):\n",
        "    '''Esta función calcula y regresa el área de un rectángulo a partir de los parámetros alimentados'''\n",
        "    return largo * ancho"
      ]
    },
    {
      "cell_type": "code",
      "execution_count": null,
      "metadata": {
        "id": "6Nj7uB6hu0eo"
      },
      "outputs": [],
      "source": [
        "rectangulo(25, 100)"
      ]
    },
    {
      "cell_type": "code",
      "execution_count": null,
      "metadata": {
        "id": "0B1fMZPnu0ep"
      },
      "outputs": [],
      "source": [
        "rectangulo() # Llamamos a la función si pasarle parámetros."
      ]
    },
    {
      "cell_type": "markdown",
      "metadata": {
        "id": "hS-dqZy-u0er"
      },
      "source": [
        "También, cuando se asignan valores por omisión, se puede mandar la lista de argumentos de manera parcial, en este caso, *Python* asignará los valores faltantes a partir de sus valores por omisión."
      ]
    },
    {
      "cell_type": "code",
      "execution_count": null,
      "metadata": {
        "id": "GQ5W315Yu0es"
      },
      "outputs": [],
      "source": [
        "rectangulo(25)"
      ]
    },
    {
      "cell_type": "markdown",
      "metadata": {
        "id": "VPbkchw1u0ev"
      },
      "source": [
        "Como se puede ver, la sustitución se hace en los valores faltantes *de izquierda a derecha*. El orden no se puede cambiar:"
      ]
    },
    {
      "cell_type": "code",
      "execution_count": null,
      "metadata": {
        "id": "8fl2anBlu0ex"
      },
      "outputs": [],
      "source": [
        "rectangulo( , 10)"
      ]
    },
    {
      "cell_type": "markdown",
      "metadata": {
        "id": "tLwX_niSu0ey"
      },
      "source": [
        "## Argumentos clave. <br>\n",
        "**Argumentos con elementos indefinidos**: Podemos generar funciones con argumentos indefinidos, es decir, en vez de tener un número finito pre-determinado de posibles argumentos a pasar a la función, esta puede recibir un *número arbitrario de valores* para su procesamiento. La cantidad de valores a pasar depende del usuario y de las capacidades del ordenador. Las funciones se programan de manera que sus arguentos acepten un número mínimo de elementos para llevar a cabo su operación, y se puede agregar *un argumento indefinido*, **\\*args** el cual permite pasar a la función un número indeterminado de valores en la forma de una tupla o lista de valores empaquetados en un arreglo. <br>\n",
        "El formato de la función es:<br>\n",
        "**def nombre_función(arg1, arg2, \\*args):**. <br>\n",
        "Los primeros 2 argumentos los recibe de manera directa del usuario y el resto entrarán en el argumento \"*\\*args*\", ejempo:"
      ]
    },
    {
      "cell_type": "code",
      "execution_count": null,
      "metadata": {
        "id": "t5EcTBRSu0ez"
      },
      "outputs": [],
      "source": [
        "def promedio(*args):             # En la declaración de la función, se incluye el asterísco.\n",
        "    return sum(args) / len(args) # Note por favor, que en esta declaratoria ya no se incluye el \"*\"."
      ]
    },
    {
      "cell_type": "code",
      "execution_count": null,
      "metadata": {
        "id": "pmeohL7Du0e0"
      },
      "outputs": [],
      "source": [
        "promedio(1., 2., 3., 5, 7, 9, 134)"
      ]
    },
    {
      "cell_type": "markdown",
      "metadata": {
        "id": "GAh8fYb5u0e1"
      },
      "source": [
        "# Objetos iterables en funciones.\n",
        "Cuando llamamos a una función, podemos enviarle un objeto llamado *iterable*, el cual consiste de varios elementos que forman una unidad. Por ejemplo, un string como **'Hola'**. La palabra Hola es una unidad que está formada por 4 elementos (las letras), las cuales pueden ser iteradas. Otros elementos muy socorridos para llevar a cabo opraciones sobre sus elementos son los *arreglos, diccionarios, tuplas o listas*, por nombrar algunos. Por lo tanto podemos pasar argumentos como una tupla a una función. <br> e.g."
      ]
    },
    {
      "cell_type": "code",
      "execution_count": null,
      "metadata": {
        "id": "MJaosn5tu0e2"
      },
      "outputs": [],
      "source": [
        "calif = [10, 20, 30, 40, 50]\n",
        "print(calif)"
      ]
    },
    {
      "cell_type": "code",
      "execution_count": null,
      "metadata": {
        "id": "gziU0U8cu0e2"
      },
      "outputs": [],
      "source": [
        "promedio(*calif)  # Por favor, note que el objeto iterado \"calif\" va precedido por un asterísco."
      ]
    },
    {
      "cell_type": "markdown",
      "metadata": {
        "id": "6r9GpcfDu0e3"
      },
      "source": [
        "Esto nos puede ahorrar tiempo, ya que de otra manera habría sido necesario pasar los argumentos uno a la vez.\n",
        "\n",
        "# Alcance de una variable.\n",
        "\n",
        "El alcance de una variable puede ser local o global dependiendo de su contexto. Cuando estamos dentro de una función, el alcance es local. En ese contexto, podemos acceder al valor de una variable global, mas no podemos modificarlo:"
      ]
    },
    {
      "cell_type": "code",
      "execution_count": null,
      "metadata": {
        "id": "YyrQLyWvu0e4"
      },
      "outputs": [],
      "source": [
        "x = 7"
      ]
    },
    {
      "cell_type": "code",
      "execution_count": null,
      "metadata": {
        "id": "3MiZCb7pu0e5"
      },
      "outputs": [],
      "source": [
        "def acceso_global():\n",
        "    q = id(x)\n",
        "    print('x impresa desde dentro de la función:', x)\n",
        "    return q"
      ]
    },
    {
      "cell_type": "code",
      "execution_count": null,
      "metadata": {
        "id": "CbXwHWYTu0e5"
      },
      "outputs": [],
      "source": [
        "acceso_global()"
      ]
    },
    {
      "cell_type": "code",
      "execution_count": null,
      "metadata": {
        "id": "u-kTLcMUu0e6"
      },
      "outputs": [],
      "source": [
        "id(x)"
      ]
    },
    {
      "cell_type": "markdown",
      "metadata": {
        "id": "HQQdrrz_u0e7"
      },
      "source": [
        "Para poder modificar un valor ***global*** desde dentro da una función, se debe de definir a la variable como ***global*** desde el principio de la declaratoria de variables de la función."
      ]
    },
    {
      "cell_type": "code",
      "execution_count": null,
      "metadata": {
        "id": "6WR1sopHu0e7"
      },
      "outputs": [],
      "source": [
        "def mod_global():\n",
        "    global x\n",
        "    print('El valor de x es:', x)\n",
        "    x = 'Hello'\n",
        "    print ('x impreso dentro de la función: ', x )"
      ]
    },
    {
      "cell_type": "code",
      "execution_count": null,
      "metadata": {
        "id": "F1sgjIFiu0e8"
      },
      "outputs": [],
      "source": [
        "mod_global()"
      ]
    },
    {
      "cell_type": "code",
      "execution_count": null,
      "metadata": {
        "id": "qreuy4BHu0e9"
      },
      "outputs": [],
      "source": [
        "x # La variable global 'x' ha sido modificada desde dentro de una función."
      ]
    },
    {
      "cell_type": "code",
      "execution_count": null,
      "metadata": {
        "id": "AW8CJqjZu0e-"
      },
      "outputs": [],
      "source": [
        "id(x)"
      ]
    },
    {
      "cell_type": "markdown",
      "metadata": {
        "id": "oFgpwSL0u0e_"
      },
      "source": [
        "# Métodos.\n",
        "Los ***métodos*** son funciones que pertenecen a objetos. Un método es una función o funcionalidad que se aplica sobre un objeto de la manera siguiente: <br> <br>\n",
        "***nombre_objeto.nombre_metodo(argumento)*** <br> <br>\n",
        "Estos métodos dependen del objeto sobre el cual se están aplicando y pueden revisarse en la página: <br>\n",
        "\n",
        "<a>href = \"https://docs.python.org/3/library/index.html >The Python Standard Library</a>\n",
        "\n",
        "En sesiones pasadas, hemos visto algunos ejemplos de lo anterior y seguiremos utilizandolo en los proyectos y desarrollos que lleven a cabo."
      ]
    },
    {
      "cell_type": "markdown",
      "metadata": {
        "id": "krY5Zk-qu0fB"
      },
      "source": [
        "# Listas, tuplas y arreglos\n",
        "Una colección es una estructura de información consistente en elementos relacionados entre sí. <br>\n",
        "\n",
        "Una de las grandes ventajas de la computación es su capacidad de procesamiento en lotes. Para procesar en lote es necesario generar los objetos que puedan contener esta masiva cantidad de información. Algunos de los objetos más convenientes para la tarea son las listas y tuplas que posee Python de manera básica, otro de los elementos son los arreglos que proporciona NumPy.\n",
        "\n",
        "Diferencias entre listas y tuplas:\n",
        "\n",
        "* Listas son mutables, tuplas no.\n",
        "* La iteración en una lista es lenta, en una tupla no lo es tanto.\n",
        "* Operaciones de modificación de datos es mejor para una lista, una tupla es mejor para acceso de información.\n",
        "* La lista consume mucha memoria a comparación de una tupla.\n",
        "* La lista tiene mas métodos que una tupla.\n",
        "* Los errores son más comunes en listas que en tuplas.\n",
        "\n",
        "Los arreglos son una estructura de datos que proporciona NumPy y permite el procesamiento de datos masivos más eficiente.\n",
        "\n",
        "Listas: Una lista puede contener información homogenea o heterogenea, e.g."
      ]
    },
    {
      "cell_type": "code",
      "execution_count": null,
      "metadata": {
        "id": "yq2ILhEIu0fC"
      },
      "outputs": [],
      "source": [
        "c = [1, 2, 0 ,3, 4500]# En Py, una lista es una colección de objetos encerrados entre llaves cuadradas [y]."
      ]
    },
    {
      "cell_type": "code",
      "execution_count": null,
      "metadata": {
        "id": "oQwLPKozu0fD"
      },
      "outputs": [],
      "source": [
        "d = ['Juan', 'Pérez', 37., 400]"
      ]
    },
    {
      "cell_type": "code",
      "execution_count": null,
      "metadata": {
        "colab": {
          "base_uri": "https://localhost:8080/"
        },
        "id": "1D7unE0Yu0fF",
        "outputId": "813038f5-bbfd-4fa3-de2b-6af367ebf6a7"
      },
      "outputs": [
        {
          "name": "stdout",
          "output_type": "stream",
          "text": [
            "[1, 2, 0, 3, 4500] ['Juan', 'Pérez', 37.0, 400]\n"
          ]
        }
      ],
      "source": [
        "print(c, d)"
      ]
    },
    {
      "cell_type": "markdown",
      "metadata": {
        "id": "TjlFQ5pgu0fG"
      },
      "source": [
        "Se puede acceder a los elementos de estos objetos, por medio del nombre de la lista y de su índice encerrado entre corchetes. Hay que enfatizar que el índice inicia en 0. Para las listas anteriores:"
      ]
    },
    {
      "cell_type": "code",
      "execution_count": null,
      "metadata": {
        "colab": {
          "base_uri": "https://localhost:8080/"
        },
        "id": "Z0xxQJRyu0fH",
        "outputId": "718086d9-c011-4a21-c41a-bd50e07e1511"
      },
      "outputs": [
        {
          "name": "stdout",
          "output_type": "stream",
          "text": [
            "4500 Pérez\n"
          ]
        }
      ],
      "source": [
        "print(c[4], d[1])"
      ]
    },
    {
      "cell_type": "code",
      "execution_count": null,
      "metadata": {
        "id": "VRn-QKPNu0fI"
      },
      "outputs": [],
      "source": [
        "len(d) # Podemos averiguar el tamaño de una lista (número de elementos) por medio de la función len()."
      ]
    },
    {
      "cell_type": "code",
      "execution_count": null,
      "metadata": {
        "id": "yLahSAVcu0fI"
      },
      "outputs": [],
      "source": [
        "d[-1] # Podemos acceder a los últimos valores de una lisa, utilizando índices negativos, inician en -1."
      ]
    },
    {
      "cell_type": "code",
      "execution_count": null,
      "metadata": {
        "id": "fDZLtvnzu0fJ"
      },
      "outputs": [],
      "source": [
        "c[2] = 5 # También podemos modificar valores de los elementos de una lista."
      ]
    },
    {
      "cell_type": "code",
      "execution_count": null,
      "metadata": {
        "id": "vjX1LLrQu0fK"
      },
      "outputs": [],
      "source": [
        "print(c)"
      ]
    },
    {
      "cell_type": "code",
      "execution_count": null,
      "metadata": {
        "id": "MZUTzWyyu0fL"
      },
      "outputs": [],
      "source": [
        "psuma_1 = c[0] + c[2] + c[4] # Podemos utilizar los elementos de una lista como variables de una expresión\n",
        "psuma_1"
      ]
    },
    {
      "cell_type": "markdown",
      "metadata": {
        "id": "ZnOzxUFau0fM"
      },
      "source": [
        "Una lista, puede crecer de manera dinámica:"
      ]
    },
    {
      "cell_type": "code",
      "execution_count": null,
      "metadata": {
        "id": "VViI6Z1qu0fN"
      },
      "outputs": [],
      "source": [
        "lista_1 = [] # Notemos que la lista está vacía.\n",
        "lista_1"
      ]
    },
    {
      "cell_type": "code",
      "execution_count": null,
      "metadata": {
        "id": "a-MI4PONu0fO"
      },
      "outputs": [],
      "source": [
        "for number in range(1, 6): # Vamos a insertar a la lista los valores en el rango entre 1 y 6.\n",
        "    lista_1 += [number]"
      ]
    },
    {
      "cell_type": "code",
      "execution_count": null,
      "metadata": {
        "id": "28fY_RWOu0fP"
      },
      "outputs": [],
      "source": [
        "print(lista_1) # Podemos comprobar si la lista está poblada o vacía."
      ]
    },
    {
      "cell_type": "markdown",
      "metadata": {
        "id": "gF6m91obu0fQ"
      },
      "source": [
        "Siempre que el elemento a la izquierda del operador **+=** es una lista o un objeto iterable, entonces los elementos del objeto se agreran a la lista. e.g."
      ]
    },
    {
      "cell_type": "code",
      "execution_count": null,
      "metadata": {
        "id": "QCMCd8RDu0fR"
      },
      "outputs": [],
      "source": [
        "letras = [] # Lista vacía\n",
        "letras += 'Python'\n",
        "print(letras)"
      ]
    },
    {
      "cell_type": "markdown",
      "metadata": {
        "id": "9o3T1VTyu0fS"
      },
      "source": [
        "Las listas se pueden concatenar utilizando el operador +"
      ]
    },
    {
      "cell_type": "code",
      "execution_count": null,
      "metadata": {
        "id": "l5UDMeWSu0fT"
      },
      "outputs": [],
      "source": [
        "lista_a = [10, 20, 30]\n",
        "lista_b = [40, 50, 60]\n",
        "lista_ayb = lista_a + lista_b\n",
        "print(lista_ayb)"
      ]
    },
    {
      "cell_type": "markdown",
      "metadata": {
        "id": "t9UlbVy5u0fU"
      },
      "source": [
        "## Tuplas"
      ]
    },
    {
      "cell_type": "code",
      "execution_count": null,
      "metadata": {
        "id": "DjFl9rQWu0fV"
      },
      "outputs": [],
      "source": [
        "tupl_a = (1, 4, 7)\n",
        "tupl_a"
      ]
    },
    {
      "cell_type": "code",
      "execution_count": null,
      "metadata": {
        "id": "kcwqzoUxu0fW"
      },
      "outputs": [],
      "source": [
        "tupl_a[1] = 2"
      ]
    },
    {
      "cell_type": "markdown",
      "metadata": {
        "id": "vq1Vef3lu0fW"
      },
      "source": [
        "## Arreglos NumPy\n",
        "Para poder hacer uso de las estructuras de arreglos que nos proporciona NumPy, es necesario cargar la librería en memoria:<br><br>\n",
        "* *import **numpy** as np* <br><br>\n",
        "De esa manera podremos accesar los métodos para creación y manejo de arrays."
      ]
    },
    {
      "cell_type": "code",
      "execution_count": null,
      "metadata": {
        "id": "41aPNf77u0fX"
      },
      "outputs": [],
      "source": [
        "import numpy as np"
      ]
    },
    {
      "cell_type": "code",
      "execution_count": null,
      "metadata": {
        "id": "NeW_xpi3u0fY"
      },
      "outputs": [],
      "source": [
        "a_np = np.zeros(4)\n",
        "a_np"
      ]
    },
    {
      "cell_type": "code",
      "execution_count": null,
      "metadata": {
        "id": "izYfglLKu0fZ"
      },
      "outputs": [],
      "source": [
        "type(a_np)"
      ]
    },
    {
      "cell_type": "code",
      "execution_count": null,
      "metadata": {
        "id": "JPQHM2eNu0fa"
      },
      "outputs": [],
      "source": [
        "b_np = np.zeros( (3,5) )\n",
        "b_np"
      ]
    },
    {
      "cell_type": "code",
      "execution_count": null,
      "metadata": {
        "id": "gLazyVgPu0fa"
      },
      "outputs": [],
      "source": [
        "c_np = np.zeros((1,5))\n",
        "c_np"
      ]
    },
    {
      "cell_type": "code",
      "execution_count": null,
      "metadata": {
        "id": "QbmL80U7u0fb"
      },
      "outputs": [],
      "source": [
        "d_np = np.zeros((5,1))\n",
        "d_np"
      ]
    },
    {
      "cell_type": "code",
      "execution_count": null,
      "metadata": {
        "id": "5UHmpfcWu0fc"
      },
      "outputs": [],
      "source": [
        "A = np.zeros((2,3,4))\n",
        "A"
      ]
    },
    {
      "cell_type": "code",
      "execution_count": null,
      "metadata": {
        "id": "_mcpJCOmu0fd"
      },
      "outputs": [],
      "source": [
        "B = np.ones((2, 3, 4, 3))\n",
        "B"
      ]
    },
    {
      "cell_type": "code",
      "execution_count": null,
      "metadata": {
        "id": "GPX0J-pgu0fe"
      },
      "outputs": [],
      "source": [
        "np.shape(A)"
      ]
    },
    {
      "cell_type": "code",
      "execution_count": null,
      "metadata": {
        "id": "WUIHYClXu0ff"
      },
      "outputs": [],
      "source": [
        "np.shape(a_np)"
      ]
    },
    {
      "cell_type": "code",
      "execution_count": null,
      "metadata": {
        "id": "U7BFfi9eu0fg"
      },
      "outputs": [],
      "source": [
        "np.size(A)"
      ]
    }
  ],
  "metadata": {
    "colab": {
      "provenance": []
    },
    "kernelspec": {
      "display_name": "Python 3.10.7 64-bit",
      "language": "python",
      "name": "python3"
    },
    "language_info": {
      "codemirror_mode": {
        "name": "ipython",
        "version": 3
      },
      "file_extension": ".py",
      "mimetype": "text/x-python",
      "name": "python",
      "nbconvert_exporter": "python",
      "pygments_lexer": "ipython3",
      "version": "3.10.7"
    },
    "vscode": {
      "interpreter": {
        "hash": "fbc768028c3e6ead51d9a200ddcb2ec858ae62844dcd1994729a8279be9b48f2"
      }
    }
  },
  "nbformat": 4,
  "nbformat_minor": 0
}
