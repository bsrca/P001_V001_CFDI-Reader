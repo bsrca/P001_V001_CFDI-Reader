{
 "cells": [
  {
   "cell_type": "code",
   "execution_count": 10,
   "metadata": {},
   "outputs": [],
   "source": [
    "import pandas as pd\n",
    "import xml.etree.ElementTree as ET\n",
    "import vertica_python\n",
    "import re"
   ]
  },
  {
   "cell_type": "code",
   "execution_count": 11,
   "metadata": {},
   "outputs": [],
   "source": [
    "def get_child_elements(root):\n",
    "    # Create a list to store all child elements\n",
    "    elements = []\n",
    "    # Get all child elements of a given xml element\n",
    "    for child in root:\n",
    "        child.tag = re.sub(r\"{.*?}\", \"\", child.tag)\n",
    "        elements.append(child)\n",
    "        elements.extend(get_child_elements(child))\n",
    "    return elements\n",
    "\n",
    "def connect_to_database(db_config):\n",
    "    # Create a connection to the Vertica database\n",
    "    conn_info = {'host': db_config['host'],\n",
    "                 'port': db_config['port'],\n",
    "                 'user': db_config['user'],\n",
    "                 'password': db_config['password'],\n",
    "                 'database': db_config['database']}\n",
    "    conn = vertica_python.connect(**conn_info)\n",
    "    return conn\n",
    "\n",
    "def execute_sql_query(cur, query, params=None):\n",
    "    cur.execute(query, params)    \n",
    "    return cur\n",
    "\n",
    "def parse_xml_file(file_path, conn):\n",
    "    # Parse the XML file\n",
    "    tree = ET.parse(file_path)\n",
    "    root = tree.getroot()\n",
    "\n",
    "    # Get all child elements of the root element\n",
    "    elements = get_child_elements(root)\n",
    "\n",
    "    # Create a cursor\n",
    "    cur = conn.cursor()\n",
    "\n",
    "    # Iterate over the elements\n",
    "    for element in elements:\n",
    "        # Get the tag name\n",
    "        tag_name = element.tag\n",
    "\n",
    "        # Get the attributes of the element\n",
    "        element_dict = element.attrib\n",
    "\n",
    "        # Create a list of values to insert into the database\n",
    "        values = tuple(element_dict.values())\n",
    "\n",
    "        # Check if the table exists\n",
    "        table_exists = execute_sql_query(cur, \"SELECT EXISTS (SELECT 1 FROM information_schema.tables WHERE table_name = %s)\", (tag_name,)).fetchone()[0]\n",
    "\n",
    "        # If the table does not exist, create it\n",
    "        if not table_exists:\n",
    "            execute_sql_query(cur, f\"CREATE TABLE {tag_name} ({','.join(f'{k} VARCHAR(255)' for k in element_dict.keys())})\")\n",
    "\n",
    "        # Create the insert statement\n",
    "        insert_stmt = f\"INSERT INTO {tag_name} VALUES ({','.join(['%s']*len(values))})\"\n",
    "\n",
    "        # Execute the insert statement\n",
    "        execute_sql_query(cur, insert_stmt, values)\n",
    "\n",
    "    # Commit the changes to the database\n",
    "    conn.commit()\n",
    "\n"
   ]
  },
  {
   "cell_type": "code",
   "execution_count": 12,
   "metadata": {},
   "outputs": [],
   "source": [
    "\n",
    "# Define file to read\n",
    "#xml_file_path = r\"C:\\Users\\Roberto\\OneDrive\\cargoIabono\\Proyectos y Desarrollos\\P001_V001_CFDI-Reader\\01_Inputs\\Nomina\\EMS2103108P3_Pago de nómina_20220815_N_AOAR951019842.xml\"\n",
    "xml_file_path = r\"C:\\Users\\Roberto\\OneDrive\\cargoIabono\\Proyectos y Desarrollos\\P001_V001_CFDI-Reader\\01_Inputs\\Facturas\\0F23FE0D-8324-4BCE-AFAC-68CB67E89714.xml\"\n",
    "#xml_tree = ET.parse(xml_file_path)\n",
    "#xml_root = xml_tree.getroot()"
   ]
  },
  {
   "cell_type": "code",
   "execution_count": 13,
   "metadata": {},
   "outputs": [
    {
     "ename": "MissingSchema",
     "evalue": "Severity: ERROR, Message: Schema \"information_schema\" does not exist, Sqlstate: 3F000, Routine: RangeVarGetObjid, File: /data/jenkins/workspace/RE-ReleaseBuilds/RE-Knuckleboom/server/vertica/Catalog/Namespace.cpp, Line: 299, Error Code: 4650, SQL: \"SELECT EXISTS (SELECT 1 FROM information_schema.tables WHERE table_name = 'Emisor')\"",
     "output_type": "error",
     "traceback": [
      "\u001b[1;31m---------------------------------------------------------------------------\u001b[0m",
      "\u001b[1;31mMissingSchema\u001b[0m                             Traceback (most recent call last)",
      "\u001b[1;32mUntitled-1.ipynb Cell 4\u001b[0m in \u001b[0;36m1\n\u001b[0;32m      <a href='vscode-notebook-cell:Untitled-1.ipynb?jupyter-notebook#W2sdW50aXRsZWQ%3D?line=7'>8</a>\u001b[0m conn \u001b[39m=\u001b[39m connect_to_database(db_config)\n\u001b[0;32m     <a href='vscode-notebook-cell:Untitled-1.ipynb?jupyter-notebook#W2sdW50aXRsZWQ%3D?line=9'>10</a>\u001b[0m \u001b[39m# Parse and insert data from XML file into database\u001b[39;00m\n\u001b[1;32m---> <a href='vscode-notebook-cell:Untitled-1.ipynb?jupyter-notebook#W2sdW50aXRsZWQ%3D?line=10'>11</a>\u001b[0m parse_xml_file(xml_file_path, conn)\n\u001b[0;32m     <a href='vscode-notebook-cell:Untitled-1.ipynb?jupyter-notebook#W2sdW50aXRsZWQ%3D?line=12'>13</a>\u001b[0m \u001b[39m# Close the connection\u001b[39;00m\n\u001b[0;32m     <a href='vscode-notebook-cell:Untitled-1.ipynb?jupyter-notebook#W2sdW50aXRsZWQ%3D?line=13'>14</a>\u001b[0m conn\u001b[39m.\u001b[39mclose()\n",
      "\u001b[1;32mUntitled-1.ipynb Cell 4\u001b[0m in \u001b[0;36m4\n\u001b[0;32m     <a href='vscode-notebook-cell:Untitled-1.ipynb?jupyter-notebook#W2sdW50aXRsZWQ%3D?line=44'>45</a>\u001b[0m values \u001b[39m=\u001b[39m \u001b[39mtuple\u001b[39m(element_dict\u001b[39m.\u001b[39mvalues())\n\u001b[0;32m     <a href='vscode-notebook-cell:Untitled-1.ipynb?jupyter-notebook#W2sdW50aXRsZWQ%3D?line=46'>47</a>\u001b[0m \u001b[39m# Check if the table exists\u001b[39;00m\n\u001b[1;32m---> <a href='vscode-notebook-cell:Untitled-1.ipynb?jupyter-notebook#W2sdW50aXRsZWQ%3D?line=47'>48</a>\u001b[0m table_exists \u001b[39m=\u001b[39m execute_sql_query(cur, \u001b[39m\"\u001b[39;49m\u001b[39mSELECT EXISTS (SELECT 1 FROM information_schema.tables WHERE table_name = \u001b[39;49m\u001b[39m%s\u001b[39;49;00m\u001b[39m)\u001b[39;49m\u001b[39m\"\u001b[39;49m, (tag_name,))\u001b[39m.\u001b[39mfetchone()[\u001b[39m0\u001b[39m]\n\u001b[0;32m     <a href='vscode-notebook-cell:Untitled-1.ipynb?jupyter-notebook#W2sdW50aXRsZWQ%3D?line=49'>50</a>\u001b[0m \u001b[39m# If the table does not exist, create it\u001b[39;00m\n\u001b[0;32m     <a href='vscode-notebook-cell:Untitled-1.ipynb?jupyter-notebook#W2sdW50aXRsZWQ%3D?line=50'>51</a>\u001b[0m \u001b[39mif\u001b[39;00m \u001b[39mnot\u001b[39;00m table_exists:\n",
      "\u001b[1;32mUntitled-1.ipynb Cell 4\u001b[0m in \u001b[0;36m2\n\u001b[0;32m     <a href='vscode-notebook-cell:Untitled-1.ipynb?jupyter-notebook#W2sdW50aXRsZWQ%3D?line=20'>21</a>\u001b[0m \u001b[39mdef\u001b[39;00m \u001b[39mexecute_sql_query\u001b[39m(cur, query, params\u001b[39m=\u001b[39m\u001b[39mNone\u001b[39;00m):\n\u001b[1;32m---> <a href='vscode-notebook-cell:Untitled-1.ipynb?jupyter-notebook#W2sdW50aXRsZWQ%3D?line=21'>22</a>\u001b[0m     cur\u001b[39m.\u001b[39;49mexecute(query, params)    \n\u001b[0;32m     <a href='vscode-notebook-cell:Untitled-1.ipynb?jupyter-notebook#W2sdW50aXRsZWQ%3D?line=22'>23</a>\u001b[0m     \u001b[39mreturn\u001b[39;00m cur\n",
      "File \u001b[1;32mc:\\Users\\Roberto\\AppData\\Local\\Programs\\Python\\Python310\\lib\\site-packages\\vertica_python\\vertica\\cursor.py:182\u001b[0m, in \u001b[0;36mCursor.handle_ctrl_c.<locals>.wrap\u001b[1;34m(self, *args, **kwargs)\u001b[0m\n\u001b[0;32m    180\u001b[0m \u001b[39mdef\u001b[39;00m \u001b[39mwrap\u001b[39m(\u001b[39mself\u001b[39m, \u001b[39m*\u001b[39margs, \u001b[39m*\u001b[39m\u001b[39m*\u001b[39mkwargs):\n\u001b[0;32m    181\u001b[0m     \u001b[39mtry\u001b[39;00m:\n\u001b[1;32m--> 182\u001b[0m         \u001b[39mreturn\u001b[39;00m func(\u001b[39mself\u001b[39m, \u001b[39m*\u001b[39margs, \u001b[39m*\u001b[39m\u001b[39m*\u001b[39mkwargs)\n\u001b[0;32m    183\u001b[0m     \u001b[39mexcept\u001b[39;00m \u001b[39mKeyboardInterrupt\u001b[39;00m:\n\u001b[0;32m    184\u001b[0m         \u001b[39mself\u001b[39m\u001b[39m.\u001b[39mconnection\u001b[39m.\u001b[39mcancel()\n",
      "File \u001b[1;32mc:\\Users\\Roberto\\AppData\\Local\\Programs\\Python\\Python310\\lib\\site-packages\\vertica_python\\vertica\\cursor.py:256\u001b[0m, in \u001b[0;36mCursor.execute\u001b[1;34m(self, operation, parameters, use_prepared_statements, copy_stdin, buffer_size)\u001b[0m\n\u001b[0;32m    254\u001b[0m     \u001b[39mif\u001b[39;00m parameters:\n\u001b[0;32m    255\u001b[0m         operation \u001b[39m=\u001b[39m \u001b[39mself\u001b[39m\u001b[39m.\u001b[39mformat_operation_with_parameters(operation, parameters)\n\u001b[1;32m--> 256\u001b[0m     \u001b[39mself\u001b[39;49m\u001b[39m.\u001b[39;49m_execute_simple_query(operation)\n\u001b[0;32m    258\u001b[0m \u001b[39mreturn\u001b[39;00m \u001b[39mself\u001b[39m\n",
      "File \u001b[1;32mc:\\Users\\Roberto\\AppData\\Local\\Programs\\Python\\Python310\\lib\\site-packages\\vertica_python\\vertica\\cursor.py:716\u001b[0m, in \u001b[0;36mCursor._execute_simple_query\u001b[1;34m(self, query)\u001b[0m\n\u001b[0;32m    714\u001b[0m \u001b[39mself\u001b[39m\u001b[39m.\u001b[39m_message \u001b[39m=\u001b[39m \u001b[39mself\u001b[39m\u001b[39m.\u001b[39mconnection\u001b[39m.\u001b[39mread_message()\n\u001b[0;32m    715\u001b[0m \u001b[39mif\u001b[39;00m \u001b[39misinstance\u001b[39m(\u001b[39mself\u001b[39m\u001b[39m.\u001b[39m_message, messages\u001b[39m.\u001b[39mErrorResponse):\n\u001b[1;32m--> 716\u001b[0m     \u001b[39mraise\u001b[39;00m errors\u001b[39m.\u001b[39mQueryError\u001b[39m.\u001b[39mfrom_error_response(\u001b[39mself\u001b[39m\u001b[39m.\u001b[39m_message, query)\n\u001b[0;32m    717\u001b[0m \u001b[39melif\u001b[39;00m \u001b[39misinstance\u001b[39m(\u001b[39mself\u001b[39m\u001b[39m.\u001b[39m_message, messages\u001b[39m.\u001b[39mRowDescription):\n\u001b[0;32m    718\u001b[0m     \u001b[39mself\u001b[39m\u001b[39m.\u001b[39mdescription \u001b[39m=\u001b[39m \u001b[39mself\u001b[39m\u001b[39m.\u001b[39m_message\u001b[39m.\u001b[39mget_description()\n",
      "\u001b[1;31mMissingSchema\u001b[0m: Severity: ERROR, Message: Schema \"information_schema\" does not exist, Sqlstate: 3F000, Routine: RangeVarGetObjid, File: /data/jenkins/workspace/RE-ReleaseBuilds/RE-Knuckleboom/server/vertica/Catalog/Namespace.cpp, Line: 299, Error Code: 4650, SQL: \"SELECT EXISTS (SELECT 1 FROM information_schema.tables WHERE table_name = 'Emisor')\""
     ]
    }
   ],
   "source": [
    "db_config = {'host': 'localhost',\n",
    "             'port': 5433,\n",
    "             'user': 'dbadmin',\n",
    "             'password': '',\n",
    "             'database': ''}\n",
    "\n",
    "# Establish connection to the database\n",
    "conn = connect_to_database(db_config)\n",
    "\n",
    "# Parse and insert data from XML file into database\n",
    "parse_xml_file(xml_file_path, conn)\n",
    "\n",
    "# Close the connection\n",
    "conn.close()\n"
   ]
  }
 ],
 "metadata": {
  "kernelspec": {
   "display_name": "Python 3",
   "language": "python",
   "name": "python3"
  },
  "language_info": {
   "codemirror_mode": {
    "name": "ipython",
    "version": 3
   },
   "file_extension": ".py",
   "mimetype": "text/x-python",
   "name": "python",
   "nbconvert_exporter": "python",
   "pygments_lexer": "ipython3",
   "version": "3.10.8"
  },
  "orig_nbformat": 4
 },
 "nbformat": 4,
 "nbformat_minor": 2
}
