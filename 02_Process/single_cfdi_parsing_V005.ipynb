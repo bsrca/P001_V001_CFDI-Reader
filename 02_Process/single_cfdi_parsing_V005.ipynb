{
 "cells": [
  {
   "cell_type": "code",
   "execution_count": 1,
   "metadata": {},
   "outputs": [],
   "source": [
    "#import Libriaries\n",
    "import pandas as pd\n",
    "import xml.etree.ElementTree as ET\n",
    "import pandasgui\n",
    "import re"
   ]
  },
  {
   "cell_type": "code",
   "execution_count": 2,
   "metadata": {},
   "outputs": [],
   "source": [
    "from graphviz import Digraph\n",
    "import os"
   ]
  },
  {
   "cell_type": "code",
   "execution_count": 3,
   "metadata": {},
   "outputs": [],
   "source": [
    "\n",
    "def get_child_elements(root):\n",
    "    # Create a list to store all child elements\n",
    "    elements = []\n",
    "    # Get all child elements of a given xml element\n",
    "    for child in root:\n",
    "        child.tag = re.sub(r\"{.*?}\", \"\", child.tag)\n",
    "        elements.append(child)\n",
    "        elements.extend(get_child_elements(child))\n",
    "    return elements\n",
    "\n",
    "def parse_xml_file(file_path):\n",
    "    # Parse the XML file\n",
    "    tree = ET.parse(file_path)\n",
    "    root = tree.getroot()\n",
    "\n",
    "    # Create an empty dictionary to store dataframes\n",
    "    df_dict = {}\n",
    "\n",
    "    # Get all child elements of the root element\n",
    "    elements = get_child_elements(root)\n",
    "\n",
    "    # Iterate over the elements\n",
    "    for element in elements:\n",
    "        # Get the tag name\n",
    "        tag_name = element.tag\n",
    "        \n",
    "        # Create a dictionary for the current element\n",
    "        element_dict = {}\n",
    "        \n",
    "        # Get the attributes of the element\n",
    "        element_dict.update(element.attrib)\n",
    "        \n",
    "        # Check if a dataframe with the same tag name exists in the dictionary\n",
    "        if tag_name in df_dict:\n",
    "            # If it exists, append the dictionary to the existing dataframe\n",
    "            df_dict[tag_name] = df_dict[tag_name].append(element_dict, ignore_index=True)\n",
    "        else:\n",
    "            # If it doesn't exist, create a new dataframe and add it to the dictionary\n",
    "            df_dict[tag_name] = pd.DataFrame([element_dict])\n",
    "        \n",
    "    # Show the dataframes using pandasgui\n",
    "    for df_name, df_data in df_dict.items():\n",
    "        pandasgui.show(df_data, title=df_name)\n",
    "        print(df_name)\n"
   ]
  },
  {
   "cell_type": "code",
   "execution_count": 4,
   "metadata": {},
   "outputs": [],
   "source": [
    "#function to get all the child elements of a given xml element\n",
    "\n",
    "def get_child_elements(root):\n",
    "    # Create a list to store all child elements\n",
    "    elements = []\n",
    "    # Get all child elements of a given xml element\n",
    "    for child in root:\n",
    "        child.tag = re.sub(r\"{.*?}\", \"\", child.tag)\n",
    "        elements.append(child)\n",
    "        elements.extend(get_child_elements(child))\n",
    "    return elements\n"
   ]
  },
  {
   "cell_type": "code",
   "execution_count": 5,
   "metadata": {},
   "outputs": [],
   "source": [
    "# Define file to read\n",
    "#xml_file_path = r\"C:\\Users\\Roberto\\OneDrive\\cargoIabono\\Proyectos y Desarrollos\\P001_V001_CFDI-Reader\\01_Inputs\\Nomina\\EMS2103108P3_Pago de nómina_20220815_N_AOAR951019842.xml\"\n",
    "xml_file_path = r\"C:\\Users\\Roberto\\OneDrive\\cargoIabono\\Proyectos y Desarrollos\\P001_V001_CFDI-Reader\\01_Inputs\\Facturas\\0F23FE0D-8324-4BCE-AFAC-68CB67E89714.xml\"\n",
    "xml_tree = ET.parse(xml_file_path)\n",
    "xml_root = xml_tree.getroot()"
   ]
  },
  {
   "cell_type": "code",
   "execution_count": 6,
   "metadata": {},
   "outputs": [
    {
     "ename": "NameError",
     "evalue": "name 'elements' is not defined",
     "output_type": "error",
     "traceback": [
      "\u001b[1;31m---------------------------------------------------------------------------\u001b[0m",
      "\u001b[1;31mNameError\u001b[0m                                 Traceback (most recent call last)",
      "\u001b[1;32mc:\\Users\\Roberto\\OneDrive\\cargoIabono\\Proyectos y Desarrollos\\P001_V001_CFDI-Reader\\02_Process\\single_cfdi_parsing_V005.ipynb Cell 6\u001b[0m in \u001b[0;36m2\n\u001b[0;32m      <a href='vscode-notebook-cell:/c%3A/Users/Roberto/OneDrive/cargoIabono/Proyectos%20y%20Desarrollos/P001_V001_CFDI-Reader/02_Process/single_cfdi_parsing_V005.ipynb#W5sZmlsZQ%3D%3D?line=0'>1</a>\u001b[0m \u001b[39m#add xml root to read it with their child elements\u001b[39;00m\n\u001b[1;32m----> <a href='vscode-notebook-cell:/c%3A/Users/Roberto/OneDrive/cargoIabono/Proyectos%20y%20Desarrollos/P001_V001_CFDI-Reader/02_Process/single_cfdi_parsing_V005.ipynb#W5sZmlsZQ%3D%3D?line=1'>2</a>\u001b[0m elements\u001b[39m.\u001b[39mappend(xml_root)\n\u001b[0;32m      <a href='vscode-notebook-cell:/c%3A/Users/Roberto/OneDrive/cargoIabono/Proyectos%20y%20Desarrollos/P001_V001_CFDI-Reader/02_Process/single_cfdi_parsing_V005.ipynb#W5sZmlsZQ%3D%3D?line=3'>4</a>\u001b[0m \u001b[39m#Read XML Child elements\u001b[39;00m\n\u001b[0;32m      <a href='vscode-notebook-cell:/c%3A/Users/Roberto/OneDrive/cargoIabono/Proyectos%20y%20Desarrollos/P001_V001_CFDI-Reader/02_Process/single_cfdi_parsing_V005.ipynb#W5sZmlsZQ%3D%3D?line=4'>5</a>\u001b[0m elements \u001b[39m=\u001b[39m get_child_elements(xml_root)\n",
      "\u001b[1;31mNameError\u001b[0m: name 'elements' is not defined"
     ]
    }
   ],
   "source": [
    "#add xml root to read it with their child elements\n",
    "elements.append(xml_root)\n",
    "\n",
    "#Read XML Child elements\n",
    "elements = get_child_elements(xml_root)"
   ]
  },
  {
   "cell_type": "code",
   "execution_count": null,
   "metadata": {},
   "outputs": [
    {
     "name": "stderr",
     "output_type": "stream",
     "text": [
      "PandasGUI INFO — pandasgui.gui — Opening PandasGUI\n"
     ]
    },
    {
     "data": {
      "text/plain": [
       "<pandasgui.gui.PandasGui at 0x1f5b6dd8310>"
      ]
     },
     "execution_count": 28,
     "metadata": {},
     "output_type": "execute_result"
    }
   ],
   "source": [
    "# Iterate over the elements and create a dictionary for each one\n",
    "\n",
    "\n",
    "\n",
    "data = []\n",
    "\n",
    "for element in elements:\n",
    "    # Create a dictionary for the current element\n",
    "    element_dict = {}\n",
    "    # Get the tag and attributes of the element\n",
    "    element_dict[\"tag\"] = element.tag\n",
    "    element_dict.update(element.attrib)\n",
    "    # Append the dictionary to the list\n",
    "    data.append(element_dict)\n",
    "\n",
    "# Create a dataframe from the list of dictionaries\n",
    "df = pd.DataFrame(data)\n",
    "\n",
    "pandasgui.show(df)\n",
    "\n"
   ]
  },
  {
   "cell_type": "code",
   "execution_count": null,
   "metadata": {},
   "outputs": [
    {
     "name": "stderr",
     "output_type": "stream",
     "text": [
      "C:\\Users\\Roberto\\AppData\\Local\\Temp\\ipykernel_10272\\1704061678.py:18: FutureWarning:\n",
      "\n",
      "The frame.append method is deprecated and will be removed from pandas in a future version. Use pandas.concat instead.\n",
      "\n",
      "C:\\Users\\Roberto\\AppData\\Local\\Temp\\ipykernel_10272\\1704061678.py:18: FutureWarning:\n",
      "\n",
      "The frame.append method is deprecated and will be removed from pandas in a future version. Use pandas.concat instead.\n",
      "\n",
      "PandasGUI INFO — pandasgui.gui — Opening PandasGUI\n",
      "PandasGUI WARNING — pandasgui.gui — File path is invalid or does not exist: Emisor\n",
      "PandasGUI INFO — pandasgui.gui — Opening PandasGUI\n",
      "PandasGUI WARNING — pandasgui.gui — File path is invalid or does not exist: Receptor\n",
      "PandasGUI INFO — pandasgui.gui — Opening PandasGUI\n",
      "PandasGUI WARNING — pandasgui.gui — File path is invalid or does not exist: Conceptos\n",
      "C:\\Users\\Roberto\\AppData\\Local\\Temp\\ipykernel_10272\\1704061678.py:25: FutureWarning:\n",
      "\n",
      "The default dtype for empty Series will be 'object' instead of 'float64' in a future version. Specify a dtype explicitly to silence this warning.\n",
      "\n",
      "C:\\Users\\Roberto\\AppData\\Local\\Temp\\ipykernel_10272\\1704061678.py:25: FutureWarning:\n",
      "\n",
      "The default dtype for empty Series will be 'object' instead of 'float64' in a future version. Specify a dtype explicitly to silence this warning.\n",
      "\n",
      "C:\\Users\\Roberto\\AppData\\Local\\Temp\\ipykernel_10272\\1704061678.py:25: FutureWarning:\n",
      "\n",
      "The default dtype for empty Series will be 'object' instead of 'float64' in a future version. Specify a dtype explicitly to silence this warning.\n",
      "\n",
      "C:\\Users\\Roberto\\AppData\\Local\\Temp\\ipykernel_10272\\1704061678.py:25: FutureWarning:\n",
      "\n",
      "The default dtype for empty Series will be 'object' instead of 'float64' in a future version. Specify a dtype explicitly to silence this warning.\n",
      "\n",
      "C:\\Users\\Roberto\\AppData\\Local\\Temp\\ipykernel_10272\\1704061678.py:25: FutureWarning:\n",
      "\n",
      "The default dtype for empty Series will be 'object' instead of 'float64' in a future version. Specify a dtype explicitly to silence this warning.\n",
      "\n",
      "PandasGUI INFO — pandasgui.gui — Opening PandasGUI\n",
      "PandasGUI WARNING — pandasgui.gui — File path is invalid or does not exist: Concepto\n",
      "PandasGUI INFO — pandasgui.gui — Opening PandasGUI\n",
      "PandasGUI WARNING — pandasgui.gui — File path is invalid or does not exist: Complemento\n",
      "C:\\Users\\Roberto\\AppData\\Local\\Temp\\ipykernel_10272\\1704061678.py:25: FutureWarning:\n",
      "\n",
      "The default dtype for empty Series will be 'object' instead of 'float64' in a future version. Specify a dtype explicitly to silence this warning.\n",
      "\n",
      "C:\\Users\\Roberto\\AppData\\Local\\Temp\\ipykernel_10272\\1704061678.py:25: FutureWarning:\n",
      "\n",
      "The default dtype for empty Series will be 'object' instead of 'float64' in a future version. Specify a dtype explicitly to silence this warning.\n",
      "\n",
      "C:\\Users\\Roberto\\AppData\\Local\\Temp\\ipykernel_10272\\1704061678.py:25: FutureWarning:\n",
      "\n",
      "The default dtype for empty Series will be 'object' instead of 'float64' in a future version. Specify a dtype explicitly to silence this warning.\n",
      "\n",
      "C:\\Users\\Roberto\\AppData\\Local\\Temp\\ipykernel_10272\\1704061678.py:25: FutureWarning:\n",
      "\n",
      "The default dtype for empty Series will be 'object' instead of 'float64' in a future version. Specify a dtype explicitly to silence this warning.\n",
      "\n",
      "C:\\Users\\Roberto\\AppData\\Local\\Temp\\ipykernel_10272\\1704061678.py:25: FutureWarning:\n",
      "\n",
      "The default dtype for empty Series will be 'object' instead of 'float64' in a future version. Specify a dtype explicitly to silence this warning.\n",
      "\n",
      "PandasGUI INFO — pandasgui.gui — Opening PandasGUI\n",
      "PandasGUI WARNING — pandasgui.gui — File path is invalid or does not exist: Pagos\n",
      "PandasGUI INFO — pandasgui.gui — Opening PandasGUI\n",
      "PandasGUI WARNING — pandasgui.gui — File path is invalid or does not exist: Pago\n",
      "PandasGUI INFO — pandasgui.gui — Opening PandasGUI\n",
      "PandasGUI WARNING — pandasgui.gui — File path is invalid or does not exist: DoctoRelacionado\n",
      "PandasGUI INFO — pandasgui.gui — Opening PandasGUI\n",
      "PandasGUI WARNING — pandasgui.gui — File path is invalid or does not exist: TimbreFiscalDigital\n"
     ]
    }
   ],
   "source": [
    "#Create an empty dictionary to store dataframes\n",
    "df_dict = {}\n",
    "\n",
    "# Iterate over the elements\n",
    "for element in elements:\n",
    "    # Get the tag name\n",
    "    tag_name = element.tag\n",
    "    \n",
    "    # Create a dictionary for the current element\n",
    "    element_dict = {}\n",
    "    \n",
    "    # Get the attributes of the element\n",
    "    element_dict.update(element.attrib)\n",
    "    \n",
    "    # Check if a dataframe with the same tag name exists in the dictionary\n",
    "    if tag_name in df_dict:\n",
    "        # If it exists, append the dictionary to the existing dataframe\n",
    "        df_dict[tag_name] = df_dict[tag_name].append(element_dict, ignore_index=True)\n",
    "    else:\n",
    "        # If it doesn't exist, create a new dataframe and add it to the dictionary\n",
    "        df_dict[tag_name] = pd.DataFrame([element_dict])\n",
    "    \n",
    "# Show the dataframes using pandasgui\n",
    "for df_name, df_data in df_dict.items():\n",
    "    pandasgui.show(df_data, title=df_name)\n"
   ]
  },
  {
   "cell_type": "code",
   "execution_count": null,
   "metadata": {},
   "outputs": [
    {
     "name": "stderr",
     "output_type": "stream",
     "text": [
      "C:\\Users\\Roberto\\AppData\\Local\\Temp\\ipykernel_10272\\1542951845.py:18: FutureWarning:\n",
      "\n",
      "The frame.append method is deprecated and will be removed from pandas in a future version. Use pandas.concat instead.\n",
      "\n",
      "C:\\Users\\Roberto\\AppData\\Local\\Temp\\ipykernel_10272\\1542951845.py:18: FutureWarning:\n",
      "\n",
      "The frame.append method is deprecated and will be removed from pandas in a future version. Use pandas.concat instead.\n",
      "\n",
      "PandasGUI INFO — pandasgui.gui — Opening PandasGUI\n",
      "PandasGUI WARNING — pandasgui.gui — File path is invalid or does not exist: Emisor\n",
      "PandasGUI INFO — pandasgui.gui — Opening PandasGUI\n",
      "PandasGUI WARNING — pandasgui.gui — File path is invalid or does not exist: Receptor\n"
     ]
    },
    {
     "name": "stdout",
     "output_type": "stream",
     "text": [
      "Emisor\n"
     ]
    },
    {
     "name": "stderr",
     "output_type": "stream",
     "text": [
      "PandasGUI INFO — pandasgui.gui — Opening PandasGUI\n",
      "PandasGUI WARNING — pandasgui.gui — File path is invalid or does not exist: Conceptos\n"
     ]
    },
    {
     "name": "stdout",
     "output_type": "stream",
     "text": [
      "Receptor\n"
     ]
    },
    {
     "name": "stderr",
     "output_type": "stream",
     "text": [
      "C:\\Users\\Roberto\\AppData\\Local\\Temp\\ipykernel_10272\\1542951845.py:25: FutureWarning:\n",
      "\n",
      "The default dtype for empty Series will be 'object' instead of 'float64' in a future version. Specify a dtype explicitly to silence this warning.\n",
      "\n",
      "C:\\Users\\Roberto\\AppData\\Local\\Temp\\ipykernel_10272\\1542951845.py:25: FutureWarning:\n",
      "\n",
      "The default dtype for empty Series will be 'object' instead of 'float64' in a future version. Specify a dtype explicitly to silence this warning.\n",
      "\n",
      "C:\\Users\\Roberto\\AppData\\Local\\Temp\\ipykernel_10272\\1542951845.py:25: FutureWarning:\n",
      "\n",
      "The default dtype for empty Series will be 'object' instead of 'float64' in a future version. Specify a dtype explicitly to silence this warning.\n",
      "\n",
      "C:\\Users\\Roberto\\AppData\\Local\\Temp\\ipykernel_10272\\1542951845.py:25: FutureWarning:\n",
      "\n",
      "The default dtype for empty Series will be 'object' instead of 'float64' in a future version. Specify a dtype explicitly to silence this warning.\n",
      "\n",
      "C:\\Users\\Roberto\\AppData\\Local\\Temp\\ipykernel_10272\\1542951845.py:25: FutureWarning:\n",
      "\n",
      "The default dtype for empty Series will be 'object' instead of 'float64' in a future version. Specify a dtype explicitly to silence this warning.\n",
      "\n",
      "PandasGUI INFO — pandasgui.gui — Opening PandasGUI\n",
      "PandasGUI WARNING — pandasgui.gui — File path is invalid or does not exist: Concepto\n"
     ]
    },
    {
     "name": "stdout",
     "output_type": "stream",
     "text": [
      "Conceptos\n"
     ]
    },
    {
     "name": "stderr",
     "output_type": "stream",
     "text": [
      "PandasGUI INFO — pandasgui.gui — Opening PandasGUI\n",
      "PandasGUI WARNING — pandasgui.gui — File path is invalid or does not exist: Complemento\n"
     ]
    },
    {
     "name": "stdout",
     "output_type": "stream",
     "text": [
      "Concepto\n"
     ]
    },
    {
     "name": "stderr",
     "output_type": "stream",
     "text": [
      "C:\\Users\\Roberto\\AppData\\Local\\Temp\\ipykernel_10272\\1542951845.py:25: FutureWarning:\n",
      "\n",
      "The default dtype for empty Series will be 'object' instead of 'float64' in a future version. Specify a dtype explicitly to silence this warning.\n",
      "\n",
      "C:\\Users\\Roberto\\AppData\\Local\\Temp\\ipykernel_10272\\1542951845.py:25: FutureWarning:\n",
      "\n",
      "The default dtype for empty Series will be 'object' instead of 'float64' in a future version. Specify a dtype explicitly to silence this warning.\n",
      "\n",
      "C:\\Users\\Roberto\\AppData\\Local\\Temp\\ipykernel_10272\\1542951845.py:25: FutureWarning:\n",
      "\n",
      "The default dtype for empty Series will be 'object' instead of 'float64' in a future version. Specify a dtype explicitly to silence this warning.\n",
      "\n",
      "C:\\Users\\Roberto\\AppData\\Local\\Temp\\ipykernel_10272\\1542951845.py:25: FutureWarning:\n",
      "\n",
      "The default dtype for empty Series will be 'object' instead of 'float64' in a future version. Specify a dtype explicitly to silence this warning.\n",
      "\n",
      "C:\\Users\\Roberto\\AppData\\Local\\Temp\\ipykernel_10272\\1542951845.py:25: FutureWarning:\n",
      "\n",
      "The default dtype for empty Series will be 'object' instead of 'float64' in a future version. Specify a dtype explicitly to silence this warning.\n",
      "\n",
      "PandasGUI INFO — pandasgui.gui — Opening PandasGUI\n",
      "PandasGUI WARNING — pandasgui.gui — File path is invalid or does not exist: Pagos\n"
     ]
    },
    {
     "name": "stdout",
     "output_type": "stream",
     "text": [
      "Complemento\n"
     ]
    },
    {
     "name": "stderr",
     "output_type": "stream",
     "text": [
      "PandasGUI INFO — pandasgui.gui — Opening PandasGUI\n",
      "PandasGUI WARNING — pandasgui.gui — File path is invalid or does not exist: Pago\n"
     ]
    },
    {
     "name": "stdout",
     "output_type": "stream",
     "text": [
      "Pagos\n"
     ]
    },
    {
     "name": "stderr",
     "output_type": "stream",
     "text": [
      "PandasGUI INFO — pandasgui.gui — Opening PandasGUI\n",
      "PandasGUI WARNING — pandasgui.gui — File path is invalid or does not exist: DoctoRelacionado\n"
     ]
    },
    {
     "name": "stdout",
     "output_type": "stream",
     "text": [
      "Pago\n"
     ]
    },
    {
     "name": "stderr",
     "output_type": "stream",
     "text": [
      "PandasGUI INFO — pandasgui.gui — Opening PandasGUI\n",
      "PandasGUI WARNING — pandasgui.gui — File path is invalid or does not exist: TimbreFiscalDigital\n"
     ]
    },
    {
     "name": "stdout",
     "output_type": "stream",
     "text": [
      "DoctoRelacionado\n",
      "TimbreFiscalDigital\n"
     ]
    }
   ],
   "source": [
    "#Create an empty dictionary to store dataframes\n",
    "df_dict = {}\n",
    "\n",
    "# Iterate over the elements\n",
    "for element in elements:\n",
    "    # Get the tag name\n",
    "    tag_name = element.tag\n",
    "    \n",
    "    # Create a dictionary for the current element\n",
    "    element_dict = {}\n",
    "    \n",
    "    # Get the attributes of the element\n",
    "    element_dict.update(element.attrib)\n",
    "    \n",
    "    # Check if a dataframe with the same tag name exists in the dictionary\n",
    "    if tag_name in df_dict:\n",
    "        # If it exists, append the dictionary to the existing dataframe\n",
    "        df_dict[tag_name] = df_dict[tag_name].append(element_dict, ignore_index=True)\n",
    "    else:\n",
    "        # If it doesn't exist, create a new dataframe and add it to the dictionary\n",
    "        df_dict[tag_name] = pd.DataFrame([element_dict])\n",
    "    \n",
    "# Show the dataframes using pandasgui\n",
    "for df_name, df_data in df_dict.items():\n",
    "    pandasgui.show(df_data, title=df_name)\n",
    "    print(df_name)\n"
   ]
  },
  {
   "cell_type": "code",
   "execution_count": null,
   "metadata": {},
   "outputs": [
    {
     "name": "stderr",
     "output_type": "stream",
     "text": [
      "PandasGUI INFO — pandasgui.gui — Opening PandasGUI\n",
      "PandasGUI WARNING — pandasgui.gui — File path is invalid or does not exist: Emisor\n"
     ]
    }
   ],
   "source": [
    "\n",
    "# Create an empty dictionary to store dataframes\n",
    "df_dict = {}\n",
    "\n",
    "# Iterate over the elements\n",
    "for element in xml_root:\n",
    "    # Get the tag name\n",
    "    tag_name = element.tag\n",
    "    \n",
    "    # Create a dictionary for the current element\n",
    "    element_dict = {}\n",
    "    \n",
    "    # Get the attributes of the element\n",
    "    element_dict.update(element.attrib)\n",
    "    \n",
    "    # Check if a dataframe with the same tag name exists in the dictionary\n",
    "    if tag_name in df_dict:\n",
    "        # If it exists, append the dictionary to the existing dataframe\n",
    "        df_dict[tag_name] = df_dict[tag_name].append(element_dict, ignore_index=True)\n",
    "    else:\n",
    "        # If it doesn't exist, create a new dataframe and add it to the dictionary\n",
    "        df_dict[tag_name] = pd.DataFrame([element_dict])\n",
    "    \n",
    "# Show the dataframes using pandasgui\n",
    "for df_name, df_data in df_dict.items():\n",
    "    pandasgui.show(df_data, title=df_name)\n",
    "    print(df_name)\n"
   ]
  },
  {
   "attachments": {},
   "cell_type": "markdown",
   "metadata": {},
   "source": [
    "Testing Functionalities"
   ]
  },
  {
   "cell_type": "code",
   "execution_count": null,
   "metadata": {},
   "outputs": [],
   "source": [
    "#function to get all the child elements of a given xml element\n",
    "\n",
    "def get_child_elements(xml_root):\n",
    "    # Create a list to store all child elements\n",
    "    elements = []\n",
    "    #append xml root to elements list\n",
    "    #elements.append(xml_root)\n",
    "    # Get all child elements of a given xml element\n",
    "    for child in xml_root:\n",
    "        elements.append(child)\n",
    "        elements.extend(get_child_elements(child))\n",
    "        element.cleaned_tag = element.tag.strip(re.sub(r\"{.*?}\", \"\", element.tag)) \n",
    "    return elements\n",
    "\n",
    "element.cleaned_tag = element.tag.strip(re.sub(r\"{.*?}\", \"\", element.tag)) \n",
    "\n",
    "#cleantag\n",
    "for element in elements:\n",
    "    cleaned_tag = re.sub(r\"{.*?}\", \"\", element.tag)\n",
    "    print(cleaned_tag)\n",
    "    \n",
    "\n",
    "for key, value in attributes:\n",
    "    fieldname = element.tag\n",
    "    fieldvalue = element.text\n",
    "    \n"
   ]
  },
  {
   "cell_type": "code",
   "execution_count": null,
   "metadata": {},
   "outputs": [],
   "source": [
    "#function to get all the child elements of a given xml element\n",
    "\n",
    "def get_child_elements(xml_root):\n",
    "    # Create a list to store all child elements\n",
    "    elements = []\n",
    "    #append xml root to elements list\n",
    "    #elements.append(xml_root)\n",
    "    # Get all child elements of a given xml element\n",
    "    for child in xml_root:\n",
    "        elements.append(child)\n",
    "        elements.extend(get_child_elements(child))\n",
    "    return elements\n"
   ]
  }
 ],
 "metadata": {
  "kernelspec": {
   "display_name": "Python 3",
   "language": "python",
   "name": "python3"
  },
  "language_info": {
   "codemirror_mode": {
    "name": "ipython",
    "version": 3
   },
   "file_extension": ".py",
   "mimetype": "text/x-python",
   "name": "python",
   "nbconvert_exporter": "python",
   "pygments_lexer": "ipython3",
   "version": "3.10.8"
  },
  "orig_nbformat": 4
 },
 "nbformat": 4,
 "nbformat_minor": 2
}
