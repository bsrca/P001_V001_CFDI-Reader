{
 "cells": [
  {
   "cell_type": "code",
   "execution_count": 2,
   "metadata": {},
   "outputs": [],
   "source": [
    "#import Libriaries\n",
    "import xml.etree.ElementTree as ET\n",
    "import pandas as pd\n",
    "import re\n",
    "import duckdb\n",
    "\n",
    "# Create a connection to the DuckDB database\n",
    "conn = duckdb.connect(database='CFDI_development.db')\n",
    "\n",
    "# Define file to read\n",
    "#xml_file_path = r\"C:\\Users\\Roberto\\OneDrive\\cargoIabono\\Proyectos y Desarrollos\\P001_V001_CFDI-Reader\\01_Inputs\\Nomina\\EMS2103108P3_Pago de nómina_20220815_N_AOAR951019842.xml\"\n",
    "xml_file_path = r\"C:\\Users\\Roberto\\OneDrive\\cargoIabono\\Proyectos y Desarrollos\\P001_V001_CFDI-Reader\\01_Inputs\\Facturas\\0F23FE0D-8324-4BCE-AFAC-68CB67E89714.xml\"\n",
    "xml_tree = ET.parse(xml_file_path)\n",
    "xml_root = xml_tree.getroot()"
   ]
  },
  {
   "cell_type": "code",
   "execution_count": 3,
   "metadata": {},
   "outputs": [
    {
     "ename": "NameError",
     "evalue": "name 'get_child_elements' is not defined",
     "output_type": "error",
     "traceback": [
      "\u001b[1;31m---------------------------------------------------------------------------\u001b[0m",
      "\u001b[1;31mNameError\u001b[0m                                 Traceback (most recent call last)",
      "\u001b[1;32mc:\\Users\\Roberto\\OneDrive\\cargoIabono\\Proyectos y Desarrollos\\P001_V001_CFDI-Reader\\02_Process\\single_cfdi_parsing_V002.ipynb Cell 2\u001b[0m in \u001b[0;36m1\n\u001b[1;32m----> <a href='vscode-notebook-cell:/c%3A/Users/Roberto/OneDrive/cargoIabono/Proyectos%20y%20Desarrollos/P001_V001_CFDI-Reader/02_Process/single_cfdi_parsing_V002.ipynb#W1sZmlsZQ%3D%3D?line=0'>1</a>\u001b[0m elements \u001b[39m=\u001b[39m get_child_elements(xml_root)\n\u001b[0;32m      <a href='vscode-notebook-cell:/c%3A/Users/Roberto/OneDrive/cargoIabono/Proyectos%20y%20Desarrollos/P001_V001_CFDI-Reader/02_Process/single_cfdi_parsing_V002.ipynb#W1sZmlsZQ%3D%3D?line=1'>2</a>\u001b[0m \u001b[39m#add xml_root to elements\u001b[39;00m\n\u001b[0;32m      <a href='vscode-notebook-cell:/c%3A/Users/Roberto/OneDrive/cargoIabono/Proyectos%20y%20Desarrollos/P001_V001_CFDI-Reader/02_Process/single_cfdi_parsing_V002.ipynb#W1sZmlsZQ%3D%3D?line=2'>3</a>\u001b[0m elements\u001b[39m.\u001b[39mappend(xml_root)\n",
      "\u001b[1;31mNameError\u001b[0m: name 'get_child_elements' is not defined"
     ]
    }
   ],
   "source": [
    "elements = get_child_elements(xml_root)\n",
    "#add xml_root to elements\n",
    "elements.append(xml_root)\n",
    "for element in elements:\n",
    "    print(element.tag, element.attrib)"
   ]
  },
  {
   "cell_type": "code",
   "execution_count": null,
   "metadata": {},
   "outputs": [],
   "source": [
    "def get_child_elements(xml_root):\n",
    "    # Get all child elements of a given xml element\n",
    "    elements = []\n",
    "    for child in xml_root:\n",
    "        elements.append(child)\n",
    "        elements.extend(get_child_elements(child))\n",
    "    return elements"
   ]
  },
  {
   "cell_type": "code",
   "execution_count": null,
   "metadata": {},
   "outputs": [
    {
     "ename": "NameError",
     "evalue": "name 'get_child_elements' is not defined",
     "output_type": "error",
     "traceback": [
      "\u001b[1;31m---------------------------------------------------------------------------\u001b[0m",
      "\u001b[1;31mNameError\u001b[0m                                 Traceback (most recent call last)",
      "\u001b[1;32mc:\\Users\\Roberto\\OneDrive\\cargoIabono\\Proyectos y Desarrollos\\P001_V001_CFDI-Reader\\02_Process\\single_cfdi_parsing_V002.ipynb Cell 4\u001b[0m in \u001b[0;36m1\n\u001b[1;32m----> <a href='vscode-notebook-cell:/c%3A/Users/Roberto/OneDrive/cargoIabono/Proyectos%20y%20Desarrollos/P001_V001_CFDI-Reader/02_Process/single_cfdi_parsing_V002.ipynb#W3sZmlsZQ%3D%3D?line=0'>1</a>\u001b[0m elements \u001b[39m=\u001b[39m get_child_elements(xml_root)\n\u001b[0;32m      <a href='vscode-notebook-cell:/c%3A/Users/Roberto/OneDrive/cargoIabono/Proyectos%20y%20Desarrollos/P001_V001_CFDI-Reader/02_Process/single_cfdi_parsing_V002.ipynb#W3sZmlsZQ%3D%3D?line=1'>2</a>\u001b[0m \u001b[39m#add xml_root to elements\u001b[39;00m\n\u001b[0;32m      <a href='vscode-notebook-cell:/c%3A/Users/Roberto/OneDrive/cargoIabono/Proyectos%20y%20Desarrollos/P001_V001_CFDI-Reader/02_Process/single_cfdi_parsing_V002.ipynb#W3sZmlsZQ%3D%3D?line=2'>3</a>\u001b[0m elements\u001b[39m.\u001b[39mappend(xml_root)\n",
      "\u001b[1;31mNameError\u001b[0m: name 'get_child_elements' is not defined"
     ]
    }
   ],
   "source": [
    "elements = get_child_elements(xml_root)\n",
    "#add xml_root to elements\n",
    "elements.append(xml_root)"
   ]
  },
  {
   "cell_type": "code",
   "execution_count": null,
   "metadata": {},
   "outputs": [
    {
     "name": "stdout",
     "output_type": "stream",
     "text": [
      "Emisor dict_keys(['Rfc', 'Nombre', 'RegimenFiscal']) dict_values(['FIS780810KQ9', 'FISACERO, S.A.P.I. DE C.V.', '601'])\n",
      "Receptor dict_keys(['Rfc', 'Nombre', 'UsoCFDI']) dict_values(['FAN540305I15', 'GENVAMEX, S.A. DE C.V. AV. NOGALAR SUR No. 301', 'P01'])\n",
      "Conceptos dict_keys([]) dict_values([])\n",
      "Concepto dict_keys(['ClaveProdServ', 'Cantidad', 'ClaveUnidad', 'Descripcion', 'ValorUnitario', 'Importe']) dict_values(['84111506', '1', 'ACT', 'Pago', '0', '0'])\n",
      "Complemento dict_keys([]) dict_values([])\n",
      "Pagos dict_keys(['Version']) dict_values(['1.0'])\n",
      "Pago dict_keys(['FechaPago', 'FormaDePagoP', 'MonedaP', 'TipoCambioP', 'Monto', 'NumOperacion', 'CtaOrdenante', 'CtaBeneficiario']) dict_values(['2020-07-02T12:00:00', '03', 'USD', '23.089300', '21355.97', 'AUT. 70761686', '058580012472100218', '112962000030952390'])\n",
      "DoctoRelacionado dict_keys(['IdDocumento', 'Serie', 'Folio', 'MonedaDR', 'MetodoDePagoDR', 'NumParcialidad', 'ImpSaldoAnt', 'ImpPagado', 'ImpSaldoInsoluto']) dict_values(['9FBCCDBB-2B12-4D3D-B872-D01048B95B61', 'IA', '000000481', 'USD', 'PPD', '1', '1017.02', '1017.02', '0.00'])\n",
      "DoctoRelacionado dict_keys(['IdDocumento', 'Serie', 'Folio', 'MonedaDR', 'MetodoDePagoDR', 'NumParcialidad', 'ImpSaldoAnt', 'ImpPagado', 'ImpSaldoInsoluto']) dict_values(['D8CD5D20-6BC0-41A5-913D-AF93F2C173A4', 'IA', '000000483', 'USD', 'PPD', '1', '8244.28', '8244.28', '0.00'])\n",
      "DoctoRelacionado dict_keys(['IdDocumento', 'Serie', 'Folio', 'MonedaDR', 'MetodoDePagoDR', 'NumParcialidad', 'ImpSaldoAnt', 'ImpPagado', 'ImpSaldoInsoluto']) dict_values(['F37A03D5-58C1-4819-BF52-88C1E7056C1E', 'IA', '000000431', 'USD', 'PPD', '1', '12094.67', '12094.67', '0.00'])\n",
      "TimbreFiscalDigital dict_keys(['{http://www.w3.org/2001/XMLSchema-instance}schemaLocation', 'Version', 'UUID', 'FechaTimbrado', 'RfcProvCertif', 'SelloCFD', 'NoCertificadoSAT', 'SelloSAT']) dict_values(['http://www.sat.gob.mx/TimbreFiscalDigital http://www.sat.gob.mx/sitio_internet/cfd/TimbreFiscalDigital/TimbreFiscalDigitalv11.xsd', '1.1', '0F23FE0D-8324-4BCE-AFAC-68CB67E89714', '2020-08-06T10:00:54', 'ASE0209252Q1', 'KYzHfFCfdi3rSOpAISJPq3K3OVj5QfmL2FVAAW/mU0+vgVext/LkwTXirfefSEeob+eC2O9ODS1/bs7DK0BwEJYRYULBH1ENTlGq19feq+Rv3N5nYDOV7hvQZ+K/jbRg1X4ms87TdUKP8r+dzCzHHWXUIDDl32NqkrG1r897ZVe2n3qjNowP3lnJa2U6kXMQHUcCubxCZR46J8eMW+uWOd6PnjxLpqQfv/0cpCSRmThEN/kIdKG6cIxsH0ZppQSTc9QU61xFRdz7nAp/vpjqBhIJHOZZjLO0U4y8SSRAmABFSMNnWdON44itg9XXwIcvedtVfzrV2uBC4nNAEsRC3w==', '00001000000404481161', 'UWWsOgtHZHB/UO0pEvSx4sVgpFrEe3ZyWCd5r199j46otdGR9Yn+1wZ2taXRv0hdD2184RRfOlxtOocjZM/njjKnF4wcJhJZcXw0I0QHYjA2E+nExYRNNCc+CYiR+buXnMQq8NrYuZETzdKP/g6xadWJ6/oxCNHJTLKEoNbM+6Qj+O8cC4NjikabC22nV7W/ivDAgf3obmEmF8D48+PwLDlpQxkKEpTNBnueIfW36FNVKhJyu8dMr3hL9nLCpHLIR/uNr4Xy1TFXO1F/ohjpQQva9P4f+Of1cvWjdmDf2fijMGPNIbdF9zbDmYvVM+mMSWGwqAPvk/CwMgug+Kd0uQ=='])\n",
      "Comprobante dict_keys(['{http://www.w3.org/2001/XMLSchema-instance}schemaLocation', 'Version', 'Serie', 'Folio', 'Fecha', 'Sello', 'NoCertificado', 'Certificado', 'SubTotal', 'Moneda', 'Total', 'TipoDeComprobante', 'LugarExpedicion']) dict_values(['http://www.sat.gob.mx/cfd/3 http://www.sat.gob.mx/sitio_internet/cfd/3/cfdv33.xsd http://www.sat.gob.mx/Pagos http://www.sat.gob.mx/sitio_internet/cfd/Pagos/Pagos10.xsd', '3.3', 'CPIA', '146', '2020-08-06T10:00:40', 'KYzHfFCfdi3rSOpAISJPq3K3OVj5QfmL2FVAAW/mU0+vgVext/LkwTXirfefSEeob+eC2O9ODS1/bs7DK0BwEJYRYULBH1ENTlGq19feq+Rv3N5nYDOV7hvQZ+K/jbRg1X4ms87TdUKP8r+dzCzHHWXUIDDl32NqkrG1r897ZVe2n3qjNowP3lnJa2U6kXMQHUcCubxCZR46J8eMW+uWOd6PnjxLpqQfv/0cpCSRmThEN/kIdKG6cIxsH0ZppQSTc9QU61xFRdz7nAp/vpjqBhIJHOZZjLO0U4y8SSRAmABFSMNnWdON44itg9XXwIcvedtVfzrV2uBC4nNAEsRC3w==', '00001000000405222177', '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', '0', 'XXX', '0', 'P', '65550'])\n"
     ]
    }
   ],
   "source": [
    "elements = get_child_elements(xml_root)\n",
    "#add xml_root to elements\n",
    "elements.append(xml_root)\n",
    "for element in elements:\n",
    "    #print(element.tag)\n",
    "    tablename = re.sub(r\"{.*?}\", \"\", element.tag)\n",
    "    print(element.tag, tablename, element.attrib.keys(), element.attrib.values())\n",
    "    \n",
    "emisor = \"{http://www.sat.gob.mx/cfd/3}Emisor\"\n",
    "cleaned_emisor = re.sub(r\"{.*?}\", \"\", emisor)"
   ]
  },
  {
   "cell_type": "code",
   "execution_count": null,
   "metadata": {},
   "outputs": [],
   "source": [
    "import re\n",
    "\n",
    "elements = get_child_elements(xml_root)\n",
    "elements.append(xml_root)\n",
    "\n",
    "for element in elements:\n",
    "    cleaned_tag = re.sub(r\"{.*?}\", \"\", element.tag)\n",
    "    print(cleaned_tag)\n"
   ]
  },
  {
   "cell_type": "code",
   "execution_count": null,
   "metadata": {},
   "outputs": [],
   "source": [
    "\n",
    "for key, value in attributes:\n",
    "    fieldname = element.tag\n",
    "    fieldvalue = element.text\n",
    "    \n"
   ]
  },
  {
   "cell_type": "code",
   "execution_count": null,
   "metadata": {},
   "outputs": [
    {
     "ename": "NameError",
     "evalue": "name 'xml_root' is not defined",
     "output_type": "error",
     "traceback": [
      "\u001b[1;31m---------------------------------------------------------------------------\u001b[0m",
      "\u001b[1;31mNameError\u001b[0m                                 Traceback (most recent call last)",
      "\u001b[1;32mc:\\Users\\Roberto\\OneDrive\\cargoIabono\\Proyectos y Desarrollos\\P001_V001_CFDI-Reader\\02_Process\\single_cfdi_parsing_V002.ipynb Cell 7\u001b[0m in \u001b[0;36m2\n\u001b[0;32m      <a href='vscode-notebook-cell:/c%3A/Users/Roberto/OneDrive/cargoIabono/Proyectos%20y%20Desarrollos/P001_V001_CFDI-Reader/02_Process/single_cfdi_parsing_V002.ipynb#W6sZmlsZQ%3D%3D?line=0'>1</a>\u001b[0m \u001b[39m# retrieve the element's attribute key-value pairs and print them\u001b[39;00m\n\u001b[1;32m----> <a href='vscode-notebook-cell:/c%3A/Users/Roberto/OneDrive/cargoIabono/Proyectos%20y%20Desarrollos/P001_V001_CFDI-Reader/02_Process/single_cfdi_parsing_V002.ipynb#W6sZmlsZQ%3D%3D?line=1'>2</a>\u001b[0m attributes \u001b[39m=\u001b[39m xml_root\u001b[39m.\u001b[39mitems()\n\u001b[0;32m      <a href='vscode-notebook-cell:/c%3A/Users/Roberto/OneDrive/cargoIabono/Proyectos%20y%20Desarrollos/P001_V001_CFDI-Reader/02_Process/single_cfdi_parsing_V002.ipynb#W6sZmlsZQ%3D%3D?line=2'>3</a>\u001b[0m \u001b[39mfor\u001b[39;00m tag, key, value \u001b[39min\u001b[39;00m attributes:\n\u001b[0;32m      <a href='vscode-notebook-cell:/c%3A/Users/Roberto/OneDrive/cargoIabono/Proyectos%20y%20Desarrollos/P001_V001_CFDI-Reader/02_Process/single_cfdi_parsing_V002.ipynb#W6sZmlsZQ%3D%3D?line=3'>4</a>\u001b[0m     \u001b[39mprint\u001b[39m(attributes)\n",
      "\u001b[1;31mNameError\u001b[0m: name 'xml_root' is not defined"
     ]
    }
   ],
   "source": [
    "# retrieve the element's attribute key-value pairs and print them\n",
    "attributes = xml_root.items()\n",
    "for tag, key, value in attributes:\n",
    "    print(attributes,  key, value)"
   ]
  }
 ],
 "metadata": {
  "kernelspec": {
   "display_name": "Python 3",
   "language": "python",
   "name": "python3"
  },
  "language_info": {
   "codemirror_mode": {
    "name": "ipython",
    "version": 3
   },
   "file_extension": ".py",
   "mimetype": "text/x-python",
   "name": "python",
   "nbconvert_exporter": "python",
   "pygments_lexer": "ipython3",
   "version": "3.10.8"
  },
  "orig_nbformat": 4,
  "vscode": {
   "interpreter": {
    "hash": "5071cda9a5660602aca701335f27c10e4afae7f60ddd820f1297d11c505cfd3c"
   }
  }
 },
 "nbformat": 4,
 "nbformat_minor": 2
}
