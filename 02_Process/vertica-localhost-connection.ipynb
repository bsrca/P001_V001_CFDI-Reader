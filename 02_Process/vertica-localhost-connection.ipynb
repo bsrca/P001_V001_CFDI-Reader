{
 "cells": [
  {
   "cell_type": "code",
   "execution_count": 1,
   "metadata": {},
   "outputs": [],
   "source": [
    "import vertica_python\n",
    "import pandas as pd\n",
    "from pandasgui import show"
   ]
  },
  {
   "cell_type": "code",
   "execution_count": 4,
   "metadata": {},
   "outputs": [
    {
     "ename": "ConnectionError",
     "evalue": "Connection closed by Vertica",
     "output_type": "error",
     "traceback": [
      "\u001b[1;31m---------------------------------------------------------------------------\u001b[0m",
      "\u001b[1;31mConnectionError\u001b[0m                           Traceback (most recent call last)",
      "\u001b[1;32mc:\\Users\\Roberto\\OneDrive\\cargoIabono\\Proyectos y Desarrollos\\P001_V001_CFDI-Reader\\02_Process\\vertica-localhost-connection.ipynb Cell 2\u001b[0m in \u001b[0;36m9\n\u001b[0;32m      <a href='vscode-notebook-cell:/c%3A/Users/Roberto/OneDrive/cargoIabono/Proyectos%20y%20Desarrollos/P001_V001_CFDI-Reader/02_Process/vertica-localhost-connection.ipynb#W1sZmlsZQ%3D%3D?line=1'>2</a>\u001b[0m conn_info \u001b[39m=\u001b[39m {\u001b[39m'\u001b[39m\u001b[39mhost\u001b[39m\u001b[39m'\u001b[39m: \u001b[39m'\u001b[39m\u001b[39mlocalhost\u001b[39m\u001b[39m'\u001b[39m,\n\u001b[0;32m      <a href='vscode-notebook-cell:/c%3A/Users/Roberto/OneDrive/cargoIabono/Proyectos%20y%20Desarrollos/P001_V001_CFDI-Reader/02_Process/vertica-localhost-connection.ipynb#W1sZmlsZQ%3D%3D?line=2'>3</a>\u001b[0m              \u001b[39m'\u001b[39m\u001b[39mport\u001b[39m\u001b[39m'\u001b[39m: \u001b[39m5433\u001b[39m,\n\u001b[0;32m      <a href='vscode-notebook-cell:/c%3A/Users/Roberto/OneDrive/cargoIabono/Proyectos%20y%20Desarrollos/P001_V001_CFDI-Reader/02_Process/vertica-localhost-connection.ipynb#W1sZmlsZQ%3D%3D?line=3'>4</a>\u001b[0m              \u001b[39m'\u001b[39m\u001b[39muser\u001b[39m\u001b[39m'\u001b[39m: \u001b[39m'\u001b[39m\u001b[39mdbadmin\u001b[39m\u001b[39m'\u001b[39m,\n\u001b[0;32m      <a href='vscode-notebook-cell:/c%3A/Users/Roberto/OneDrive/cargoIabono/Proyectos%20y%20Desarrollos/P001_V001_CFDI-Reader/02_Process/vertica-localhost-connection.ipynb#W1sZmlsZQ%3D%3D?line=4'>5</a>\u001b[0m              \u001b[39m'\u001b[39m\u001b[39mpassword\u001b[39m\u001b[39m'\u001b[39m: \u001b[39m'\u001b[39m\u001b[39mun0ypzjo \u001b[39m\u001b[39m'\u001b[39m,\n\u001b[0;32m      <a href='vscode-notebook-cell:/c%3A/Users/Roberto/OneDrive/cargoIabono/Proyectos%20y%20Desarrollos/P001_V001_CFDI-Reader/02_Process/vertica-localhost-connection.ipynb#W1sZmlsZQ%3D%3D?line=5'>6</a>\u001b[0m              \u001b[39m'\u001b[39m\u001b[39mdatabase\u001b[39m\u001b[39m'\u001b[39m: \u001b[39m'\u001b[39m\u001b[39m'\u001b[39m}\n\u001b[0;32m      <a href='vscode-notebook-cell:/c%3A/Users/Roberto/OneDrive/cargoIabono/Proyectos%20y%20Desarrollos/P001_V001_CFDI-Reader/02_Process/vertica-localhost-connection.ipynb#W1sZmlsZQ%3D%3D?line=7'>8</a>\u001b[0m \u001b[39m# Open a connection to the database\u001b[39;00m\n\u001b[1;32m----> <a href='vscode-notebook-cell:/c%3A/Users/Roberto/OneDrive/cargoIabono/Proyectos%20y%20Desarrollos/P001_V001_CFDI-Reader/02_Process/vertica-localhost-connection.ipynb#W1sZmlsZQ%3D%3D?line=8'>9</a>\u001b[0m conn \u001b[39m=\u001b[39m vertica_python\u001b[39m.\u001b[39mconnect(\u001b[39m*\u001b[39m\u001b[39m*\u001b[39mconn_info)\n",
      "File \u001b[1;32mc:\\Users\\Roberto\\AppData\\Local\\Programs\\Python\\Python310\\lib\\site-packages\\vertica_python\\vertica\\connection.py:86\u001b[0m, in \u001b[0;36mconnect\u001b[1;34m(**kwargs)\u001b[0m\n\u001b[0;32m     83\u001b[0m \u001b[39mdef\u001b[39;00m \u001b[39mconnect\u001b[39m(\u001b[39m*\u001b[39m\u001b[39m*\u001b[39mkwargs):\n\u001b[0;32m     84\u001b[0m     \u001b[39m# type: (Any) -> Connection\u001b[39;00m\n\u001b[0;32m     85\u001b[0m     \u001b[39m\"\"\"Opens a new connection to a Vertica database.\"\"\"\u001b[39;00m\n\u001b[1;32m---> 86\u001b[0m     \u001b[39mreturn\u001b[39;00m Connection(kwargs)\n",
      "File \u001b[1;32mc:\\Users\\Roberto\\AppData\\Local\\Programs\\Python\\Python310\\lib\\site-packages\\vertica_python\\vertica\\connection.py:330\u001b[0m, in \u001b[0;36mConnection.__init__\u001b[1;34m(self, options)\u001b[0m\n\u001b[0;32m    324\u001b[0m \u001b[39mself\u001b[39m\u001b[39m.\u001b[39m_logger\u001b[39m.\u001b[39mdebug(\u001b[39m'\u001b[39m\u001b[39mComplex types metadata is \u001b[39m\u001b[39m{}\u001b[39;00m\u001b[39m'\u001b[39m\u001b[39m.\u001b[39mformat(\n\u001b[0;32m    325\u001b[0m              \u001b[39m'\u001b[39m\u001b[39mrequested\u001b[39m\u001b[39m'\u001b[39m \u001b[39mif\u001b[39;00m \u001b[39mself\u001b[39m\u001b[39m.\u001b[39moptions[\u001b[39m'\u001b[39m\u001b[39mrequest_complex_types\u001b[39m\u001b[39m'\u001b[39m] \u001b[39melse\u001b[39;00m \u001b[39m'\u001b[39m\u001b[39mnot requested\u001b[39m\u001b[39m'\u001b[39m))\n\u001b[0;32m    327\u001b[0m \u001b[39mself\u001b[39m\u001b[39m.\u001b[39m_logger\u001b[39m.\u001b[39minfo(\u001b[39m'\u001b[39m\u001b[39mConnecting as user \u001b[39m\u001b[39m\"\u001b[39m\u001b[39m{}\u001b[39;00m\u001b[39m\"\u001b[39m\u001b[39m to database \u001b[39m\u001b[39m\"\u001b[39m\u001b[39m{}\u001b[39;00m\u001b[39m\"\u001b[39m\u001b[39m on host \u001b[39m\u001b[39m\"\u001b[39m\u001b[39m{}\u001b[39;00m\u001b[39m\"\u001b[39m\u001b[39m with port \u001b[39m\u001b[39m{}\u001b[39;00m\u001b[39m'\u001b[39m\u001b[39m.\u001b[39mformat(\n\u001b[0;32m    328\u001b[0m              \u001b[39mself\u001b[39m\u001b[39m.\u001b[39moptions[\u001b[39m'\u001b[39m\u001b[39muser\u001b[39m\u001b[39m'\u001b[39m], \u001b[39mself\u001b[39m\u001b[39m.\u001b[39moptions[\u001b[39m'\u001b[39m\u001b[39mdatabase\u001b[39m\u001b[39m'\u001b[39m],\n\u001b[0;32m    329\u001b[0m              \u001b[39mself\u001b[39m\u001b[39m.\u001b[39moptions[\u001b[39m'\u001b[39m\u001b[39mhost\u001b[39m\u001b[39m'\u001b[39m], \u001b[39mself\u001b[39m\u001b[39m.\u001b[39moptions[\u001b[39m'\u001b[39m\u001b[39mport\u001b[39m\u001b[39m'\u001b[39m]))\n\u001b[1;32m--> 330\u001b[0m \u001b[39mself\u001b[39;49m\u001b[39m.\u001b[39;49mstartup_connection()\n\u001b[0;32m    332\u001b[0m \u001b[39m# Complex types metadata is returned since protocol version 3.12\u001b[39;00m\n\u001b[0;32m    333\u001b[0m \u001b[39mself\u001b[39m\u001b[39m.\u001b[39mcomplex_types_enabled \u001b[39m=\u001b[39m \u001b[39mself\u001b[39m\u001b[39m.\u001b[39mparameters[\u001b[39m'\u001b[39m\u001b[39mprotocol_version\u001b[39m\u001b[39m'\u001b[39m] \u001b[39m>\u001b[39m\u001b[39m=\u001b[39m (\u001b[39m3\u001b[39m \u001b[39m<<\u001b[39m \u001b[39m16\u001b[39m \u001b[39m|\u001b[39m \u001b[39m12\u001b[39m) \u001b[39mand\u001b[39;00m \\\n\u001b[0;32m    334\u001b[0m                              \u001b[39mself\u001b[39m\u001b[39m.\u001b[39mparameters\u001b[39m.\u001b[39mget(\u001b[39m'\u001b[39m\u001b[39mrequest_complex_types\u001b[39m\u001b[39m'\u001b[39m, \u001b[39m'\u001b[39m\u001b[39moff\u001b[39m\u001b[39m'\u001b[39m) \u001b[39m==\u001b[39m \u001b[39m'\u001b[39m\u001b[39mon\u001b[39m\u001b[39m'\u001b[39m\n",
      "File \u001b[1;32mc:\\Users\\Roberto\\AppData\\Local\\Programs\\Python\\Python310\\lib\\site-packages\\vertica_python\\vertica\\connection.py:830\u001b[0m, in \u001b[0;36mConnection.startup_connection\u001b[1;34m(self)\u001b[0m\n\u001b[0;32m    827\u001b[0m \u001b[39mself\u001b[39m\u001b[39m.\u001b[39mwrite(messages\u001b[39m.\u001b[39mStartup(user, database, session_label, os_user_name, autocommit, binary_transfer, request_complex_types))\n\u001b[0;32m    829\u001b[0m \u001b[39mwhile\u001b[39;00m \u001b[39mTrue\u001b[39;00m:\n\u001b[1;32m--> 830\u001b[0m     message \u001b[39m=\u001b[39m \u001b[39mself\u001b[39;49m\u001b[39m.\u001b[39;49mread_message()\n\u001b[0;32m    832\u001b[0m     \u001b[39mif\u001b[39;00m \u001b[39misinstance\u001b[39m(message, messages\u001b[39m.\u001b[39mAuthentication):\n\u001b[0;32m    833\u001b[0m         \u001b[39mif\u001b[39;00m message\u001b[39m.\u001b[39mcode \u001b[39m==\u001b[39m messages\u001b[39m.\u001b[39mAuthentication\u001b[39m.\u001b[39mOK:\n",
      "File \u001b[1;32mc:\\Users\\Roberto\\AppData\\Local\\Programs\\Python\\Python310\\lib\\site-packages\\vertica_python\\vertica\\connection.py:668\u001b[0m, in \u001b[0;36mConnection.read_message\u001b[1;34m(self)\u001b[0m\n\u001b[0;32m    666\u001b[0m \u001b[39mwhile\u001b[39;00m \u001b[39mTrue\u001b[39;00m:\n\u001b[0;32m    667\u001b[0m     \u001b[39mtry\u001b[39;00m:\n\u001b[1;32m--> 668\u001b[0m         type_ \u001b[39m=\u001b[39m \u001b[39mself\u001b[39;49m\u001b[39m.\u001b[39;49mread_bytes(\u001b[39m1\u001b[39;49m)\n\u001b[0;32m    669\u001b[0m         size \u001b[39m=\u001b[39m unpack(\u001b[39m'\u001b[39m\u001b[39m!I\u001b[39m\u001b[39m'\u001b[39m, \u001b[39mself\u001b[39m\u001b[39m.\u001b[39mread_bytes(\u001b[39m4\u001b[39m))[\u001b[39m0\u001b[39m]\n\u001b[0;32m    670\u001b[0m         \u001b[39mif\u001b[39;00m size \u001b[39m<\u001b[39m \u001b[39m4\u001b[39m:\n",
      "File \u001b[1;32mc:\\Users\\Roberto\\AppData\\Local\\Programs\\Python\\Python310\\lib\\site-packages\\vertica_python\\vertica\\connection.py:733\u001b[0m, in \u001b[0;36mConnection.read_bytes\u001b[1;34m(self, n)\u001b[0m\n\u001b[0;32m    731\u001b[0m     result \u001b[39m=\u001b[39m \u001b[39mself\u001b[39m\u001b[39m.\u001b[39m_socket_as_file()\u001b[39m.\u001b[39mread(\u001b[39m1\u001b[39m)\n\u001b[0;32m    732\u001b[0m     \u001b[39mif\u001b[39;00m \u001b[39mnot\u001b[39;00m result:\n\u001b[1;32m--> 733\u001b[0m         \u001b[39mraise\u001b[39;00m errors\u001b[39m.\u001b[39mConnectionError(\u001b[39m\"\u001b[39m\u001b[39mConnection closed by Vertica\u001b[39m\u001b[39m\"\u001b[39m)\n\u001b[0;32m    734\u001b[0m     \u001b[39mreturn\u001b[39;00m result\n\u001b[0;32m    735\u001b[0m \u001b[39melse\u001b[39;00m:\n",
      "\u001b[1;31mConnectionError\u001b[0m: Connection closed by Vertica"
     ]
    }
   ],
   "source": [
    "# Set up the connection parameters\n",
    "conn_info = {'host': 'localhost',\n",
    "             'port': 5433,\n",
    "             'user': 'dbadmin',\n",
    "             'password': 'un0ypzjo ',\n",
    "             'database': ''}\n",
    "\n",
    "# Open a connection to the database\n",
    "conn = vertica_python.connect(**conn_info)\n",
    "\n"
   ]
  },
  {
   "cell_type": "code",
   "execution_count": 19,
   "metadata": {},
   "outputs": [
    {
     "name": "stderr",
     "output_type": "stream",
     "text": [
      "C:\\Users\\Roberto\\AppData\\Local\\Temp\\ipykernel_23956\\193518316.py:2: UserWarning:\n",
      "\n",
      "pandas only supports SQLAlchemy connectable (engine/connection) or database string URI or sqlite3 DBAPI2 connection. Other DBAPI2 objects are not tested. Please consider using SQLAlchemy.\n",
      "\n",
      "PandasGUI INFO — pandasgui.gui — Opening PandasGUI\n"
     ]
    },
    {
     "data": {
      "text/plain": [
       "<pandasgui.gui.PandasGui at 0x19b4e0e00d0>"
      ]
     },
     "execution_count": 19,
     "metadata": {},
     "output_type": "execute_result"
    }
   ],
   "source": [
    "# Execute the query and store the results in a pandas dataframe\n",
    "df = pd.read_sql_query('SELECT * FROM all_tables', conn)\n",
    "\n",
    "# Display the dataframe as a spreadsheet in a separate window\n",
    "show(df)"
   ]
  },
  {
   "cell_type": "code",
   "execution_count": null,
   "metadata": {},
   "outputs": [],
   "source": [
    "#duck db\n",
    "\n",
    "\n",
    "\n",
    "# Create a connection to the DuckDB database\n",
    "conn = duckdb.connect(database='example001.db')\n",
    "\n",
    "# Drop the existing table if it exists\n",
    "conn.execute('DROP TABLE IF EXISTS users')\n",
    "\n",
    "# Create a new table\n",
    "conn.execute('CREATE TABLE users (id INTEGER PRIMARY KEY, name VARCHAR(30), age INTEGER)')\n",
    "\n",
    "# Insert some data into the table\n",
    "conn.execute(\"INSERT INTO users (id, name, age) VALUES (1, 'Alice', 25)\")\n",
    "conn.execute(\"INSERT INTO users (id, name, age) VALUES (2, 'Bob', 30)\")\n",
    "conn.execute(\"INSERT INTO users (id, name, age) VALUES (3, 'Charlie', 35)\")\n",
    "\n",
    "# Commit the changes\n",
    "conn.commit()\n"
   ]
  }
 ],
 "metadata": {
  "kernelspec": {
   "display_name": "Python 3",
   "language": "python",
   "name": "python3"
  },
  "language_info": {
   "codemirror_mode": {
    "name": "ipython",
    "version": 3
   },
   "file_extension": ".py",
   "mimetype": "text/x-python",
   "name": "python",
   "nbconvert_exporter": "python",
   "pygments_lexer": "ipython3",
   "version": "3.10.8"
  },
  "orig_nbformat": 4
 },
 "nbformat": 4,
 "nbformat_minor": 2
}
