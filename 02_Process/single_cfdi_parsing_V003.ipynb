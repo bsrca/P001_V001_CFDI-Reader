{
 "cells": [
  {
   "cell_type": "code",
   "execution_count": 1,
   "metadata": {},
   "outputs": [],
   "source": [
    "#import Libriaries\n",
    "import xml.etree.ElementTree as ET\n",
    "import pandas as pd"
   ]
  },
  {
   "cell_type": "code",
   "execution_count": 2,
   "metadata": {},
   "outputs": [],
   "source": [
    "# Define file to read\n",
    "#xml_file_path = r\"C:\\Users\\Roberto\\OneDrive\\cargoIabono\\Proyectos y Desarrollos\\P001_V001_CFDI-Reader\\01_Inputs\\Nomina\\EMS2103108P3_Pago de nómina_20220815_N_AOAR951019842.xml\"\n",
    "xml_file_path = r\"C:\\Users\\Roberto\\OneDrive\\cargoIabono\\Proyectos y Desarrollos\\P001_V001_CFDI-Reader\\01_Inputs\\Facturas\\0F23FE0D-8324-4BCE-AFAC-68CB67E89714.xml\"\n",
    "xml_tree = ET.parse(xml_file_path)\n",
    "xml_root = xml_tree.getroot()"
   ]
  },
  {
   "cell_type": "code",
   "execution_count": null,
   "metadata": {},
   "outputs": [],
   "source": []
  }
 ],
 "metadata": {
  "kernelspec": {
   "display_name": "Python 3",
   "language": "python",
   "name": "python3"
  },
  "language_info": {
   "codemirror_mode": {
    "name": "ipython",
    "version": 3
   },
   "file_extension": ".py",
   "mimetype": "text/x-python",
   "name": "python",
   "nbconvert_exporter": "python",
   "pygments_lexer": "ipython3",
   "version": "3.10.8"
  },
  "orig_nbformat": 4
 },
 "nbformat": 4,
 "nbformat_minor": 2
}
