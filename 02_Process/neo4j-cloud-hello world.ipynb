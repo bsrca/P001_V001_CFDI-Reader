{
 "cells": [
  {
   "attachments": {},
   "cell_type": "markdown",
   "metadata": {},
   "source": [
    "Neo4j Aura Connection Test"
   ]
  },
  {
   "cell_type": "code",
   "execution_count": 25,
   "metadata": {},
   "outputs": [],
   "source": [
    "from neo4j import GraphDatabase"
   ]
  },
  {
   "cell_type": "code",
   "execution_count": 26,
   "metadata": {},
   "outputs": [],
   "source": [
    "# Set up the Neo4j driver\n",
    "uri = \"neo4j+s://2c9df469.databases.neo4j.io\"\n",
    "user = \"neo4j\"\n",
    "password = \"qcykrYY8F9afv2Nz1kOKpK8Q0dSNAfL3RJBY1ejvIGY\"\n",
    "driver = GraphDatabase.driver(uri, auth=(user, password))\n"
   ]
  },
  {
   "cell_type": "code",
   "execution_count": 27,
   "metadata": {},
   "outputs": [
    {
     "name": "stdout",
     "output_type": "stream",
     "text": [
      "1\n"
     ]
    }
   ],
   "source": [
    "# Test the connection by running a simple query\n",
    "with driver.session() as session:\n",
    "    result = session.run(\"RETURN 1\")\n",
    "    print(result.single()[0])\n",
    "\n",
    "# Close the driver connection\n",
    "driver.close()"
   ]
  },
  {
   "attachments": {},
   "cell_type": "markdown",
   "metadata": {},
   "source": [
    "Upload data - test"
   ]
  },
  {
   "cell_type": "code",
   "execution_count": 51,
   "metadata": {},
   "outputs": [],
   "source": [
    "# libraries\n",
    "from py2neo import Graph, Node, Relationship\n",
    "\n",
    "# Set up the Neo4j driver\n",
    "graph = Graph(uri, auth=(user, password))"
   ]
  },
  {
   "cell_type": "code",
   "execution_count": 60,
   "metadata": {},
   "outputs": [],
   "source": [
    "# Set up the Neo4j driver\n",
    "graph = Graph(uri, auth=(user, password))\n",
    "\n",
    "# Create some nodes and relationships\n",
    "adam = Node(\"Person\", name=\"Adam\", age=70, last_name=\"Smith\")\n",
    "eve = Node(\"Person\", name=\"Eve\", age=68, last_name=\"Smith\")\n",
    "joe = Node(\"Person\", name=\"Joe\", age=42, last_name=\"Smith\")\n",
    "jane = Node(\"Person\", name=\"Jane\", age=40, last_name=\"Smith\")\n",
    "john = Node(\"Person\", name=\"John\", age=12, last_name=\"Smith\")\n",
    "jill = Node(\"Person\", name=\"Jill\", age=10, last_name=\"Smith\")\n",
    "\n",
    "father_of = Relationship.type(\"FATHER_OF\")\n",
    "mother_of = Relationship.type(\"MOTHER_OF\")\n",
    "spouse = Relationship.type(\"SPOUSE\")\n",
    "\n",
    "father = father_of(joe)\n",
    "mother = mother_of(joe)\n",
    "parents = spouse(adam, eve)\n",
    "son = father_of(john)\n",
    "daughter = mother_of(jill)\n",
    "\n",
    "# Load the family tree into Neo4j\n",
    "graph.begin().create(adam | eve | joe | jane | john | jill)\n",
    "graph.begin().create(parents | father | mother | son | daughter)\n"
   ]
  },
  {
   "cell_type": "code",
   "execution_count": 61,
   "metadata": {},
   "outputs": [
    {
     "data": {
      "text/html": [
       "(No data)"
      ],
      "text/plain": [
       "(No data)"
      ]
     },
     "execution_count": 61,
     "metadata": {},
     "output_type": "execute_result"
    }
   ],
   "source": [
    "#delete all nodes and relationships\n",
    "graph.run(\"MATCH (n) DETACH DELETE n\")"
   ]
  },
  {
   "cell_type": "code",
   "execution_count": 29,
   "metadata": {},
   "outputs": [],
   "source": [
    "# Define the family members\n",
    "grandpa = Node(\"Person\", name=\"Grandpa\")\n",
    "dad = Node(\"Person\", name=\"Dad\")\n",
    "uncle = Node(\"Person\", name=\"Uncle\")\n",
    "mom = Node(\"Person\", name=\"Mom\")\n",
    "me = Node(\"Person\", name=\"Me\")\n",
    "brother = Node(\"Person\", name=\"Brother\")\n",
    "son = Node(\"Person\", name=\"Son\")\n",
    "daughter = Node(\"Person\", name=\"Daughter\")\n",
    "\n",
    "# Define the relationships\n",
    "dad_rel = Relationship(grandpa, \"FATHER_OF\", dad)\n",
    "uncle_rel = Relationship(grandpa, \"FATHER_OF\", uncle)\n",
    "me_rel = Relationship(dad, \"FATHER_OF\", me)\n",
    "brother_rel = Relationship(dad, \"FATHER_OF\", brother)\n",
    "son_rel = Relationship(me, \"FATHER_OF\", son)\n",
    "daughter_rel = Relationship(me, \"MOTHER_OF\", daughter)\n",
    "married_rel = Relationship(dad, \"MARRIED_TO\", mom)\n",
    "\n",
    "# Create the family tree\n",
    "graph.create(grandpa)\n",
    "graph.create(dad)\n",
    "graph.create(uncle)\n",
    "graph.create(mom)\n",
    "graph.create(me)\n",
    "graph.create(brother)\n",
    "graph.create(son)\n",
    "graph.create(daughter)\n",
    "graph.create(dad_rel)\n",
    "graph.create(uncle_rel)\n",
    "graph.create(me_rel)\n",
    "graph.create(brother_rel)\n",
    "graph.create(son_rel)\n",
    "graph.create(daughter_rel)\n",
    "graph.create(married_rel)"
   ]
  },
  {
   "attachments": {},
   "cell_type": "markdown",
   "metadata": {},
   "source": [
    "JSON Upload test"
   ]
  },
  {
   "cell_type": "code",
   "execution_count": 10,
   "metadata": {},
   "outputs": [
    {
     "ename": "ValueError",
     "evalue": "embedded null character",
     "output_type": "error",
     "traceback": [
      "\u001b[1;31m---------------------------------------------------------------------------\u001b[0m",
      "\u001b[1;31mValueError\u001b[0m                                Traceback (most recent call last)",
      "\u001b[1;32mUntitled-1.ipynb Cell 4\u001b[0m in \u001b[0;36m2\n\u001b[0;32m      <a href='vscode-notebook-cell:Untitled-1.ipynb?jupyter-notebook#W4sdW50aXRsZWQ%3D?line=0'>1</a>\u001b[0m \u001b[39m# Open the JSON file\u001b[39;00m\n\u001b[1;32m----> <a href='vscode-notebook-cell:Untitled-1.ipynb?jupyter-notebook#W4sdW50aXRsZWQ%3D?line=1'>2</a>\u001b[0m \u001b[39mwith\u001b[39;00m \u001b[39mopen\u001b[39;49m(json_path) \u001b[39mas\u001b[39;00m f:\n\u001b[0;32m      <a href='vscode-notebook-cell:Untitled-1.ipynb?jupyter-notebook#W4sdW50aXRsZWQ%3D?line=2'>3</a>\u001b[0m     data \u001b[39m=\u001b[39m json\u001b[39m.\u001b[39mload(f)\n",
      "\u001b[1;31mValueError\u001b[0m: embedded null character"
     ]
    }
   ],
   "source": [
    "\n",
    "\n",
    "# Open the JSON file\n",
    "\n",
    "json_path = \"C:\\Users\\Roberto\\OneDrive\\cargoIabono\\Proyectos y Desarrollos\\P001_V001_CFDI-Reader\\03_Outputs\\json_converter_test\\0F23FE0D-8324-4BCE-AFAC-68CB67E89714.json\"\n",
    "\n",
    "\n",
    "with open(json_path) as f:\n",
    "    data = json.load(f)"
   ]
  },
  {
   "cell_type": "code",
   "execution_count": null,
   "metadata": {},
   "outputs": [],
   "source": [
    "\n",
    "# Open the JSON file\n",
    "with open(json_path) as f:\n",
    "    data = json.load(f)\n",
    "\n",
    "# Connect to the Neo4j database\n",
    "driver = GraphDatabase.driver(uri, auth=(user, password))\n",
    "\n",
    "# Define a function to create a node and its relationships\n",
    "def create_node(tx, node):\n",
    "    # Create the node\n",
    "    tx.run(\"MERGE (n:{label} {{id: {id}}})\",\n",
    "           label=node['label'], id=node['id'])\n",
    "\n",
    "    # Create relationships to its parent nodes\n",
    "    for parent in node.get('parents', []):\n",
    "        tx.run(\"MATCH (n:{label} {{id: {id}}}), (p:{parent_label} {{id: {parent_id}}}) \"\n",
    "               \"MERGE (n)-[:CHILD_OF]->(p)\",\n",
    "               label=node['label'], id=node['id'],\n",
    "               parent_label=parent['label'], parent_id=parent['id'])\n",
    "\n",
    "# Process the JSON data and create the nodes and relationships in the Neo4j database\n",
    "with driver.session() as session:\n",
    "    for node in data:\n",
    "        session.write_transaction(create_node, node)\n",
    "\n",
    "# Close the driver connection\n",
    "driver.close()\n"
   ]
  }
 ],
 "metadata": {
  "kernelspec": {
   "display_name": "Python 3",
   "language": "python",
   "name": "python3"
  },
  "language_info": {
   "codemirror_mode": {
    "name": "ipython",
    "version": 3
   },
   "file_extension": ".py",
   "mimetype": "text/x-python",
   "name": "python",
   "nbconvert_exporter": "python",
   "pygments_lexer": "ipython3",
   "version": "3.10.8"
  },
  "orig_nbformat": 4
 },
 "nbformat": 4,
 "nbformat_minor": 2
}
