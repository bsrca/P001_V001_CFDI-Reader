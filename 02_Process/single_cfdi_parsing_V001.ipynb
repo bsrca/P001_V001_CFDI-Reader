{
 "cells": [
  {
   "cell_type": "code",
   "execution_count": 1,
   "metadata": {},
   "outputs": [],
   "source": [
    "#import Libriaries\n",
    "import xml.etree.ElementTree as ET\n",
    "import pandas as pd\n",
    "import re\n",
    "\n",
    "# Define file to read\n",
    "#xml_file_path = r\"C:\\Users\\Roberto\\OneDrive\\cargoIabono\\Proyectos y Desarrollos\\P001_V001_CFDI-Reader\\01_Inputs\\Nomina\\EMS2103108P3_Pago de nómina_20220815_N_AOAR951019842.xml\"\n",
    "xml_file_path = r\"C:\\Users\\Roberto\\OneDrive\\cargoIabono\\Proyectos y Desarrollos\\P001_V001_CFDI-Reader\\01_Inputs\\Facturas\\0F23FE0D-8324-4BCE-AFAC-68CB67E89714.xml\"\n",
    "xml_tree = ET.parse(xml_file_path)\n",
    "xml_root = xml_tree.getroot()"
   ]
  },
  {
   "cell_type": "code",
   "execution_count": 2,
   "metadata": {},
   "outputs": [],
   "source": [
    "def get_child_elements(xml_root):\n",
    "    # Get all child elements of a given xml element\n",
    "    elements = []\n",
    "    for child in xml_root:\n",
    "        elements.append(child)\n",
    "        elements.extend(get_child_elements(child))\n",
    "    return elements"
   ]
  },
  {
   "cell_type": "code",
   "execution_count": 3,
   "metadata": {},
   "outputs": [],
   "source": [
    "elements = get_child_elements(xml_root)\n",
    "#add xml_root to elements\n",
    "elements.append(xml_root)"
   ]
  },
  {
   "cell_type": "code",
   "execution_count": 1,
   "metadata": {},
   "outputs": [
    {
     "ename": "NameError",
     "evalue": "name 'get_child_elements' is not defined",
     "output_type": "error",
     "traceback": [
      "\u001b[1;31m---------------------------------------------------------------------------\u001b[0m",
      "\u001b[1;31mNameError\u001b[0m                                 Traceback (most recent call last)",
      "\u001b[1;32mc:\\Users\\Roberto\\OneDrive\\cargoIabono\\Proyectos y Desarrollos\\P001_V001_CFDI-Reader\\02_Process\\single_cfdi_parsing_V001.ipynb Cell 4\u001b[0m in \u001b[0;36m1\n\u001b[1;32m----> <a href='vscode-notebook-cell:/c%3A/Users/Roberto/OneDrive/cargoIabono/Proyectos%20y%20Desarrollos/P001_V001_CFDI-Reader/02_Process/single_cfdi_parsing_V001.ipynb#W3sZmlsZQ%3D%3D?line=0'>1</a>\u001b[0m elements \u001b[39m=\u001b[39m get_child_elements(xml_root)\n\u001b[0;32m      <a href='vscode-notebook-cell:/c%3A/Users/Roberto/OneDrive/cargoIabono/Proyectos%20y%20Desarrollos/P001_V001_CFDI-Reader/02_Process/single_cfdi_parsing_V001.ipynb#W3sZmlsZQ%3D%3D?line=1'>2</a>\u001b[0m \u001b[39m#add xml_root to elements\u001b[39;00m\n\u001b[0;32m      <a href='vscode-notebook-cell:/c%3A/Users/Roberto/OneDrive/cargoIabono/Proyectos%20y%20Desarrollos/P001_V001_CFDI-Reader/02_Process/single_cfdi_parsing_V001.ipynb#W3sZmlsZQ%3D%3D?line=2'>3</a>\u001b[0m elements\u001b[39m.\u001b[39mappend(xml_root)\n",
      "\u001b[1;31mNameError\u001b[0m: name 'get_child_elements' is not defined"
     ]
    }
   ],
   "source": [
    "elements = get_child_elements(xml_root)\n",
    "#add xml_root to elements\n",
    "elements.append(xml_root)\n",
    "for element in elements:\n",
    "    print(element.tag, element.attrib)"
   ]
  }
 ],
 "metadata": {
  "kernelspec": {
   "display_name": "Python 3",
   "language": "python",
   "name": "python3"
  },
  "language_info": {
   "codemirror_mode": {
    "name": "ipython",
    "version": 3
   },
   "file_extension": ".py",
   "mimetype": "text/x-python",
   "name": "python",
   "nbconvert_exporter": "python",
   "pygments_lexer": "ipython3",
   "version": "3.10.8"
  },
  "orig_nbformat": 4,
  "vscode": {
   "interpreter": {
    "hash": "5071cda9a5660602aca701335f27c10e4afae7f60ddd820f1297d11c505cfd3c"
   }
  }
 },
 "nbformat": 4,
 "nbformat_minor": 2
}
