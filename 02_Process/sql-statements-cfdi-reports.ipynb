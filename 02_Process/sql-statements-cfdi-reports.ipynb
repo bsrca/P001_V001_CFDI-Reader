{
    "metadata": {
        "kernelspec": {
            "name": "SQL",
            "display_name": "SQL",
            "language": "sql"
        },
        "language_info": {
            "name": "sql",
            "version": ""
        }
    },
    "nbformat_minor": 2,
    "nbformat": 4,
    "cells": [
        {
            "cell_type": "code",
            "source": [
                "SELECT  * FROM cfdi.comprobante\n",
                "--WHERE cfdi.comprobante.uuid = '01DAD1D3-CA8F-4F0D-8CA7-E0347D111EC4'"
            ],
            "metadata": {
                "azdata_cell_guid": "b99bb248-6a5a-4812-8f73-a58a014b8b58",
                "language": "sql"
            },
            "outputs": [
                {
                    "output_type": "display_data",
                    "data": {
                        "text/html": "(7 rows affected)"
                    },
                    "metadata": {}
                },
                {
                    "output_type": "display_data",
                    "data": {
                        "text/html": "Total execution time: 00:00:00.105"
                    },
                    "metadata": {}
                },
                {
                    "output_type": "execute_result",
                    "metadata": {},
                    "execution_count": 23,
                    "data": {
                        "application/vnd.dataresource+json": {
                            "schema": {
                                "fields": [
                                    {
                                        "name": "uuid"
                                    },
                                    {
                                        "name": "comprobante_tipo"
                                    },
                                    {
                                        "name": "emisor_rfc"
                                    },
                                    {
                                        "name": "receptor_rfc"
                                    },
                                    {
                                        "name": "file_name"
                                    },
                                    {
                                        "name": "file_path"
                                    },
                                    {
                                        "name": "row"
                                    },
                                    {
                                        "name": "certificado"
                                    },
                                    {
                                        "name": "descuento"
                                    },
                                    {
                                        "name": "fecha"
                                    },
                                    {
                                        "name": "folio"
                                    },
                                    {
                                        "name": "formapago"
                                    },
                                    {
                                        "name": "lugarexpedicion"
                                    },
                                    {
                                        "name": "metodopago"
                                    },
                                    {
                                        "name": "moneda"
                                    },
                                    {
                                        "name": "nocertificado"
                                    },
                                    {
                                        "name": "schemalocation"
                                    },
                                    {
                                        "name": "sello"
                                    },
                                    {
                                        "name": "serie"
                                    },
                                    {
                                        "name": "subtotal"
                                    },
                                    {
                                        "name": "tipocambio"
                                    },
                                    {
                                        "name": "tipodecomprobante"
                                    },
                                    {
                                        "name": "total"
                                    },
                                    {
                                        "name": "version"
                                    }
                                ]
                            },
                            "data": [
                                {
                                    "uuid": "01DAD1D3-CA8F-4F0D-8CA7-E0347D111EC4",
                                    "comprobante_tipo": "I",
                                    "emisor_rfc": "FIS780810KQ9",
                                    "receptor_rfc": "MES880922JQA",
                                    "file_name": "01DAD1D3-CA8F-4F0D-8CA7-E0347D111EC4.xml",
                                    "file_path": "C:\\Users\\Roberto\\OneDrive\\cargoIabono\\Proyectos y Desarrollos\\P001_V001_CFDI-Reader\\01_Inputs\\Facturas\\01DAD1D3-CA8F-4F0D-8CA7-E0347D111EC4.xml",
                                    "row": "1",
                                    "certificado": "MIIGGjCCBAKgAwIBAgIUMDAwMDEwMDAwMDA0MDUyMjIxNzcwDQYJKoZIhvcNAQELBQAwggGyMTgwNgYDVQQDDC9BLkMuIGRlbCBTZXJ2aWNpbyBkZSBBZG1pbmlzdHJhY2nDs24gVHJpYnV0YXJpYTEvMC0GA1UECgwmU2VydmljaW8gZGUgQWRtaW5pc3RyYWNpw7NuIFRyaWJ1dGFyaWExODA2BgNVBAsML0FkbWluaXN0cmFjacOzbiBkZSBTZWd1cmlkYWQgZGUgbGEgSW5mb3JtYWNpw7NuMR8wHQYJKoZIhvcNAQkBFhBhY29kc0BzYXQuZ29iLm14MSYwJAYDVQQJDB1Bdi4gSGlkYWxnbyA3NywgQ29sLiBHdWVycmVybzEOMAwGA1UEEQwFMDYzMDAxCzAJBgNVBAYTAk1YMRkwFwYDVQQIDBBEaXN0cml0byBGZWRlcmFsMRQwEgYDVQQHDAtDdWF1aHTDqW1vYzEVMBMGA1UELRMMU0FUOTcwNzAxTk4zMV0wWwYJKoZIhvcNAQkCDE5SZXNwb25zYWJsZTogQWRtaW5pc3RyYWNpw7NuIENlbnRyYWwgZGUgU2VydmljaW9zIFRyaWJ1dGFyaW9zIGFsIENvbnRyaWJ1eWVudGUwHhcNMTcwMjIwMTkwMzIwWhcNMjEwMjIwMTkwMzIwWjCBujEfMB0GA1UEAxMWRklTQUNFUk8gUyBBIFAgSSBERSBDVjEfMB0GA1UEKRMWRklTQUNFUk8gUyBBIFAgSSBERSBDVjEfMB0GA1UEChMWRklTQUNFUk8gUyBBIFAgSSBERSBDVjElMCMGA1UELRMcRklTNzgwODEwS1E5IC8gQUFHQzc1MDgwNjNTNDEeMBwGA1UEBRMVIC8gQUFHQzc1MDgwNkhOTExSUjA1MQ4wDAYDVQQLEwVWVUNFTTCCASIwDQYJKoZIhvcNAQEBBQADggEPADCCAQoCggEBALeAo/AHeNHCziAsGI/HiwYoqsm71zbXZ/adzkHv0PSoLvtNGq8l0r9pf8wVZ9O+9uDL3D+L7nu+Z53baaPbldHJBW2TFfNS80Mbb0P3GxChbpK0qRhcT5XbjpKlNG39JJzu7r0si7Qi6XeqLejWI7SOtuHFSEegSoOhgFfd6wDQ6Ub8lTB9rx7EYFpGG7Es7rpfxbLWSaAeNxqiIkOtuXtK5+aSxXF07yYo8GTXylL+1nxKAxXUX8Z8vLg3PLUYVsQP8SvY471Df9IZvyZOAfCwjsAJ4BuCJLoxP1JEoFlC5VBql44/78iv09834Tt82B5aNJOqfJ94X5HOSAniYWECAwEAAaMdMBswDAYDVR0TAQH/BAIwADALBgNVHQ8EBAMCBsAwDQYJKoZIhvcNAQELBQADggIBAJTgfwK8Qe23uC/uJ/fWtMvx1EpBfU9aSAmA9iP3kogw4p/xRhaRf4/1lp7PRKCo7Gk4j7A7I7QxqoBqh0W2RWfdyGL4dZsuJKgGo8VlymByye9R84VFLSOevi5yxLQl71rFnbU4xvQB5lJEVBs5YNVXpEnX69nLMXMdcZ1dUoWi11V6IfFH7KFTqpTQF0qSUdaVBFnGfrCRKtzYhzfBtiZPRPbmlwfvxDzZ5voPKXVg+G+5EhdGziC7lYlBPZAHzASMR7fNxnfXwkeusuM47plUnlN0Pk1G5dYYaQ9v8CKqqz1e0pIxy77GcCBgv4ZYmBkn6aeIS5etscTQwEsxK861VbTv4OrAXL+61gdKV3T7/L2ypNNefLSCiKl4Vl7XHBYrY+99ya/fPQzWRRUNMocGxKJDYa8bNXvQzKa6GVFITuqCxYgFC9jDCDph3depqeMFI9r0/4YYMqxOQmKwl0tnOyTAb4yNVlt+LkdMF0/3ROIzB02CNpD2eKDRYFrgc+qQ14T9z1KJzrMZJ245ActX8vR3eyhM96QlDE5qTiWLrkp/cQf7TFZ6Y8X/EUtymfS80IJD7WFnU/5GkzA/nbF2KZXB6JR9bdDBzWWXcPolzW91y+aIEBKVAo0q6R/643DQ0Lh4FYtsFlATU7DEgHBXyUK22n5T6SF9/3J0OIjX",
                                    "descuento": "NULL",
                                    "fecha": "2020-08-11T10:18:30",
                                    "folio": "000000759",
                                    "formapago": "99",
                                    "lugarexpedicion": "65550",
                                    "metodopago": "PPD",
                                    "moneda": "USD",
                                    "nocertificado": "00001000000405222177",
                                    "schemalocation": "http://www.sat.gob.mx/cfd/3 http://www.sat.gob.mx/sitio_internet/cfd/3/cfdv33.xsd",
                                    "sello": "srEGtHCl1ZhcutZbzAE0XJmTCgK1hn9+oaE4has978FAEvXK5yv+Kf7bPL31GtyA+0+crEncaxmSXNW/XCjB1OdjtggzTyI8taU+hMIGOxoA3G4PFeBLsrYSVdT4PgFQvUx9fjUF1lUqfBn/FtyzxsIyaUxplCrgWhC3kbvhWh5on5HVqQ1lx7t8YaUUxONQ4x0LgJ21JNUOn0wJIrZhJ1SBBxQLDFWKymUDySD8AgxNiIMw7QU6T3boTr/4WsuBwrmGm4l4o98E1m5LP8ep9wOcxuyUKOuTHVKK3yN2GkrIoJiIDXqEShFlwbS8aQFLi5CJi5UiZk/5AyJVcHbl1g==",
                                    "serie": "IA",
                                    "subtotal": "28609.10",
                                    "tipocambio": "22.4892",
                                    "tipodecomprobante": "I",
                                    "total": "33186.56",
                                    "version": "3.3"
                                },
                                {
                                    "uuid": "0A8BEAE0-F410-4A97-8860-7F5EBADC0D60",
                                    "comprobante_tipo": "I",
                                    "emisor_rfc": "FIS780810KQ9",
                                    "receptor_rfc": "TCA640201ER3",
                                    "file_name": "0A8BEAE0-F410-4A97-8860-7F5EBADC0D60.xml",
                                    "file_path": "C:\\Users\\Roberto\\OneDrive\\cargoIabono\\Proyectos y Desarrollos\\P001_V001_CFDI-Reader\\01_Inputs\\Facturas\\0A8BEAE0-F410-4A97-8860-7F5EBADC0D60.xml",
                                    "row": "1",
                                    "certificado": "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",
                                    "descuento": "NULL",
                                    "fecha": "2020-08-17T10:08:31",
                                    "folio": "000000780",
                                    "formapago": "99",
                                    "lugarexpedicion": "65550",
                                    "metodopago": "PPD",
                                    "moneda": "USD",
                                    "nocertificado": "00001000000405222177",
                                    "schemalocation": "http://www.sat.gob.mx/cfd/3 http://www.sat.gob.mx/sitio_internet/cfd/3/cfdv33.xsd",
                                    "sello": "GQG3zZe2qoDpR2kBy6llkNOH2lRW81voVwiuzrlID8z7EgvVQNh3aTN4v8WdipG3+mfGVGOrsrC6SS75K9eYjOO0T38Pc8q3UXmRoI0j0cZ38VNDykaoBm5M7iNgimBbGanpBDrNk+1bsKx5+gMENDpUQq/FjnemoRX87eR82vf/op1gEgyVo4vX9yoiHXngT/dvoMDtm272Dndu4qGkPIZRExElDEDG8adWzvtfsB+7OK+jo3l9ohEc5xiuBtL9re0DyRN5+oEsZ8oN+mxi7m5gUR9FSR+PLY2b00u1GOlTtsZiGST30zTOvuq8LRSiLzTndEl2PC+i5WEgI68C6Q==",
                                    "serie": "IA",
                                    "subtotal": "2954.72",
                                    "tipocambio": "22.3457",
                                    "tipodecomprobante": "I",
                                    "total": "3427.48",
                                    "version": "3.3"
                                },
                                {
                                    "uuid": "0C58F816-7800-44E2-96FF-631A8E432C50",
                                    "comprobante_tipo": "I",
                                    "emisor_rfc": "FIS780810KQ9",
                                    "receptor_rfc": "KLM970416U59",
                                    "file_name": "0C58F816-7800-44E2-96FF-631A8E432C50.xml",
                                    "file_path": "C:\\Users\\Roberto\\OneDrive\\cargoIabono\\Proyectos y Desarrollos\\P001_V001_CFDI-Reader\\01_Inputs\\Facturas\\0C58F816-7800-44E2-96FF-631A8E432C50.xml",
                                    "row": "1",
                                    "certificado": "MIIGGjCCBAKgAwIBAgIUMDAwMDEwMDAwMDA0MDUyMjIxNzcwDQYJKoZIhvcNAQELBQAwggGyMTgwNgYDVQQDDC9BLkMuIGRlbCBTZXJ2aWNpbyBkZSBBZG1pbmlzdHJhY2nDs24gVHJpYnV0YXJpYTEvMC0GA1UECgwmU2VydmljaW8gZGUgQWRtaW5pc3RyYWNpw7NuIFRyaWJ1dGFyaWExODA2BgNVBAsML0FkbWluaXN0cmFjacOzbiBkZSBTZWd1cmlkYWQgZGUgbGEgSW5mb3JtYWNpw7NuMR8wHQYJKoZIhvcNAQkBFhBhY29kc0BzYXQuZ29iLm14MSYwJAYDVQQJDB1Bdi4gSGlkYWxnbyA3NywgQ29sLiBHdWVycmVybzEOMAwGA1UEEQwFMDYzMDAxCzAJBgNVBAYTAk1YMRkwFwYDVQQIDBBEaXN0cml0byBGZWRlcmFsMRQwEgYDVQQHDAtDdWF1aHTDqW1vYzEVMBMGA1UELRMMU0FUOTcwNzAxTk4zMV0wWwYJKoZIhvcNAQkCDE5SZXNwb25zYWJsZTogQWRtaW5pc3RyYWNpw7NuIENlbnRyYWwgZGUgU2VydmljaW9zIFRyaWJ1dGFyaW9zIGFsIENvbnRyaWJ1eWVudGUwHhcNMTcwMjIwMTkwMzIwWhcNMjEwMjIwMTkwMzIwWjCBujEfMB0GA1UEAxMWRklTQUNFUk8gUyBBIFAgSSBERSBDVjEfMB0GA1UEKRMWRklTQUNFUk8gUyBBIFAgSSBERSBDVjEfMB0GA1UEChMWRklTQUNFUk8gUyBBIFAgSSBERSBDVjElMCMGA1UELRMcRklTNzgwODEwS1E5IC8gQUFHQzc1MDgwNjNTNDEeMBwGA1UEBRMVIC8gQUFHQzc1MDgwNkhOTExSUjA1MQ4wDAYDVQQLEwVWVUNFTTCCASIwDQYJKoZIhvcNAQEBBQADggEPADCCAQoCggEBALeAo/AHeNHCziAsGI/HiwYoqsm71zbXZ/adzkHv0PSoLvtNGq8l0r9pf8wVZ9O+9uDL3D+L7nu+Z53baaPbldHJBW2TFfNS80Mbb0P3GxChbpK0qRhcT5XbjpKlNG39JJzu7r0si7Qi6XeqLejWI7SOtuHFSEegSoOhgFfd6wDQ6Ub8lTB9rx7EYFpGG7Es7rpfxbLWSaAeNxqiIkOtuXtK5+aSxXF07yYo8GTXylL+1nxKAxXUX8Z8vLg3PLUYVsQP8SvY471Df9IZvyZOAfCwjsAJ4BuCJLoxP1JEoFlC5VBql44/78iv09834Tt82B5aNJOqfJ94X5HOSAniYWECAwEAAaMdMBswDAYDVR0TAQH/BAIwADALBgNVHQ8EBAMCBsAwDQYJKoZIhvcNAQELBQADggIBAJTgfwK8Qe23uC/uJ/fWtMvx1EpBfU9aSAmA9iP3kogw4p/xRhaRf4/1lp7PRKCo7Gk4j7A7I7QxqoBqh0W2RWfdyGL4dZsuJKgGo8VlymByye9R84VFLSOevi5yxLQl71rFnbU4xvQB5lJEVBs5YNVXpEnX69nLMXMdcZ1dUoWi11V6IfFH7KFTqpTQF0qSUdaVBFnGfrCRKtzYhzfBtiZPRPbmlwfvxDzZ5voPKXVg+G+5EhdGziC7lYlBPZAHzASMR7fNxnfXwkeusuM47plUnlN0Pk1G5dYYaQ9v8CKqqz1e0pIxy77GcCBgv4ZYmBkn6aeIS5etscTQwEsxK861VbTv4OrAXL+61gdKV3T7/L2ypNNefLSCiKl4Vl7XHBYrY+99ya/fPQzWRRUNMocGxKJDYa8bNXvQzKa6GVFITuqCxYgFC9jDCDph3depqeMFI9r0/4YYMqxOQmKwl0tnOyTAb4yNVlt+LkdMF0/3ROIzB02CNpD2eKDRYFrgc+qQ14T9z1KJzrMZJ245ActX8vR3eyhM96QlDE5qTiWLrkp/cQf7TFZ6Y8X/EUtymfS80IJD7WFnU/5GkzA/nbF2KZXB6JR9bdDBzWWXcPolzW91y+aIEBKVAo0q6R/643DQ0Lh4FYtsFlATU7DEgHBXyUK22n5T6SF9/3J0OIjX",
                                    "descuento": "NULL",
                                    "fecha": "2020-08-18T12:18:53",
                                    "folio": "000000787",
                                    "formapago": "99",
                                    "lugarexpedicion": "65550",
                                    "metodopago": "PPD",
                                    "moneda": "USD",
                                    "nocertificado": "00001000000405222177",
                                    "schemalocation": "http://www.sat.gob.mx/cfd/3 http://www.sat.gob.mx/sitio_internet/cfd/3/cfdv33.xsd",
                                    "sello": "FYKhfWc+pvMhyrso3d1kB0y4GlWD+JOlnwQV3jn2xhtxCRu8k0duAFj7k5156Dlk+9PJR1P/DB6klVVJgjVgulf2BpC/tTqTZOWg6EyJYMuyVgEFWXhb410ajVQMNI0IATAbKBG3NWsz0QPWsXujcxP+a/l4eqifSfFEs5bepxMl5yC2OiNBkwMx1/5WONJypDtnMFg/4s0+N58al3qWVP+0wZyyJFAV8f2TcK7xtg7rZdkpUzwdBNHVIY1eXbQDbgTzX88Aaa1e0A50vvQFViy1pbWU7rkzMng+Xn2iVYVN4dmsZ2XPQ+Cyy0ZqLYDpIagzuNz+87V53qD1+WTCTg==",
                                    "serie": "IA",
                                    "subtotal": "1066.41",
                                    "tipocambio": "22.0313",
                                    "tipodecomprobante": "I",
                                    "total": "1237.04",
                                    "version": "3.3"
                                },
                                {
                                    "uuid": "0D0E1EBB-003E-4F17-B2BE-0A5442819D1C",
                                    "comprobante_tipo": "I",
                                    "emisor_rfc": "FIS780810KQ9",
                                    "receptor_rfc": "PSM101118J20",
                                    "file_name": "0D0E1EBB-003E-4F17-B2BE-0A5442819D1C.xml",
                                    "file_path": "C:\\Users\\Roberto\\OneDrive\\cargoIabono\\Proyectos y Desarrollos\\P001_V001_CFDI-Reader\\01_Inputs\\Facturas\\0D0E1EBB-003E-4F17-B2BE-0A5442819D1C.xml",
                                    "row": "1",
                                    "certificado": "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",
                                    "descuento": "NULL",
                                    "fecha": "2020-08-15T20:47:45",
                                    "folio": "000000779",
                                    "formapago": "99",
                                    "lugarexpedicion": "65550",
                                    "metodopago": "PPD",
                                    "moneda": "USD",
                                    "nocertificado": "00001000000405222177",
                                    "schemalocation": "http://www.sat.gob.mx/cfd/3 http://www.sat.gob.mx/sitio_internet/cfd/3/cfdv33.xsd",
                                    "sello": "YJceSoBSvpDbkDU0qjZBquk15/UPRd9fuyRWR6DFa0dL7PGLH0EvR5dtu/PZ2m8hQVrM+2Q9Fv2UDlXf2qLdmnsuu8kxlXvTgsItuSxq72YvEqY8Q/XlbKSgujgJrudsIqXjbQ7EOLUpUrBjp5unw9+nMrOBvdqh1Hc1D0dTFBdfgnPwddYWAyabHk+ggAD/KlOmGjEW9LA4cOy5ZpXXdm6C3bJIlOmSZPCFtmlx3A1S9kSVE92AWUw5SUhf7b048/uxu3vfziKK3MxRuTpdShpqp2LjdqzfksmJNz89lZjWYPd/LOC7MAfAtLL3ffaBwawxcba6HTnZV9YHwOjZrg==",
                                    "serie": "IA",
                                    "subtotal": "2545.20",
                                    "tipocambio": "22.3457",
                                    "tipodecomprobante": "I",
                                    "total": "2952.43",
                                    "version": "3.3"
                                },
                                {
                                    "uuid": "0F23FE0D-8324-4BCE-AFAC-68CB67E89714",
                                    "comprobante_tipo": "P",
                                    "emisor_rfc": "FIS780810KQ9",
                                    "receptor_rfc": "FAN540305I15",
                                    "file_name": "0F23FE0D-8324-4BCE-AFAC-68CB67E89714.xml",
                                    "file_path": "C:\\Users\\Roberto\\OneDrive\\cargoIabono\\Proyectos y Desarrollos\\P001_V001_CFDI-Reader\\01_Inputs\\Facturas\\0F23FE0D-8324-4BCE-AFAC-68CB67E89714.xml",
                                    "row": "1",
                                    "certificado": "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",
                                    "descuento": "NULL",
                                    "fecha": "2020-08-06T10:00:40",
                                    "folio": "146",
                                    "formapago": "NULL",
                                    "lugarexpedicion": "65550",
                                    "metodopago": "NULL",
                                    "moneda": "XXX",
                                    "nocertificado": "00001000000405222177",
                                    "schemalocation": "http://www.sat.gob.mx/cfd/3 http://www.sat.gob.mx/sitio_internet/cfd/3/cfdv33.xsd http://www.sat.gob.mx/Pagos http://www.sat.gob.mx/sitio_internet/cfd/Pagos/Pagos10.xsd",
                                    "sello": "KYzHfFCfdi3rSOpAISJPq3K3OVj5QfmL2FVAAW/mU0+vgVext/LkwTXirfefSEeob+eC2O9ODS1/bs7DK0BwEJYRYULBH1ENTlGq19feq+Rv3N5nYDOV7hvQZ+K/jbRg1X4ms87TdUKP8r+dzCzHHWXUIDDl32NqkrG1r897ZVe2n3qjNowP3lnJa2U6kXMQHUcCubxCZR46J8eMW+uWOd6PnjxLpqQfv/0cpCSRmThEN/kIdKG6cIxsH0ZppQSTc9QU61xFRdz7nAp/vpjqBhIJHOZZjLO0U4y8SSRAmABFSMNnWdON44itg9XXwIcvedtVfzrV2uBC4nNAEsRC3w==",
                                    "serie": "CPIA",
                                    "subtotal": "0",
                                    "tipocambio": "NULL",
                                    "tipodecomprobante": "P",
                                    "total": "0",
                                    "version": "3.3"
                                },
                                {
                                    "uuid": "1F8FA056-C516-4349-8E87-DC2EC8F831D5",
                                    "comprobante_tipo": "I",
                                    "emisor_rfc": "FIS780810KQ9",
                                    "receptor_rfc": "CAT051122H76",
                                    "file_name": "1F8FA056-C516-4349-8E87-DC2EC8F831D5.xml",
                                    "file_path": "C:\\Users\\Roberto\\OneDrive\\cargoIabono\\Proyectos y Desarrollos\\P001_V001_CFDI-Reader\\01_Inputs\\Facturas\\1F8FA056-C516-4349-8E87-DC2EC8F831D5.xml",
                                    "row": "1",
                                    "certificado": "MIIGGjCCBAKgAwIBAgIUMDAwMDEwMDAwMDA0MDUyMjIxNzcwDQYJKoZIhvcNAQELBQAwggGyMTgwNgYDVQQDDC9BLkMuIGRlbCBTZXJ2aWNpbyBkZSBBZG1pbmlzdHJhY2nDs24gVHJpYnV0YXJpYTEvMC0GA1UECgwmU2VydmljaW8gZGUgQWRtaW5pc3RyYWNpw7NuIFRyaWJ1dGFyaWExODA2BgNVBAsML0FkbWluaXN0cmFjacOzbiBkZSBTZWd1cmlkYWQgZGUgbGEgSW5mb3JtYWNpw7NuMR8wHQYJKoZIhvcNAQkBFhBhY29kc0BzYXQuZ29iLm14MSYwJAYDVQQJDB1Bdi4gSGlkYWxnbyA3NywgQ29sLiBHdWVycmVybzEOMAwGA1UEEQwFMDYzMDAxCzAJBgNVBAYTAk1YMRkwFwYDVQQIDBBEaXN0cml0byBGZWRlcmFsMRQwEgYDVQQHDAtDdWF1aHTDqW1vYzEVMBMGA1UELRMMU0FUOTcwNzAxTk4zMV0wWwYJKoZIhvcNAQkCDE5SZXNwb25zYWJsZTogQWRtaW5pc3RyYWNpw7NuIENlbnRyYWwgZGUgU2VydmljaW9zIFRyaWJ1dGFyaW9zIGFsIENvbnRyaWJ1eWVudGUwHhcNMTcwMjIwMTkwMzIwWhcNMjEwMjIwMTkwMzIwWjCBujEfMB0GA1UEAxMWRklTQUNFUk8gUyBBIFAgSSBERSBDVjEfMB0GA1UEKRMWRklTQUNFUk8gUyBBIFAgSSBERSBDVjEfMB0GA1UEChMWRklTQUNFUk8gUyBBIFAgSSBERSBDVjElMCMGA1UELRMcRklTNzgwODEwS1E5IC8gQUFHQzc1MDgwNjNTNDEeMBwGA1UEBRMVIC8gQUFHQzc1MDgwNkhOTExSUjA1MQ4wDAYDVQQLEwVWVUNFTTCCASIwDQYJKoZIhvcNAQEBBQADggEPADCCAQoCggEBALeAo/AHeNHCziAsGI/HiwYoqsm71zbXZ/adzkHv0PSoLvtNGq8l0r9pf8wVZ9O+9uDL3D+L7nu+Z53baaPbldHJBW2TFfNS80Mbb0P3GxChbpK0qRhcT5XbjpKlNG39JJzu7r0si7Qi6XeqLejWI7SOtuHFSEegSoOhgFfd6wDQ6Ub8lTB9rx7EYFpGG7Es7rpfxbLWSaAeNxqiIkOtuXtK5+aSxXF07yYo8GTXylL+1nxKAxXUX8Z8vLg3PLUYVsQP8SvY471Df9IZvyZOAfCwjsAJ4BuCJLoxP1JEoFlC5VBql44/78iv09834Tt82B5aNJOqfJ94X5HOSAniYWECAwEAAaMdMBswDAYDVR0TAQH/BAIwADALBgNVHQ8EBAMCBsAwDQYJKoZIhvcNAQELBQADggIBAJTgfwK8Qe23uC/uJ/fWtMvx1EpBfU9aSAmA9iP3kogw4p/xRhaRf4/1lp7PRKCo7Gk4j7A7I7QxqoBqh0W2RWfdyGL4dZsuJKgGo8VlymByye9R84VFLSOevi5yxLQl71rFnbU4xvQB5lJEVBs5YNVXpEnX69nLMXMdcZ1dUoWi11V6IfFH7KFTqpTQF0qSUdaVBFnGfrCRKtzYhzfBtiZPRPbmlwfvxDzZ5voPKXVg+G+5EhdGziC7lYlBPZAHzASMR7fNxnfXwkeusuM47plUnlN0Pk1G5dYYaQ9v8CKqqz1e0pIxy77GcCBgv4ZYmBkn6aeIS5etscTQwEsxK861VbTv4OrAXL+61gdKV3T7/L2ypNNefLSCiKl4Vl7XHBYrY+99ya/fPQzWRRUNMocGxKJDYa8bNXvQzKa6GVFITuqCxYgFC9jDCDph3depqeMFI9r0/4YYMqxOQmKwl0tnOyTAb4yNVlt+LkdMF0/3ROIzB02CNpD2eKDRYFrgc+qQ14T9z1KJzrMZJ245ActX8vR3eyhM96QlDE5qTiWLrkp/cQf7TFZ6Y8X/EUtymfS80IJD7WFnU/5GkzA/nbF2KZXB6JR9bdDBzWWXcPolzW91y+aIEBKVAo0q6R/643DQ0Lh4FYtsFlATU7DEgHBXyUK22n5T6SF9/3J0OIjX",
                                    "descuento": "NULL",
                                    "fecha": "2020-08-18T17:53:56",
                                    "folio": "000000790",
                                    "formapago": "03",
                                    "lugarexpedicion": "65550",
                                    "metodopago": "PPD",
                                    "moneda": "MXN",
                                    "nocertificado": "00001000000405222177",
                                    "schemalocation": "http://www.sat.gob.mx/cfd/3 http://www.sat.gob.mx/sitio_internet/cfd/3/cfdv33.xsd",
                                    "sello": "VaYiYa2dX2taUnG7j2EitgtQv/8cL5HxikGofXdOykupEXnKKX8+DaCV62Cbuw9gk+aNfTA4KQ4q8x15IWnGj/mKvBSmFNB5Ej/Fr6sOHrCM5eKHpZY5flQgGEGolqQ7CLiAvZueEF2dFJ0TAT16zvtkYG3g7nSXkWHhSXyFpEaLp9VDp1TDHohiD/sb0zP1juznWdLc3DsqqfWY8HgrbVwy0fhzeP3MQkQhsOwZeNPFmhw0IfeXNXLUy4UbRV2HVoYMiwx47c8lj82v+4gehJoNrEsdHbbSBlNEbWXDX/BmVtJ3EXea1Qv8b+pOOYX9KtBttpeM2eWhBClgUGCc/A==",
                                    "serie": "IA",
                                    "subtotal": "25660.00",
                                    "tipocambio": "1",
                                    "tipodecomprobante": "I",
                                    "total": "29765.60",
                                    "version": "3.3"
                                },
                                {
                                    "uuid": "B7D29180-3BB4-904C-9DC5-8730016AA924",
                                    "comprobante_tipo": "N",
                                    "emisor_rfc": "EMS2103108P3",
                                    "receptor_rfc": "AOAR951019842",
                                    "file_name": "EMS2103108P3_Pago de nómina_20220815_N_AOAR951019842.xml",
                                    "file_path": "C:\\Users\\Roberto\\OneDrive\\cargoIabono\\Proyectos y Desarrollos\\P001_V001_CFDI-Reader\\01_Inputs\\Nomina\\EMS2103108P3_Pago de nómina_20220815_N_AOAR951019842.xml",
                                    "row": "1",
                                    "certificado": "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",
                                    "descuento": "14787.52",
                                    "fecha": "2022-08-15T14:18:40",
                                    "folio": "1334",
                                    "formapago": "99",
                                    "lugarexpedicion": "64000",
                                    "metodopago": "PUE",
                                    "moneda": "MXN",
                                    "nocertificado": "00001000000508041177",
                                    "schemalocation": "http://www.sat.gob.mx/cfd/3 http://www.sat.gob.mx/sitio_internet/cfd/3/cfdv33.xsd http://www.sat.gob.mx/nomina12 http://www.sat.gob.mx/sitio_internet/cfd/nomina/nomina12.xsd",
                                    "sello": "Te4Lmnf/eDgK5YLE2UC/LENClMEglH2XUavfiO1DS/Ym7GRbVvDvn1r0VcZqNVxVK6atZddZ09MBVnv9wSUzOsnx9NmeYdylXUw97RgBB+5f6PdI8zR9tLm/ohPt/HwQbmbrSM9rrBs6u8+UDsrKrPgIc10/93VH4PGs2NxUyJPReI79kqlyF+2l++DkXqtApXwcC2aJIWtvqCYc+XWaVB42h0jFnrtyILg7Hw33d8VGbWHEEDgVVG0LLmcpmGqOM+1k0JwCZZmBKW3prGntWBvRq36DwB7vx/WgXw8jQNF5NL+OERwZpTVd/zDCTeIbQKfMtge39rbKrPGMGAk8AA==",
                                    "serie": "NOM",
                                    "subtotal": "43376.49",
                                    "tipocambio": "NULL",
                                    "tipodecomprobante": "N",
                                    "total": "28588.97",
                                    "version": "3.3"
                                }
                            ]
                        },
                        "text/html": [
                            "<table>",
                            "<tr><th>uuid</th><th>comprobante_tipo</th><th>emisor_rfc</th><th>receptor_rfc</th><th>file_name</th><th>file_path</th><th>row</th><th>certificado</th><th>descuento</th><th>fecha</th><th>folio</th><th>formapago</th><th>lugarexpedicion</th><th>metodopago</th><th>moneda</th><th>nocertificado</th><th>schemalocation</th><th>sello</th><th>serie</th><th>subtotal</th><th>tipocambio</th><th>tipodecomprobante</th><th>total</th><th>version</th></tr>",
                            "<tr><td>01DAD1D3-CA8F-4F0D-8CA7-E0347D111EC4</td><td>I</td><td>FIS780810KQ9</td><td>MES880922JQA</td><td>01DAD1D3-CA8F-4F0D-8CA7-E0347D111EC4.xml</td><td>C:\\Users\\Roberto\\OneDrive\\cargoIabono\\Proyectos y Desarrollos\\P001_V001_CFDI-Reader\\01_Inputs\\Facturas\\01DAD1D3-CA8F-4F0D-8CA7-E0347D111EC4.xml</td><td>1</td><td>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</td><td>NULL</td><td>2020-08-11T10:18:30</td><td>000000759</td><td>99</td><td>65550</td><td>PPD</td><td>USD</td><td>00001000000405222177</td><td>http://www.sat.gob.mx/cfd/3 http://www.sat.gob.mx/sitio_internet/cfd/3/cfdv33.xsd</td><td>srEGtHCl1ZhcutZbzAE0XJmTCgK1hn9+oaE4has978FAEvXK5yv+Kf7bPL31GtyA+0+crEncaxmSXNW/XCjB1OdjtggzTyI8taU+hMIGOxoA3G4PFeBLsrYSVdT4PgFQvUx9fjUF1lUqfBn/FtyzxsIyaUxplCrgWhC3kbvhWh5on5HVqQ1lx7t8YaUUxONQ4x0LgJ21JNUOn0wJIrZhJ1SBBxQLDFWKymUDySD8AgxNiIMw7QU6T3boTr/4WsuBwrmGm4l4o98E1m5LP8ep9wOcxuyUKOuTHVKK3yN2GkrIoJiIDXqEShFlwbS8aQFLi5CJi5UiZk/5AyJVcHbl1g==</td><td>IA</td><td>28609.10</td><td>22.4892</td><td>I</td><td>33186.56</td><td>3.3</td></tr>",
                            "<tr><td>0A8BEAE0-F410-4A97-8860-7F5EBADC0D60</td><td>I</td><td>FIS780810KQ9</td><td>TCA640201ER3</td><td>0A8BEAE0-F410-4A97-8860-7F5EBADC0D60.xml</td><td>C:\\Users\\Roberto\\OneDrive\\cargoIabono\\Proyectos y Desarrollos\\P001_V001_CFDI-Reader\\01_Inputs\\Facturas\\0A8BEAE0-F410-4A97-8860-7F5EBADC0D60.xml</td><td>1</td><td>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</td><td>NULL</td><td>2020-08-17T10:08:31</td><td>000000780</td><td>99</td><td>65550</td><td>PPD</td><td>USD</td><td>00001000000405222177</td><td>http://www.sat.gob.mx/cfd/3 http://www.sat.gob.mx/sitio_internet/cfd/3/cfdv33.xsd</td><td>GQG3zZe2qoDpR2kBy6llkNOH2lRW81voVwiuzrlID8z7EgvVQNh3aTN4v8WdipG3+mfGVGOrsrC6SS75K9eYjOO0T38Pc8q3UXmRoI0j0cZ38VNDykaoBm5M7iNgimBbGanpBDrNk+1bsKx5+gMENDpUQq/FjnemoRX87eR82vf/op1gEgyVo4vX9yoiHXngT/dvoMDtm272Dndu4qGkPIZRExElDEDG8adWzvtfsB+7OK+jo3l9ohEc5xiuBtL9re0DyRN5+oEsZ8oN+mxi7m5gUR9FSR+PLY2b00u1GOlTtsZiGST30zTOvuq8LRSiLzTndEl2PC+i5WEgI68C6Q==</td><td>IA</td><td>2954.72</td><td>22.3457</td><td>I</td><td>3427.48</td><td>3.3</td></tr>",
                            "<tr><td>0C58F816-7800-44E2-96FF-631A8E432C50</td><td>I</td><td>FIS780810KQ9</td><td>KLM970416U59</td><td>0C58F816-7800-44E2-96FF-631A8E432C50.xml</td><td>C:\\Users\\Roberto\\OneDrive\\cargoIabono\\Proyectos y Desarrollos\\P001_V001_CFDI-Reader\\01_Inputs\\Facturas\\0C58F816-7800-44E2-96FF-631A8E432C50.xml</td><td>1</td><td>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</td><td>NULL</td><td>2020-08-18T12:18:53</td><td>000000787</td><td>99</td><td>65550</td><td>PPD</td><td>USD</td><td>00001000000405222177</td><td>http://www.sat.gob.mx/cfd/3 http://www.sat.gob.mx/sitio_internet/cfd/3/cfdv33.xsd</td><td>FYKhfWc+pvMhyrso3d1kB0y4GlWD+JOlnwQV3jn2xhtxCRu8k0duAFj7k5156Dlk+9PJR1P/DB6klVVJgjVgulf2BpC/tTqTZOWg6EyJYMuyVgEFWXhb410ajVQMNI0IATAbKBG3NWsz0QPWsXujcxP+a/l4eqifSfFEs5bepxMl5yC2OiNBkwMx1/5WONJypDtnMFg/4s0+N58al3qWVP+0wZyyJFAV8f2TcK7xtg7rZdkpUzwdBNHVIY1eXbQDbgTzX88Aaa1e0A50vvQFViy1pbWU7rkzMng+Xn2iVYVN4dmsZ2XPQ+Cyy0ZqLYDpIagzuNz+87V53qD1+WTCTg==</td><td>IA</td><td>1066.41</td><td>22.0313</td><td>I</td><td>1237.04</td><td>3.3</td></tr>",
                            "<tr><td>0D0E1EBB-003E-4F17-B2BE-0A5442819D1C</td><td>I</td><td>FIS780810KQ9</td><td>PSM101118J20</td><td>0D0E1EBB-003E-4F17-B2BE-0A5442819D1C.xml</td><td>C:\\Users\\Roberto\\OneDrive\\cargoIabono\\Proyectos y Desarrollos\\P001_V001_CFDI-Reader\\01_Inputs\\Facturas\\0D0E1EBB-003E-4F17-B2BE-0A5442819D1C.xml</td><td>1</td><td>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</td><td>NULL</td><td>2020-08-15T20:47:45</td><td>000000779</td><td>99</td><td>65550</td><td>PPD</td><td>USD</td><td>00001000000405222177</td><td>http://www.sat.gob.mx/cfd/3 http://www.sat.gob.mx/sitio_internet/cfd/3/cfdv33.xsd</td><td>YJceSoBSvpDbkDU0qjZBquk15/UPRd9fuyRWR6DFa0dL7PGLH0EvR5dtu/PZ2m8hQVrM+2Q9Fv2UDlXf2qLdmnsuu8kxlXvTgsItuSxq72YvEqY8Q/XlbKSgujgJrudsIqXjbQ7EOLUpUrBjp5unw9+nMrOBvdqh1Hc1D0dTFBdfgnPwddYWAyabHk+ggAD/KlOmGjEW9LA4cOy5ZpXXdm6C3bJIlOmSZPCFtmlx3A1S9kSVE92AWUw5SUhf7b048/uxu3vfziKK3MxRuTpdShpqp2LjdqzfksmJNz89lZjWYPd/LOC7MAfAtLL3ffaBwawxcba6HTnZV9YHwOjZrg==</td><td>IA</td><td>2545.20</td><td>22.3457</td><td>I</td><td>2952.43</td><td>3.3</td></tr>",
                            "<tr><td>0F23FE0D-8324-4BCE-AFAC-68CB67E89714</td><td>P</td><td>FIS780810KQ9</td><td>FAN540305I15</td><td>0F23FE0D-8324-4BCE-AFAC-68CB67E89714.xml</td><td>C:\\Users\\Roberto\\OneDrive\\cargoIabono\\Proyectos y Desarrollos\\P001_V001_CFDI-Reader\\01_Inputs\\Facturas\\0F23FE0D-8324-4BCE-AFAC-68CB67E89714.xml</td><td>1</td><td>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</td><td>NULL</td><td>2020-08-06T10:00:40</td><td>146</td><td>NULL</td><td>65550</td><td>NULL</td><td>XXX</td><td>00001000000405222177</td><td>http://www.sat.gob.mx/cfd/3 http://www.sat.gob.mx/sitio_internet/cfd/3/cfdv33.xsd http://www.sat.gob.mx/Pagos http://www.sat.gob.mx/sitio_internet/cfd/Pagos/Pagos10.xsd</td><td>KYzHfFCfdi3rSOpAISJPq3K3OVj5QfmL2FVAAW/mU0+vgVext/LkwTXirfefSEeob+eC2O9ODS1/bs7DK0BwEJYRYULBH1ENTlGq19feq+Rv3N5nYDOV7hvQZ+K/jbRg1X4ms87TdUKP8r+dzCzHHWXUIDDl32NqkrG1r897ZVe2n3qjNowP3lnJa2U6kXMQHUcCubxCZR46J8eMW+uWOd6PnjxLpqQfv/0cpCSRmThEN/kIdKG6cIxsH0ZppQSTc9QU61xFRdz7nAp/vpjqBhIJHOZZjLO0U4y8SSRAmABFSMNnWdON44itg9XXwIcvedtVfzrV2uBC4nNAEsRC3w==</td><td>CPIA</td><td>0</td><td>NULL</td><td>P</td><td>0</td><td>3.3</td></tr>",
                            "<tr><td>1F8FA056-C516-4349-8E87-DC2EC8F831D5</td><td>I</td><td>FIS780810KQ9</td><td>CAT051122H76</td><td>1F8FA056-C516-4349-8E87-DC2EC8F831D5.xml</td><td>C:\\Users\\Roberto\\OneDrive\\cargoIabono\\Proyectos y Desarrollos\\P001_V001_CFDI-Reader\\01_Inputs\\Facturas\\1F8FA056-C516-4349-8E87-DC2EC8F831D5.xml</td><td>1</td><td>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</td><td>NULL</td><td>2020-08-18T17:53:56</td><td>000000790</td><td>03</td><td>65550</td><td>PPD</td><td>MXN</td><td>00001000000405222177</td><td>http://www.sat.gob.mx/cfd/3 http://www.sat.gob.mx/sitio_internet/cfd/3/cfdv33.xsd</td><td>VaYiYa2dX2taUnG7j2EitgtQv/8cL5HxikGofXdOykupEXnKKX8+DaCV62Cbuw9gk+aNfTA4KQ4q8x15IWnGj/mKvBSmFNB5Ej/Fr6sOHrCM5eKHpZY5flQgGEGolqQ7CLiAvZueEF2dFJ0TAT16zvtkYG3g7nSXkWHhSXyFpEaLp9VDp1TDHohiD/sb0zP1juznWdLc3DsqqfWY8HgrbVwy0fhzeP3MQkQhsOwZeNPFmhw0IfeXNXLUy4UbRV2HVoYMiwx47c8lj82v+4gehJoNrEsdHbbSBlNEbWXDX/BmVtJ3EXea1Qv8b+pOOYX9KtBttpeM2eWhBClgUGCc/A==</td><td>IA</td><td>25660.00</td><td>1</td><td>I</td><td>29765.60</td><td>3.3</td></tr>",
                            "<tr><td>B7D29180-3BB4-904C-9DC5-8730016AA924</td><td>N</td><td>EMS2103108P3</td><td>AOAR951019842</td><td>EMS2103108P3_Pago de nómina_20220815_N_AOAR951019842.xml</td><td>C:\\Users\\Roberto\\OneDrive\\cargoIabono\\Proyectos y Desarrollos\\P001_V001_CFDI-Reader\\01_Inputs\\Nomina\\EMS2103108P3_Pago de nómina_20220815_N_AOAR951019842.xml</td><td>1</td><td>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</td><td>14787.52</td><td>2022-08-15T14:18:40</td><td>1334</td><td>99</td><td>64000</td><td>PUE</td><td>MXN</td><td>00001000000508041177</td><td>http://www.sat.gob.mx/cfd/3 http://www.sat.gob.mx/sitio_internet/cfd/3/cfdv33.xsd http://www.sat.gob.mx/nomina12 http://www.sat.gob.mx/sitio_internet/cfd/nomina/nomina12.xsd</td><td>Te4Lmnf/eDgK5YLE2UC/LENClMEglH2XUavfiO1DS/Ym7GRbVvDvn1r0VcZqNVxVK6atZddZ09MBVnv9wSUzOsnx9NmeYdylXUw97RgBB+5f6PdI8zR9tLm/ohPt/HwQbmbrSM9rrBs6u8+UDsrKrPgIc10/93VH4PGs2NxUyJPReI79kqlyF+2l++DkXqtApXwcC2aJIWtvqCYc+XWaVB42h0jFnrtyILg7Hw33d8VGbWHEEDgVVG0LLmcpmGqOM+1k0JwCZZmBKW3prGntWBvRq36DwB7vx/WgXw8jQNF5NL+OERwZpTVd/zDCTeIbQKfMtge39rbKrPGMGAk8AA==</td><td>NOM</td><td>43376.49</td><td>NULL</td><td>N</td><td>28588.97</td><td>3.3</td></tr>",
                            "</table>"
                        ]
                    }
                }
            ],
            "execution_count": 23
        },
        {
            "cell_type": "code",
            "source": [
                "SELECT cfdi.emisor.emisor_rfc, cfdi.emisor.nombre\r\n",
                "FROM cfdi.emisor\r\n",
                "GROUP BY cfdi.emisor.emisor_rfc, cfdi.emisor.nombre;\r\n",
                ""
            ],
            "metadata": {
                "azdata_cell_guid": "48661873-f6c7-4fc7-8ef0-44ccaa3bd337",
                "language": "sql"
            },
            "outputs": [
                {
                    "output_type": "display_data",
                    "data": {
                        "text/html": "(2 rows affected)"
                    },
                    "metadata": {}
                },
                {
                    "output_type": "display_data",
                    "data": {
                        "text/html": "Total execution time: 00:00:00.154"
                    },
                    "metadata": {}
                },
                {
                    "output_type": "execute_result",
                    "metadata": {},
                    "execution_count": 31,
                    "data": {
                        "application/vnd.dataresource+json": {
                            "schema": {
                                "fields": [
                                    {
                                        "name": "emisor_rfc"
                                    },
                                    {
                                        "name": "nombre"
                                    }
                                ]
                            },
                            "data": [
                                {
                                    "emisor_rfc": "EMS2103108P3",
                                    "nombre": "ESAB MEXICO SERVICES SA DE CV"
                                },
                                {
                                    "emisor_rfc": "FIS780810KQ9",
                                    "nombre": "FISACERO, S.A.P.I. DE C.V."
                                }
                            ]
                        },
                        "text/html": [
                            "<table>",
                            "<tr><th>emisor_rfc</th><th>nombre</th></tr>",
                            "<tr><td>EMS2103108P3</td><td>ESAB MEXICO SERVICES SA DE CV</td></tr>",
                            "<tr><td>FIS780810KQ9</td><td>FISACERO, S.A.P.I. DE C.V.</td></tr>",
                            "</table>"
                        ]
                    }
                }
            ],
            "execution_count": 31
        },
        {
            "cell_type": "code",
            "source": [
                "SELECT  cfdi.comprobante.uuid,\r\n",
                "        cfdi.comprobante.comprobante_tipo,\r\n",
                "        cfdi.comprobante.emisor_rfc,\r\n",
                "        emisor.nombre  AS emisor_nombre,\r\n",
                "        emisor.regimenfiscal AS emisor_regimenfiscal,\r\n",
                "        cfdi.comprobante.receptor_rfc,\r\n",
                "        receptor.nombre  AS receptor_nombre,\r\n",
                "        receptor.usocfdi  AS receptor_usocfdi,\r\n",
                "        cfdi.comprobante.version,\r\n",
                "        cfdi.comprobante.serie,\r\n",
                "        cfdi.comprobante.folio,\r\n",
                "        cfdi.comprobante.fecha,---insertar mas detalles de emisor y receptor en esta parte\r\n",
                "        cfdi.comprobante.lugarexpedicion,\r\n",
                "        cfdi.comprobante.metodopago,\r\n",
                "        cfdi.comprobante.moneda,\r\n",
                "        cfdi.comprobante.tipocambio,\r\n",
                "        cfdi.comprobante.subtotal,\r\n",
                "        cfdi.comprobante.descuento,\r\n",
                "        impuestos_trasladados.totalimpuestostrasladados AS impuestos_totaltrasladados,\r\n",
                "        cfdi.comprobante.total\r\n",
                "FROM cfdi.comprobante\r\n",
                "LEFT JOIN ( SELECT emisor_rfc, nombre, regimenfiscal FROM cfdi.emisor GROUP BY emisor_rfc, nombre, regimenfiscal) AS emisor ON cfdi.comprobante.emisor_rfc = emisor.emisor_rfc\r\n",
                "LEFT JOIN ( SELECT receptor_rfc, nombre, usocfdi FROM cfdi.receptor GROUP BY receptor_rfc, nombre, usocfdi) AS receptor ON cfdi.comprobante.receptor_rfc = receptor.receptor_rfc\r\n",
                "LEFT JOIN ( SELECT cfdi.impuestos.uuid, cfdi.impuestos.comprobante_tipo, cfdi.impuestos.emisor_rfc, cfdi.impuestos.receptor_rfc,  cfdi.impuestos.totalimpuestostrasladados  FROM cfdi.impuestos\r\n",
                "            GROUP BY cfdi.impuestos.uuid, cfdi.impuestos.comprobante_tipo, cfdi.impuestos.emisor_rfc, cfdi.impuestos.receptor_rfc, cfdi.impuestos.totalimpuestostrasladados) AS impuestos_trasladados \r\n",
                "    ON cfdi.comprobante.uuid = impuestos_trasladados.uuid\r\n",
                "\r\n",
                "\r\n",
                ""
            ],
            "metadata": {
                "azdata_cell_guid": "5216960c-38c4-4c8f-a2d3-f7793458ea7e",
                "language": "sql",
                "tags": []
            },
            "outputs": [
                {
                    "output_type": "display_data",
                    "data": {
                        "text/html": "(7 rows affected)"
                    },
                    "metadata": {}
                },
                {
                    "output_type": "display_data",
                    "data": {
                        "text/html": "Total execution time: 00:00:01.087"
                    },
                    "metadata": {}
                },
                {
                    "output_type": "execute_result",
                    "metadata": {},
                    "execution_count": 48,
                    "data": {
                        "application/vnd.dataresource+json": {
                            "schema": {
                                "fields": [
                                    {
                                        "name": "uuid"
                                    },
                                    {
                                        "name": "comprobante_tipo"
                                    },
                                    {
                                        "name": "emisor_rfc"
                                    },
                                    {
                                        "name": "emisor_nombre"
                                    },
                                    {
                                        "name": "emisor_regimenfiscal"
                                    },
                                    {
                                        "name": "receptor_rfc"
                                    },
                                    {
                                        "name": "receptor_nombre"
                                    },
                                    {
                                        "name": "receptor_usocfdi"
                                    },
                                    {
                                        "name": "version"
                                    },
                                    {
                                        "name": "serie"
                                    },
                                    {
                                        "name": "folio"
                                    },
                                    {
                                        "name": "fecha"
                                    },
                                    {
                                        "name": "lugarexpedicion"
                                    },
                                    {
                                        "name": "metodopago"
                                    },
                                    {
                                        "name": "moneda"
                                    },
                                    {
                                        "name": "tipocambio"
                                    },
                                    {
                                        "name": "subtotal"
                                    },
                                    {
                                        "name": "descuento"
                                    },
                                    {
                                        "name": "impuestos_totaltrasladados"
                                    },
                                    {
                                        "name": "total"
                                    }
                                ]
                            },
                            "data": [
                                {
                                    "uuid": "01DAD1D3-CA8F-4F0D-8CA7-E0347D111EC4",
                                    "comprobante_tipo": "I",
                                    "emisor_rfc": "FIS780810KQ9",
                                    "emisor_nombre": "FISACERO, S.A.P.I. DE C.V.",
                                    "emisor_regimenfiscal": "601",
                                    "receptor_rfc": "MES880922JQA",
                                    "receptor_nombre": "MANUFACTURAS ESTAMPADAS",
                                    "receptor_usocfdi": "G01",
                                    "version": "3.3",
                                    "serie": "IA",
                                    "folio": "000000759",
                                    "fecha": "2020-08-11T10:18:30",
                                    "lugarexpedicion": "65550",
                                    "metodopago": "PPD",
                                    "moneda": "USD",
                                    "tipocambio": "22.4892",
                                    "subtotal": "28609.10",
                                    "descuento": "NULL",
                                    "impuestos_totaltrasladados": "4577.46",
                                    "total": "33186.56"
                                },
                                {
                                    "uuid": "0A8BEAE0-F410-4A97-8860-7F5EBADC0D60",
                                    "comprobante_tipo": "I",
                                    "emisor_rfc": "FIS780810KQ9",
                                    "emisor_nombre": "FISACERO, S.A.P.I. DE C.V.",
                                    "emisor_regimenfiscal": "601",
                                    "receptor_rfc": "TCA640201ER3",
                                    "receptor_nombre": "TUERCAS Y CANDADOS, S.A. DE C.V.",
                                    "receptor_usocfdi": "P01",
                                    "version": "3.3",
                                    "serie": "IA",
                                    "folio": "000000780",
                                    "fecha": "2020-08-17T10:08:31",
                                    "lugarexpedicion": "65550",
                                    "metodopago": "PPD",
                                    "moneda": "USD",
                                    "tipocambio": "22.3457",
                                    "subtotal": "2954.72",
                                    "descuento": "NULL",
                                    "impuestos_totaltrasladados": "472.76",
                                    "total": "3427.48"
                                },
                                {
                                    "uuid": "0C58F816-7800-44E2-96FF-631A8E432C50",
                                    "comprobante_tipo": "I",
                                    "emisor_rfc": "FIS780810KQ9",
                                    "emisor_nombre": "FISACERO, S.A.P.I. DE C.V.",
                                    "emisor_regimenfiscal": "601",
                                    "receptor_rfc": "KLM970416U59",
                                    "receptor_nombre": "KERN LIBERS MEXICO, S.A. DE C.V.",
                                    "receptor_usocfdi": "P01",
                                    "version": "3.3",
                                    "serie": "IA",
                                    "folio": "000000787",
                                    "fecha": "2020-08-18T12:18:53",
                                    "lugarexpedicion": "65550",
                                    "metodopago": "PPD",
                                    "moneda": "USD",
                                    "tipocambio": "22.0313",
                                    "subtotal": "1066.41",
                                    "descuento": "NULL",
                                    "impuestos_totaltrasladados": "170.63",
                                    "total": "1237.04"
                                },
                                {
                                    "uuid": "0D0E1EBB-003E-4F17-B2BE-0A5442819D1C",
                                    "comprobante_tipo": "I",
                                    "emisor_rfc": "FIS780810KQ9",
                                    "emisor_nombre": "FISACERO, S.A.P.I. DE C.V.",
                                    "emisor_regimenfiscal": "601",
                                    "receptor_rfc": "PSM101118J20",
                                    "receptor_nombre": "PROGRESSIVE STAMPING DE MEXICO",
                                    "receptor_usocfdi": "G01",
                                    "version": "3.3",
                                    "serie": "IA",
                                    "folio": "000000779",
                                    "fecha": "2020-08-15T20:47:45",
                                    "lugarexpedicion": "65550",
                                    "metodopago": "PPD",
                                    "moneda": "USD",
                                    "tipocambio": "22.3457",
                                    "subtotal": "2545.20",
                                    "descuento": "NULL",
                                    "impuestos_totaltrasladados": "407.23",
                                    "total": "2952.43"
                                },
                                {
                                    "uuid": "0F23FE0D-8324-4BCE-AFAC-68CB67E89714",
                                    "comprobante_tipo": "P",
                                    "emisor_rfc": "FIS780810KQ9",
                                    "emisor_nombre": "FISACERO, S.A.P.I. DE C.V.",
                                    "emisor_regimenfiscal": "601",
                                    "receptor_rfc": "FAN540305I15",
                                    "receptor_nombre": "GENVAMEX, S.A. DE C.V. AV. NOGALAR SUR No. 301",
                                    "receptor_usocfdi": "P01",
                                    "version": "3.3",
                                    "serie": "CPIA",
                                    "folio": "146",
                                    "fecha": "2020-08-06T10:00:40",
                                    "lugarexpedicion": "65550",
                                    "metodopago": "NULL",
                                    "moneda": "XXX",
                                    "tipocambio": "NULL",
                                    "subtotal": "0",
                                    "descuento": "NULL",
                                    "impuestos_totaltrasladados": "NULL",
                                    "total": "0"
                                },
                                {
                                    "uuid": "1F8FA056-C516-4349-8E87-DC2EC8F831D5",
                                    "comprobante_tipo": "I",
                                    "emisor_rfc": "FIS780810KQ9",
                                    "emisor_nombre": "FISACERO, S.A.P.I. DE C.V.",
                                    "emisor_regimenfiscal": "601",
                                    "receptor_rfc": "CAT051122H76",
                                    "receptor_nombre": "CATAFORESIS, S.A. DE C.V.",
                                    "receptor_usocfdi": "G01",
                                    "version": "3.3",
                                    "serie": "IA",
                                    "folio": "000000790",
                                    "fecha": "2020-08-18T17:53:56",
                                    "lugarexpedicion": "65550",
                                    "metodopago": "PPD",
                                    "moneda": "MXN",
                                    "tipocambio": "1",
                                    "subtotal": "25660.00",
                                    "descuento": "NULL",
                                    "impuestos_totaltrasladados": "4105.60",
                                    "total": "29765.60"
                                },
                                {
                                    "uuid": "B7D29180-3BB4-904C-9DC5-8730016AA924",
                                    "comprobante_tipo": "N",
                                    "emisor_rfc": "EMS2103108P3",
                                    "emisor_nombre": "ESAB MEXICO SERVICES SA DE CV",
                                    "emisor_regimenfiscal": "601",
                                    "receptor_rfc": "AOAR951019842",
                                    "receptor_nombre": "Roberto Carlos Alonso Alvarez",
                                    "receptor_usocfdi": "P01",
                                    "version": "3.3",
                                    "serie": "NOM",
                                    "folio": "1334",
                                    "fecha": "2022-08-15T14:18:40",
                                    "lugarexpedicion": "64000",
                                    "metodopago": "PUE",
                                    "moneda": "MXN",
                                    "tipocambio": "NULL",
                                    "subtotal": "43376.49",
                                    "descuento": "14787.52",
                                    "impuestos_totaltrasladados": "NULL",
                                    "total": "28588.97"
                                }
                            ]
                        },
                        "text/html": [
                            "<table>",
                            "<tr><th>uuid</th><th>comprobante_tipo</th><th>emisor_rfc</th><th>emisor_nombre</th><th>emisor_regimenfiscal</th><th>receptor_rfc</th><th>receptor_nombre</th><th>receptor_usocfdi</th><th>version</th><th>serie</th><th>folio</th><th>fecha</th><th>lugarexpedicion</th><th>metodopago</th><th>moneda</th><th>tipocambio</th><th>subtotal</th><th>descuento</th><th>impuestos_totaltrasladados</th><th>total</th></tr>",
                            "<tr><td>01DAD1D3-CA8F-4F0D-8CA7-E0347D111EC4</td><td>I</td><td>FIS780810KQ9</td><td>FISACERO, S.A.P.I. DE C.V.</td><td>601</td><td>MES880922JQA</td><td>MANUFACTURAS ESTAMPADAS</td><td>G01</td><td>3.3</td><td>IA</td><td>000000759</td><td>2020-08-11T10:18:30</td><td>65550</td><td>PPD</td><td>USD</td><td>22.4892</td><td>28609.10</td><td>NULL</td><td>4577.46</td><td>33186.56</td></tr>",
                            "<tr><td>0A8BEAE0-F410-4A97-8860-7F5EBADC0D60</td><td>I</td><td>FIS780810KQ9</td><td>FISACERO, S.A.P.I. DE C.V.</td><td>601</td><td>TCA640201ER3</td><td>TUERCAS Y CANDADOS, S.A. DE C.V.</td><td>P01</td><td>3.3</td><td>IA</td><td>000000780</td><td>2020-08-17T10:08:31</td><td>65550</td><td>PPD</td><td>USD</td><td>22.3457</td><td>2954.72</td><td>NULL</td><td>472.76</td><td>3427.48</td></tr>",
                            "<tr><td>0C58F816-7800-44E2-96FF-631A8E432C50</td><td>I</td><td>FIS780810KQ9</td><td>FISACERO, S.A.P.I. DE C.V.</td><td>601</td><td>KLM970416U59</td><td>KERN LIBERS MEXICO, S.A. DE C.V.</td><td>P01</td><td>3.3</td><td>IA</td><td>000000787</td><td>2020-08-18T12:18:53</td><td>65550</td><td>PPD</td><td>USD</td><td>22.0313</td><td>1066.41</td><td>NULL</td><td>170.63</td><td>1237.04</td></tr>",
                            "<tr><td>0D0E1EBB-003E-4F17-B2BE-0A5442819D1C</td><td>I</td><td>FIS780810KQ9</td><td>FISACERO, S.A.P.I. DE C.V.</td><td>601</td><td>PSM101118J20</td><td>PROGRESSIVE STAMPING DE MEXICO</td><td>G01</td><td>3.3</td><td>IA</td><td>000000779</td><td>2020-08-15T20:47:45</td><td>65550</td><td>PPD</td><td>USD</td><td>22.3457</td><td>2545.20</td><td>NULL</td><td>407.23</td><td>2952.43</td></tr>",
                            "<tr><td>0F23FE0D-8324-4BCE-AFAC-68CB67E89714</td><td>P</td><td>FIS780810KQ9</td><td>FISACERO, S.A.P.I. DE C.V.</td><td>601</td><td>FAN540305I15</td><td>GENVAMEX, S.A. DE C.V. AV. NOGALAR SUR No. 301</td><td>P01</td><td>3.3</td><td>CPIA</td><td>146</td><td>2020-08-06T10:00:40</td><td>65550</td><td>NULL</td><td>XXX</td><td>NULL</td><td>0</td><td>NULL</td><td>NULL</td><td>0</td></tr>",
                            "<tr><td>1F8FA056-C516-4349-8E87-DC2EC8F831D5</td><td>I</td><td>FIS780810KQ9</td><td>FISACERO, S.A.P.I. DE C.V.</td><td>601</td><td>CAT051122H76</td><td>CATAFORESIS, S.A. DE C.V.</td><td>G01</td><td>3.3</td><td>IA</td><td>000000790</td><td>2020-08-18T17:53:56</td><td>65550</td><td>PPD</td><td>MXN</td><td>1</td><td>25660.00</td><td>NULL</td><td>4105.60</td><td>29765.60</td></tr>",
                            "<tr><td>B7D29180-3BB4-904C-9DC5-8730016AA924</td><td>N</td><td>EMS2103108P3</td><td>ESAB MEXICO SERVICES SA DE CV</td><td>601</td><td>AOAR951019842</td><td>Roberto Carlos Alonso Alvarez</td><td>P01</td><td>3.3</td><td>NOM</td><td>1334</td><td>2022-08-15T14:18:40</td><td>64000</td><td>PUE</td><td>MXN</td><td>NULL</td><td>43376.49</td><td>14787.52</td><td>NULL</td><td>28588.97</td></tr>",
                            "</table>"
                        ]
                    }
                }
            ],
            "execution_count": 48
        },
        {
            "cell_type": "code",
            "source": [
                "SELECT * FROM cfdi.impuestos"
            ],
            "metadata": {
                "azdata_cell_guid": "b21e196b-dad4-4baa-bf88-230d73d8436b",
                "language": "sql"
            },
            "outputs": [
                {
                    "output_type": "display_data",
                    "data": {
                        "text/html": "(10 rows affected)"
                    },
                    "metadata": {}
                },
                {
                    "output_type": "display_data",
                    "data": {
                        "text/html": "Total execution time: 00:00:00.141"
                    },
                    "metadata": {}
                },
                {
                    "output_type": "execute_result",
                    "metadata": {},
                    "execution_count": 40,
                    "data": {
                        "application/vnd.dataresource+json": {
                            "schema": {
                                "fields": [
                                    {
                                        "name": "uuid"
                                    },
                                    {
                                        "name": "comprobante_tipo"
                                    },
                                    {
                                        "name": "emisor_rfc"
                                    },
                                    {
                                        "name": "receptor_rfc"
                                    },
                                    {
                                        "name": "file_name"
                                    },
                                    {
                                        "name": "file_path"
                                    },
                                    {
                                        "name": "row"
                                    },
                                    {
                                        "name": "totalimpuestostrasladados"
                                    }
                                ]
                            },
                            "data": [
                                {
                                    "uuid": "01DAD1D3-CA8F-4F0D-8CA7-E0347D111EC4",
                                    "comprobante_tipo": "I",
                                    "emisor_rfc": "FIS780810KQ9",
                                    "receptor_rfc": "MES880922JQA",
                                    "file_name": "01DAD1D3-CA8F-4F0D-8CA7-E0347D111EC4.xml",
                                    "file_path": "C:\\Users\\Roberto\\OneDrive\\cargoIabono\\Proyectos y Desarrollos\\P001_V001_CFDI-Reader\\01_Inputs\\Facturas\\01DAD1D3-CA8F-4F0D-8CA7-E0347D111EC4.xml",
                                    "row": "1",
                                    "totalimpuestostrasladados": "4577.46"
                                },
                                {
                                    "uuid": "01DAD1D3-CA8F-4F0D-8CA7-E0347D111EC4",
                                    "comprobante_tipo": "I",
                                    "emisor_rfc": "FIS780810KQ9",
                                    "receptor_rfc": "MES880922JQA",
                                    "file_name": "01DAD1D3-CA8F-4F0D-8CA7-E0347D111EC4.xml",
                                    "file_path": "C:\\Users\\Roberto\\OneDrive\\cargoIabono\\Proyectos y Desarrollos\\P001_V001_CFDI-Reader\\01_Inputs\\Facturas\\01DAD1D3-CA8F-4F0D-8CA7-E0347D111EC4.xml",
                                    "row": "2",
                                    "totalimpuestostrasladados": "4577.46"
                                },
                                {
                                    "uuid": "0A8BEAE0-F410-4A97-8860-7F5EBADC0D60",
                                    "comprobante_tipo": "I",
                                    "emisor_rfc": "FIS780810KQ9",
                                    "receptor_rfc": "TCA640201ER3",
                                    "file_name": "0A8BEAE0-F410-4A97-8860-7F5EBADC0D60.xml",
                                    "file_path": "C:\\Users\\Roberto\\OneDrive\\cargoIabono\\Proyectos y Desarrollos\\P001_V001_CFDI-Reader\\01_Inputs\\Facturas\\0A8BEAE0-F410-4A97-8860-7F5EBADC0D60.xml",
                                    "row": "1",
                                    "totalimpuestostrasladados": "472.76"
                                },
                                {
                                    "uuid": "0A8BEAE0-F410-4A97-8860-7F5EBADC0D60",
                                    "comprobante_tipo": "I",
                                    "emisor_rfc": "FIS780810KQ9",
                                    "receptor_rfc": "TCA640201ER3",
                                    "file_name": "0A8BEAE0-F410-4A97-8860-7F5EBADC0D60.xml",
                                    "file_path": "C:\\Users\\Roberto\\OneDrive\\cargoIabono\\Proyectos y Desarrollos\\P001_V001_CFDI-Reader\\01_Inputs\\Facturas\\0A8BEAE0-F410-4A97-8860-7F5EBADC0D60.xml",
                                    "row": "2",
                                    "totalimpuestostrasladados": "472.76"
                                },
                                {
                                    "uuid": "0C58F816-7800-44E2-96FF-631A8E432C50",
                                    "comprobante_tipo": "I",
                                    "emisor_rfc": "FIS780810KQ9",
                                    "receptor_rfc": "KLM970416U59",
                                    "file_name": "0C58F816-7800-44E2-96FF-631A8E432C50.xml",
                                    "file_path": "C:\\Users\\Roberto\\OneDrive\\cargoIabono\\Proyectos y Desarrollos\\P001_V001_CFDI-Reader\\01_Inputs\\Facturas\\0C58F816-7800-44E2-96FF-631A8E432C50.xml",
                                    "row": "1",
                                    "totalimpuestostrasladados": "170.63"
                                },
                                {
                                    "uuid": "0C58F816-7800-44E2-96FF-631A8E432C50",
                                    "comprobante_tipo": "I",
                                    "emisor_rfc": "FIS780810KQ9",
                                    "receptor_rfc": "KLM970416U59",
                                    "file_name": "0C58F816-7800-44E2-96FF-631A8E432C50.xml",
                                    "file_path": "C:\\Users\\Roberto\\OneDrive\\cargoIabono\\Proyectos y Desarrollos\\P001_V001_CFDI-Reader\\01_Inputs\\Facturas\\0C58F816-7800-44E2-96FF-631A8E432C50.xml",
                                    "row": "2",
                                    "totalimpuestostrasladados": "170.63"
                                },
                                {
                                    "uuid": "0D0E1EBB-003E-4F17-B2BE-0A5442819D1C",
                                    "comprobante_tipo": "I",
                                    "emisor_rfc": "FIS780810KQ9",
                                    "receptor_rfc": "PSM101118J20",
                                    "file_name": "0D0E1EBB-003E-4F17-B2BE-0A5442819D1C.xml",
                                    "file_path": "C:\\Users\\Roberto\\OneDrive\\cargoIabono\\Proyectos y Desarrollos\\P001_V001_CFDI-Reader\\01_Inputs\\Facturas\\0D0E1EBB-003E-4F17-B2BE-0A5442819D1C.xml",
                                    "row": "1",
                                    "totalimpuestostrasladados": "407.23"
                                },
                                {
                                    "uuid": "0D0E1EBB-003E-4F17-B2BE-0A5442819D1C",
                                    "comprobante_tipo": "I",
                                    "emisor_rfc": "FIS780810KQ9",
                                    "receptor_rfc": "PSM101118J20",
                                    "file_name": "0D0E1EBB-003E-4F17-B2BE-0A5442819D1C.xml",
                                    "file_path": "C:\\Users\\Roberto\\OneDrive\\cargoIabono\\Proyectos y Desarrollos\\P001_V001_CFDI-Reader\\01_Inputs\\Facturas\\0D0E1EBB-003E-4F17-B2BE-0A5442819D1C.xml",
                                    "row": "2",
                                    "totalimpuestostrasladados": "407.23"
                                },
                                {
                                    "uuid": "1F8FA056-C516-4349-8E87-DC2EC8F831D5",
                                    "comprobante_tipo": "I",
                                    "emisor_rfc": "FIS780810KQ9",
                                    "receptor_rfc": "CAT051122H76",
                                    "file_name": "1F8FA056-C516-4349-8E87-DC2EC8F831D5.xml",
                                    "file_path": "C:\\Users\\Roberto\\OneDrive\\cargoIabono\\Proyectos y Desarrollos\\P001_V001_CFDI-Reader\\01_Inputs\\Facturas\\1F8FA056-C516-4349-8E87-DC2EC8F831D5.xml",
                                    "row": "1",
                                    "totalimpuestostrasladados": "4105.60"
                                },
                                {
                                    "uuid": "1F8FA056-C516-4349-8E87-DC2EC8F831D5",
                                    "comprobante_tipo": "I",
                                    "emisor_rfc": "FIS780810KQ9",
                                    "receptor_rfc": "CAT051122H76",
                                    "file_name": "1F8FA056-C516-4349-8E87-DC2EC8F831D5.xml",
                                    "file_path": "C:\\Users\\Roberto\\OneDrive\\cargoIabono\\Proyectos y Desarrollos\\P001_V001_CFDI-Reader\\01_Inputs\\Facturas\\1F8FA056-C516-4349-8E87-DC2EC8F831D5.xml",
                                    "row": "2",
                                    "totalimpuestostrasladados": "4105.60"
                                }
                            ]
                        },
                        "text/html": [
                            "<table>",
                            "<tr><th>uuid</th><th>comprobante_tipo</th><th>emisor_rfc</th><th>receptor_rfc</th><th>file_name</th><th>file_path</th><th>row</th><th>totalimpuestostrasladados</th></tr>",
                            "<tr><td>01DAD1D3-CA8F-4F0D-8CA7-E0347D111EC4</td><td>I</td><td>FIS780810KQ9</td><td>MES880922JQA</td><td>01DAD1D3-CA8F-4F0D-8CA7-E0347D111EC4.xml</td><td>C:\\Users\\Roberto\\OneDrive\\cargoIabono\\Proyectos y Desarrollos\\P001_V001_CFDI-Reader\\01_Inputs\\Facturas\\01DAD1D3-CA8F-4F0D-8CA7-E0347D111EC4.xml</td><td>1</td><td>4577.46</td></tr>",
                            "<tr><td>01DAD1D3-CA8F-4F0D-8CA7-E0347D111EC4</td><td>I</td><td>FIS780810KQ9</td><td>MES880922JQA</td><td>01DAD1D3-CA8F-4F0D-8CA7-E0347D111EC4.xml</td><td>C:\\Users\\Roberto\\OneDrive\\cargoIabono\\Proyectos y Desarrollos\\P001_V001_CFDI-Reader\\01_Inputs\\Facturas\\01DAD1D3-CA8F-4F0D-8CA7-E0347D111EC4.xml</td><td>2</td><td>4577.46</td></tr>",
                            "<tr><td>0A8BEAE0-F410-4A97-8860-7F5EBADC0D60</td><td>I</td><td>FIS780810KQ9</td><td>TCA640201ER3</td><td>0A8BEAE0-F410-4A97-8860-7F5EBADC0D60.xml</td><td>C:\\Users\\Roberto\\OneDrive\\cargoIabono\\Proyectos y Desarrollos\\P001_V001_CFDI-Reader\\01_Inputs\\Facturas\\0A8BEAE0-F410-4A97-8860-7F5EBADC0D60.xml</td><td>1</td><td>472.76</td></tr>",
                            "<tr><td>0A8BEAE0-F410-4A97-8860-7F5EBADC0D60</td><td>I</td><td>FIS780810KQ9</td><td>TCA640201ER3</td><td>0A8BEAE0-F410-4A97-8860-7F5EBADC0D60.xml</td><td>C:\\Users\\Roberto\\OneDrive\\cargoIabono\\Proyectos y Desarrollos\\P001_V001_CFDI-Reader\\01_Inputs\\Facturas\\0A8BEAE0-F410-4A97-8860-7F5EBADC0D60.xml</td><td>2</td><td>472.76</td></tr>",
                            "<tr><td>0C58F816-7800-44E2-96FF-631A8E432C50</td><td>I</td><td>FIS780810KQ9</td><td>KLM970416U59</td><td>0C58F816-7800-44E2-96FF-631A8E432C50.xml</td><td>C:\\Users\\Roberto\\OneDrive\\cargoIabono\\Proyectos y Desarrollos\\P001_V001_CFDI-Reader\\01_Inputs\\Facturas\\0C58F816-7800-44E2-96FF-631A8E432C50.xml</td><td>1</td><td>170.63</td></tr>",
                            "<tr><td>0C58F816-7800-44E2-96FF-631A8E432C50</td><td>I</td><td>FIS780810KQ9</td><td>KLM970416U59</td><td>0C58F816-7800-44E2-96FF-631A8E432C50.xml</td><td>C:\\Users\\Roberto\\OneDrive\\cargoIabono\\Proyectos y Desarrollos\\P001_V001_CFDI-Reader\\01_Inputs\\Facturas\\0C58F816-7800-44E2-96FF-631A8E432C50.xml</td><td>2</td><td>170.63</td></tr>",
                            "<tr><td>0D0E1EBB-003E-4F17-B2BE-0A5442819D1C</td><td>I</td><td>FIS780810KQ9</td><td>PSM101118J20</td><td>0D0E1EBB-003E-4F17-B2BE-0A5442819D1C.xml</td><td>C:\\Users\\Roberto\\OneDrive\\cargoIabono\\Proyectos y Desarrollos\\P001_V001_CFDI-Reader\\01_Inputs\\Facturas\\0D0E1EBB-003E-4F17-B2BE-0A5442819D1C.xml</td><td>1</td><td>407.23</td></tr>",
                            "<tr><td>0D0E1EBB-003E-4F17-B2BE-0A5442819D1C</td><td>I</td><td>FIS780810KQ9</td><td>PSM101118J20</td><td>0D0E1EBB-003E-4F17-B2BE-0A5442819D1C.xml</td><td>C:\\Users\\Roberto\\OneDrive\\cargoIabono\\Proyectos y Desarrollos\\P001_V001_CFDI-Reader\\01_Inputs\\Facturas\\0D0E1EBB-003E-4F17-B2BE-0A5442819D1C.xml</td><td>2</td><td>407.23</td></tr>",
                            "<tr><td>1F8FA056-C516-4349-8E87-DC2EC8F831D5</td><td>I</td><td>FIS780810KQ9</td><td>CAT051122H76</td><td>1F8FA056-C516-4349-8E87-DC2EC8F831D5.xml</td><td>C:\\Users\\Roberto\\OneDrive\\cargoIabono\\Proyectos y Desarrollos\\P001_V001_CFDI-Reader\\01_Inputs\\Facturas\\1F8FA056-C516-4349-8E87-DC2EC8F831D5.xml</td><td>1</td><td>4105.60</td></tr>",
                            "<tr><td>1F8FA056-C516-4349-8E87-DC2EC8F831D5</td><td>I</td><td>FIS780810KQ9</td><td>CAT051122H76</td><td>1F8FA056-C516-4349-8E87-DC2EC8F831D5.xml</td><td>C:\\Users\\Roberto\\OneDrive\\cargoIabono\\Proyectos y Desarrollos\\P001_V001_CFDI-Reader\\01_Inputs\\Facturas\\1F8FA056-C516-4349-8E87-DC2EC8F831D5.xml</td><td>2</td><td>4105.60</td></tr>",
                            "</table>"
                        ]
                    }
                }
            ],
            "execution_count": 40
        },
        {
            "cell_type": "code",
            "source": [
                "SELECT  cfdi.impuestos.uuid,\r\n",
                "        cfdi.impuestos.comprobante_tipo,\r\n",
                "        cfdi.impuestos.emisor_rfc,\r\n",
                "        cfdi.impuestos.receptor_rfc,\r\n",
                "        cfdi.impuestos.totalimpuestostrasladados\r\n",
                " FROM cfdi.impuestos\r\n",
                " GROUP BY cfdi.impuestos.uuid,\r\n",
                "        cfdi.impuestos.comprobante_tipo,\r\n",
                "        cfdi.impuestos.emisor_rfc,\r\n",
                "        cfdi.impuestos.receptor_rfc,\r\n",
                "        cfdi.impuestos.totalimpuestostrasladados"
            ],
            "metadata": {
                "language": "sql",
                "azdata_cell_guid": "096bbf11-c3b8-4b20-a777-d41ef23fe9e1"
            },
            "outputs": [
                {
                    "output_type": "display_data",
                    "data": {
                        "text/html": "(5 rows affected)"
                    },
                    "metadata": {}
                },
                {
                    "output_type": "display_data",
                    "data": {
                        "text/html": "Total execution time: 00:00:00.133"
                    },
                    "metadata": {}
                },
                {
                    "output_type": "execute_result",
                    "metadata": {},
                    "execution_count": 46,
                    "data": {
                        "application/vnd.dataresource+json": {
                            "schema": {
                                "fields": [
                                    {
                                        "name": "uuid"
                                    },
                                    {
                                        "name": "comprobante_tipo"
                                    },
                                    {
                                        "name": "emisor_rfc"
                                    },
                                    {
                                        "name": "receptor_rfc"
                                    },
                                    {
                                        "name": "totalimpuestostrasladados"
                                    }
                                ]
                            },
                            "data": [
                                {
                                    "uuid": "01DAD1D3-CA8F-4F0D-8CA7-E0347D111EC4",
                                    "comprobante_tipo": "I",
                                    "emisor_rfc": "FIS780810KQ9",
                                    "receptor_rfc": "MES880922JQA",
                                    "totalimpuestostrasladados": "4577.46"
                                },
                                {
                                    "uuid": "0A8BEAE0-F410-4A97-8860-7F5EBADC0D60",
                                    "comprobante_tipo": "I",
                                    "emisor_rfc": "FIS780810KQ9",
                                    "receptor_rfc": "TCA640201ER3",
                                    "totalimpuestostrasladados": "472.76"
                                },
                                {
                                    "uuid": "0C58F816-7800-44E2-96FF-631A8E432C50",
                                    "comprobante_tipo": "I",
                                    "emisor_rfc": "FIS780810KQ9",
                                    "receptor_rfc": "KLM970416U59",
                                    "totalimpuestostrasladados": "170.63"
                                },
                                {
                                    "uuid": "0D0E1EBB-003E-4F17-B2BE-0A5442819D1C",
                                    "comprobante_tipo": "I",
                                    "emisor_rfc": "FIS780810KQ9",
                                    "receptor_rfc": "PSM101118J20",
                                    "totalimpuestostrasladados": "407.23"
                                },
                                {
                                    "uuid": "1F8FA056-C516-4349-8E87-DC2EC8F831D5",
                                    "comprobante_tipo": "I",
                                    "emisor_rfc": "FIS780810KQ9",
                                    "receptor_rfc": "CAT051122H76",
                                    "totalimpuestostrasladados": "4105.60"
                                }
                            ]
                        },
                        "text/html": [
                            "<table>",
                            "<tr><th>uuid</th><th>comprobante_tipo</th><th>emisor_rfc</th><th>receptor_rfc</th><th>totalimpuestostrasladados</th></tr>",
                            "<tr><td>01DAD1D3-CA8F-4F0D-8CA7-E0347D111EC4</td><td>I</td><td>FIS780810KQ9</td><td>MES880922JQA</td><td>4577.46</td></tr>",
                            "<tr><td>0A8BEAE0-F410-4A97-8860-7F5EBADC0D60</td><td>I</td><td>FIS780810KQ9</td><td>TCA640201ER3</td><td>472.76</td></tr>",
                            "<tr><td>0C58F816-7800-44E2-96FF-631A8E432C50</td><td>I</td><td>FIS780810KQ9</td><td>KLM970416U59</td><td>170.63</td></tr>",
                            "<tr><td>0D0E1EBB-003E-4F17-B2BE-0A5442819D1C</td><td>I</td><td>FIS780810KQ9</td><td>PSM101118J20</td><td>407.23</td></tr>",
                            "<tr><td>1F8FA056-C516-4349-8E87-DC2EC8F831D5</td><td>I</td><td>FIS780810KQ9</td><td>CAT051122H76</td><td>4105.60</td></tr>",
                            "</table>"
                        ]
                    }
                }
            ],
            "execution_count": 46
        },
        {
            "cell_type": "code",
            "source": [
                "SELECT  cfdi.impuestos.uuid,\r\n",
                "        cfdi.impuestos.comprobante_tipo,\r\n",
                "        cfdi.impuestos.emisor_rfc,\r\n",
                "        cfdi.impuestos.receptor_rfc,\r\n",
                "        cfdi.impuestos.totalimpuestostrasladados\r\n",
                "FROM    cfdi.[cfdi.impuestos]\r\n",
                "GROUP BY  cfdi.impuestos.uuid,\r\n",
                "        cfdi.impuestos.comprobante_tipo,\r\n",
                "        cfdi.impuestos.emisor_rfc,\r\n",
                "        cfdi.impuestos.receptor_rfc,\r\n",
                "        cfdi.impuestos.totalimpuestostrasladados\r\n",
                "\r\n",
                ""
            ],
            "metadata": {
                "language": "sql",
                "azdata_cell_guid": "5e348cec-6990-4f41-b9be-d2b0ac00df01"
            },
            "outputs": [
                {
                    "output_type": "error",
                    "evalue": "Msg 4104, Level 16, State 1, Line 7\r\nThe multi-part identifier \"cfdi.impuestos.uuid\" could not be bound.",
                    "ename": "",
                    "traceback": []
                },
                {
                    "output_type": "error",
                    "evalue": "Msg 4104, Level 16, State 1, Line 8\r\nThe multi-part identifier \"cfdi.impuestos.comprobante_tipo\" could not be bound.",
                    "ename": "",
                    "traceback": []
                },
                {
                    "output_type": "error",
                    "evalue": "Msg 4104, Level 16, State 1, Line 9\r\nThe multi-part identifier \"cfdi.impuestos.emisor_rfc\" could not be bound.",
                    "ename": "",
                    "traceback": []
                },
                {
                    "output_type": "error",
                    "evalue": "Msg 4104, Level 16, State 1, Line 10\r\nThe multi-part identifier \"cfdi.impuestos.receptor_rfc\" could not be bound.",
                    "ename": "",
                    "traceback": []
                },
                {
                    "output_type": "error",
                    "evalue": "Msg 4104, Level 16, State 1, Line 11\r\nThe multi-part identifier \"cfdi.impuestos.totalimpuestostrasladados\" could not be bound.",
                    "ename": "",
                    "traceback": []
                },
                {
                    "output_type": "error",
                    "evalue": "Msg 4104, Level 16, State 1, Line 1\r\nThe multi-part identifier \"cfdi.impuestos.uuid\" could not be bound.",
                    "ename": "",
                    "traceback": []
                },
                {
                    "output_type": "error",
                    "evalue": "Msg 4104, Level 16, State 1, Line 2\r\nThe multi-part identifier \"cfdi.impuestos.comprobante_tipo\" could not be bound.",
                    "ename": "",
                    "traceback": []
                },
                {
                    "output_type": "error",
                    "evalue": "Msg 4104, Level 16, State 1, Line 3\r\nThe multi-part identifier \"cfdi.impuestos.emisor_rfc\" could not be bound.",
                    "ename": "",
                    "traceback": []
                },
                {
                    "output_type": "error",
                    "evalue": "Msg 4104, Level 16, State 1, Line 4\r\nThe multi-part identifier \"cfdi.impuestos.receptor_rfc\" could not be bound.",
                    "ename": "",
                    "traceback": []
                },
                {
                    "output_type": "error",
                    "evalue": "Msg 4104, Level 16, State 1, Line 5\r\nThe multi-part identifier \"cfdi.impuestos.totalimpuestostrasladados\" could not be bound.",
                    "ename": "",
                    "traceback": []
                },
                {
                    "output_type": "display_data",
                    "data": {
                        "text/html": "Total execution time: 00:00:00.112"
                    },
                    "metadata": {}
                }
            ],
            "execution_count": 41
        },
        {
            "cell_type": "code",
            "source": [
                "SELECT * FROM cfdi.receptor"
            ],
            "metadata": {
                "language": "sql",
                "azdata_cell_guid": "ce37dd91-3216-4764-a757-26d7c3e7f362"
            },
            "outputs": [
                {
                    "output_type": "display_data",
                    "data": {
                        "text/html": "(14 rows affected)"
                    },
                    "metadata": {}
                },
                {
                    "output_type": "display_data",
                    "data": {
                        "text/html": "Total execution time: 00:00:00.102"
                    },
                    "metadata": {}
                },
                {
                    "output_type": "execute_result",
                    "metadata": {},
                    "execution_count": 37,
                    "data": {
                        "application/vnd.dataresource+json": {
                            "schema": {
                                "fields": [
                                    {
                                        "name": "uuid"
                                    },
                                    {
                                        "name": "comprobante_tipo"
                                    },
                                    {
                                        "name": "emisor_rfc"
                                    },
                                    {
                                        "name": "receptor_rfc"
                                    },
                                    {
                                        "name": "file_name"
                                    },
                                    {
                                        "name": "file_path"
                                    },
                                    {
                                        "name": "row"
                                    },
                                    {
                                        "name": "antigüedad"
                                    },
                                    {
                                        "name": "banco"
                                    },
                                    {
                                        "name": "claveentfed"
                                    },
                                    {
                                        "name": "cuentabancaria"
                                    },
                                    {
                                        "name": "curp"
                                    },
                                    {
                                        "name": "departamento"
                                    },
                                    {
                                        "name": "fechainiciorellaboral"
                                    },
                                    {
                                        "name": "nombre"
                                    },
                                    {
                                        "name": "numempleado"
                                    },
                                    {
                                        "name": "numseguridadsocial"
                                    },
                                    {
                                        "name": "periodicidadpago"
                                    },
                                    {
                                        "name": "puesto"
                                    },
                                    {
                                        "name": "rfc"
                                    },
                                    {
                                        "name": "riesgopuesto"
                                    },
                                    {
                                        "name": "salariobasecotapor"
                                    },
                                    {
                                        "name": "salariodiariointegrado"
                                    },
                                    {
                                        "name": "sindicalizado"
                                    },
                                    {
                                        "name": "tipocontrato"
                                    },
                                    {
                                        "name": "tipojornada"
                                    },
                                    {
                                        "name": "tiporegimen"
                                    },
                                    {
                                        "name": "usocfdi"
                                    }
                                ]
                            },
                            "data": [
                                {
                                    "uuid": "01DAD1D3-CA8F-4F0D-8CA7-E0347D111EC4",
                                    "comprobante_tipo": "I",
                                    "emisor_rfc": "FIS780810KQ9",
                                    "receptor_rfc": "MES880922JQA",
                                    "file_name": "01DAD1D3-CA8F-4F0D-8CA7-E0347D111EC4.xml",
                                    "file_path": "C:\\Users\\Roberto\\OneDrive\\cargoIabono\\Proyectos y Desarrollos\\P001_V001_CFDI-Reader\\01_Inputs\\Facturas\\01DAD1D3-CA8F-4F0D-8CA7-E0347D111EC4.xml",
                                    "row": "1",
                                    "antigüedad": "NULL",
                                    "banco": "NULL",
                                    "claveentfed": "NULL",
                                    "cuentabancaria": "NULL",
                                    "curp": "NULL",
                                    "departamento": "NULL",
                                    "fechainiciorellaboral": "NULL",
                                    "nombre": "MANUFACTURAS ESTAMPADAS",
                                    "numempleado": "NULL",
                                    "numseguridadsocial": "NULL",
                                    "periodicidadpago": "NULL",
                                    "puesto": "NULL",
                                    "rfc": "MES880922JQA",
                                    "riesgopuesto": "NULL",
                                    "salariobasecotapor": "NULL",
                                    "salariodiariointegrado": "NULL",
                                    "sindicalizado": "NULL",
                                    "tipocontrato": "NULL",
                                    "tipojornada": "NULL",
                                    "tiporegimen": "NULL",
                                    "usocfdi": "G01"
                                },
                                {
                                    "uuid": "01DAD1D3-CA8F-4F0D-8CA7-E0347D111EC4",
                                    "comprobante_tipo": "I",
                                    "emisor_rfc": "FIS780810KQ9",
                                    "receptor_rfc": "MES880922JQA",
                                    "file_name": "01DAD1D3-CA8F-4F0D-8CA7-E0347D111EC4.xml",
                                    "file_path": "C:\\Users\\Roberto\\OneDrive\\cargoIabono\\Proyectos y Desarrollos\\P001_V001_CFDI-Reader\\01_Inputs\\Facturas\\01DAD1D3-CA8F-4F0D-8CA7-E0347D111EC4.xml",
                                    "row": "2",
                                    "antigüedad": "NULL",
                                    "banco": "NULL",
                                    "claveentfed": "NULL",
                                    "cuentabancaria": "NULL",
                                    "curp": "NULL",
                                    "departamento": "NULL",
                                    "fechainiciorellaboral": "NULL",
                                    "nombre": "MANUFACTURAS ESTAMPADAS",
                                    "numempleado": "NULL",
                                    "numseguridadsocial": "NULL",
                                    "periodicidadpago": "NULL",
                                    "puesto": "NULL",
                                    "rfc": "MES880922JQA",
                                    "riesgopuesto": "NULL",
                                    "salariobasecotapor": "NULL",
                                    "salariodiariointegrado": "NULL",
                                    "sindicalizado": "NULL",
                                    "tipocontrato": "NULL",
                                    "tipojornada": "NULL",
                                    "tiporegimen": "NULL",
                                    "usocfdi": "G01"
                                },
                                {
                                    "uuid": "0A8BEAE0-F410-4A97-8860-7F5EBADC0D60",
                                    "comprobante_tipo": "I",
                                    "emisor_rfc": "FIS780810KQ9",
                                    "receptor_rfc": "TCA640201ER3",
                                    "file_name": "0A8BEAE0-F410-4A97-8860-7F5EBADC0D60.xml",
                                    "file_path": "C:\\Users\\Roberto\\OneDrive\\cargoIabono\\Proyectos y Desarrollos\\P001_V001_CFDI-Reader\\01_Inputs\\Facturas\\0A8BEAE0-F410-4A97-8860-7F5EBADC0D60.xml",
                                    "row": "1",
                                    "antigüedad": "NULL",
                                    "banco": "NULL",
                                    "claveentfed": "NULL",
                                    "cuentabancaria": "NULL",
                                    "curp": "NULL",
                                    "departamento": "NULL",
                                    "fechainiciorellaboral": "NULL",
                                    "nombre": "TUERCAS Y CANDADOS, S.A. DE C.V.",
                                    "numempleado": "NULL",
                                    "numseguridadsocial": "NULL",
                                    "periodicidadpago": "NULL",
                                    "puesto": "NULL",
                                    "rfc": "TCA640201ER3",
                                    "riesgopuesto": "NULL",
                                    "salariobasecotapor": "NULL",
                                    "salariodiariointegrado": "NULL",
                                    "sindicalizado": "NULL",
                                    "tipocontrato": "NULL",
                                    "tipojornada": "NULL",
                                    "tiporegimen": "NULL",
                                    "usocfdi": "P01"
                                },
                                {
                                    "uuid": "0A8BEAE0-F410-4A97-8860-7F5EBADC0D60",
                                    "comprobante_tipo": "I",
                                    "emisor_rfc": "FIS780810KQ9",
                                    "receptor_rfc": "TCA640201ER3",
                                    "file_name": "0A8BEAE0-F410-4A97-8860-7F5EBADC0D60.xml",
                                    "file_path": "C:\\Users\\Roberto\\OneDrive\\cargoIabono\\Proyectos y Desarrollos\\P001_V001_CFDI-Reader\\01_Inputs\\Facturas\\0A8BEAE0-F410-4A97-8860-7F5EBADC0D60.xml",
                                    "row": "2",
                                    "antigüedad": "NULL",
                                    "banco": "NULL",
                                    "claveentfed": "NULL",
                                    "cuentabancaria": "NULL",
                                    "curp": "NULL",
                                    "departamento": "NULL",
                                    "fechainiciorellaboral": "NULL",
                                    "nombre": "TUERCAS Y CANDADOS, S.A. DE C.V.",
                                    "numempleado": "NULL",
                                    "numseguridadsocial": "NULL",
                                    "periodicidadpago": "NULL",
                                    "puesto": "NULL",
                                    "rfc": "TCA640201ER3",
                                    "riesgopuesto": "NULL",
                                    "salariobasecotapor": "NULL",
                                    "salariodiariointegrado": "NULL",
                                    "sindicalizado": "NULL",
                                    "tipocontrato": "NULL",
                                    "tipojornada": "NULL",
                                    "tiporegimen": "NULL",
                                    "usocfdi": "P01"
                                },
                                {
                                    "uuid": "0C58F816-7800-44E2-96FF-631A8E432C50",
                                    "comprobante_tipo": "I",
                                    "emisor_rfc": "FIS780810KQ9",
                                    "receptor_rfc": "KLM970416U59",
                                    "file_name": "0C58F816-7800-44E2-96FF-631A8E432C50.xml",
                                    "file_path": "C:\\Users\\Roberto\\OneDrive\\cargoIabono\\Proyectos y Desarrollos\\P001_V001_CFDI-Reader\\01_Inputs\\Facturas\\0C58F816-7800-44E2-96FF-631A8E432C50.xml",
                                    "row": "1",
                                    "antigüedad": "NULL",
                                    "banco": "NULL",
                                    "claveentfed": "NULL",
                                    "cuentabancaria": "NULL",
                                    "curp": "NULL",
                                    "departamento": "NULL",
                                    "fechainiciorellaboral": "NULL",
                                    "nombre": "KERN LIBERS MEXICO, S.A. DE C.V.",
                                    "numempleado": "NULL",
                                    "numseguridadsocial": "NULL",
                                    "periodicidadpago": "NULL",
                                    "puesto": "NULL",
                                    "rfc": "KLM970416U59",
                                    "riesgopuesto": "NULL",
                                    "salariobasecotapor": "NULL",
                                    "salariodiariointegrado": "NULL",
                                    "sindicalizado": "NULL",
                                    "tipocontrato": "NULL",
                                    "tipojornada": "NULL",
                                    "tiporegimen": "NULL",
                                    "usocfdi": "P01"
                                },
                                {
                                    "uuid": "0C58F816-7800-44E2-96FF-631A8E432C50",
                                    "comprobante_tipo": "I",
                                    "emisor_rfc": "FIS780810KQ9",
                                    "receptor_rfc": "KLM970416U59",
                                    "file_name": "0C58F816-7800-44E2-96FF-631A8E432C50.xml",
                                    "file_path": "C:\\Users\\Roberto\\OneDrive\\cargoIabono\\Proyectos y Desarrollos\\P001_V001_CFDI-Reader\\01_Inputs\\Facturas\\0C58F816-7800-44E2-96FF-631A8E432C50.xml",
                                    "row": "2",
                                    "antigüedad": "NULL",
                                    "banco": "NULL",
                                    "claveentfed": "NULL",
                                    "cuentabancaria": "NULL",
                                    "curp": "NULL",
                                    "departamento": "NULL",
                                    "fechainiciorellaboral": "NULL",
                                    "nombre": "KERN LIBERS MEXICO, S.A. DE C.V.",
                                    "numempleado": "NULL",
                                    "numseguridadsocial": "NULL",
                                    "periodicidadpago": "NULL",
                                    "puesto": "NULL",
                                    "rfc": "KLM970416U59",
                                    "riesgopuesto": "NULL",
                                    "salariobasecotapor": "NULL",
                                    "salariodiariointegrado": "NULL",
                                    "sindicalizado": "NULL",
                                    "tipocontrato": "NULL",
                                    "tipojornada": "NULL",
                                    "tiporegimen": "NULL",
                                    "usocfdi": "P01"
                                },
                                {
                                    "uuid": "0D0E1EBB-003E-4F17-B2BE-0A5442819D1C",
                                    "comprobante_tipo": "I",
                                    "emisor_rfc": "FIS780810KQ9",
                                    "receptor_rfc": "PSM101118J20",
                                    "file_name": "0D0E1EBB-003E-4F17-B2BE-0A5442819D1C.xml",
                                    "file_path": "C:\\Users\\Roberto\\OneDrive\\cargoIabono\\Proyectos y Desarrollos\\P001_V001_CFDI-Reader\\01_Inputs\\Facturas\\0D0E1EBB-003E-4F17-B2BE-0A5442819D1C.xml",
                                    "row": "1",
                                    "antigüedad": "NULL",
                                    "banco": "NULL",
                                    "claveentfed": "NULL",
                                    "cuentabancaria": "NULL",
                                    "curp": "NULL",
                                    "departamento": "NULL",
                                    "fechainiciorellaboral": "NULL",
                                    "nombre": "PROGRESSIVE STAMPING DE MEXICO",
                                    "numempleado": "NULL",
                                    "numseguridadsocial": "NULL",
                                    "periodicidadpago": "NULL",
                                    "puesto": "NULL",
                                    "rfc": "PSM101118J20",
                                    "riesgopuesto": "NULL",
                                    "salariobasecotapor": "NULL",
                                    "salariodiariointegrado": "NULL",
                                    "sindicalizado": "NULL",
                                    "tipocontrato": "NULL",
                                    "tipojornada": "NULL",
                                    "tiporegimen": "NULL",
                                    "usocfdi": "G01"
                                },
                                {
                                    "uuid": "0D0E1EBB-003E-4F17-B2BE-0A5442819D1C",
                                    "comprobante_tipo": "I",
                                    "emisor_rfc": "FIS780810KQ9",
                                    "receptor_rfc": "PSM101118J20",
                                    "file_name": "0D0E1EBB-003E-4F17-B2BE-0A5442819D1C.xml",
                                    "file_path": "C:\\Users\\Roberto\\OneDrive\\cargoIabono\\Proyectos y Desarrollos\\P001_V001_CFDI-Reader\\01_Inputs\\Facturas\\0D0E1EBB-003E-4F17-B2BE-0A5442819D1C.xml",
                                    "row": "2",
                                    "antigüedad": "NULL",
                                    "banco": "NULL",
                                    "claveentfed": "NULL",
                                    "cuentabancaria": "NULL",
                                    "curp": "NULL",
                                    "departamento": "NULL",
                                    "fechainiciorellaboral": "NULL",
                                    "nombre": "PROGRESSIVE STAMPING DE MEXICO",
                                    "numempleado": "NULL",
                                    "numseguridadsocial": "NULL",
                                    "periodicidadpago": "NULL",
                                    "puesto": "NULL",
                                    "rfc": "PSM101118J20",
                                    "riesgopuesto": "NULL",
                                    "salariobasecotapor": "NULL",
                                    "salariodiariointegrado": "NULL",
                                    "sindicalizado": "NULL",
                                    "tipocontrato": "NULL",
                                    "tipojornada": "NULL",
                                    "tiporegimen": "NULL",
                                    "usocfdi": "G01"
                                },
                                {
                                    "uuid": "0F23FE0D-8324-4BCE-AFAC-68CB67E89714",
                                    "comprobante_tipo": "P",
                                    "emisor_rfc": "FIS780810KQ9",
                                    "receptor_rfc": "FAN540305I15",
                                    "file_name": "0F23FE0D-8324-4BCE-AFAC-68CB67E89714.xml",
                                    "file_path": "C:\\Users\\Roberto\\OneDrive\\cargoIabono\\Proyectos y Desarrollos\\P001_V001_CFDI-Reader\\01_Inputs\\Facturas\\0F23FE0D-8324-4BCE-AFAC-68CB67E89714.xml",
                                    "row": "1",
                                    "antigüedad": "NULL",
                                    "banco": "NULL",
                                    "claveentfed": "NULL",
                                    "cuentabancaria": "NULL",
                                    "curp": "NULL",
                                    "departamento": "NULL",
                                    "fechainiciorellaboral": "NULL",
                                    "nombre": "GENVAMEX, S.A. DE C.V. AV. NOGALAR SUR No. 301",
                                    "numempleado": "NULL",
                                    "numseguridadsocial": "NULL",
                                    "periodicidadpago": "NULL",
                                    "puesto": "NULL",
                                    "rfc": "FAN540305I15",
                                    "riesgopuesto": "NULL",
                                    "salariobasecotapor": "NULL",
                                    "salariodiariointegrado": "NULL",
                                    "sindicalizado": "NULL",
                                    "tipocontrato": "NULL",
                                    "tipojornada": "NULL",
                                    "tiporegimen": "NULL",
                                    "usocfdi": "P01"
                                },
                                {
                                    "uuid": "0F23FE0D-8324-4BCE-AFAC-68CB67E89714",
                                    "comprobante_tipo": "P",
                                    "emisor_rfc": "FIS780810KQ9",
                                    "receptor_rfc": "FAN540305I15",
                                    "file_name": "0F23FE0D-8324-4BCE-AFAC-68CB67E89714.xml",
                                    "file_path": "C:\\Users\\Roberto\\OneDrive\\cargoIabono\\Proyectos y Desarrollos\\P001_V001_CFDI-Reader\\01_Inputs\\Facturas\\0F23FE0D-8324-4BCE-AFAC-68CB67E89714.xml",
                                    "row": "2",
                                    "antigüedad": "NULL",
                                    "banco": "NULL",
                                    "claveentfed": "NULL",
                                    "cuentabancaria": "NULL",
                                    "curp": "NULL",
                                    "departamento": "NULL",
                                    "fechainiciorellaboral": "NULL",
                                    "nombre": "GENVAMEX, S.A. DE C.V. AV. NOGALAR SUR No. 301",
                                    "numempleado": "NULL",
                                    "numseguridadsocial": "NULL",
                                    "periodicidadpago": "NULL",
                                    "puesto": "NULL",
                                    "rfc": "FAN540305I15",
                                    "riesgopuesto": "NULL",
                                    "salariobasecotapor": "NULL",
                                    "salariodiariointegrado": "NULL",
                                    "sindicalizado": "NULL",
                                    "tipocontrato": "NULL",
                                    "tipojornada": "NULL",
                                    "tiporegimen": "NULL",
                                    "usocfdi": "P01"
                                },
                                {
                                    "uuid": "1F8FA056-C516-4349-8E87-DC2EC8F831D5",
                                    "comprobante_tipo": "I",
                                    "emisor_rfc": "FIS780810KQ9",
                                    "receptor_rfc": "CAT051122H76",
                                    "file_name": "1F8FA056-C516-4349-8E87-DC2EC8F831D5.xml",
                                    "file_path": "C:\\Users\\Roberto\\OneDrive\\cargoIabono\\Proyectos y Desarrollos\\P001_V001_CFDI-Reader\\01_Inputs\\Facturas\\1F8FA056-C516-4349-8E87-DC2EC8F831D5.xml",
                                    "row": "1",
                                    "antigüedad": "NULL",
                                    "banco": "NULL",
                                    "claveentfed": "NULL",
                                    "cuentabancaria": "NULL",
                                    "curp": "NULL",
                                    "departamento": "NULL",
                                    "fechainiciorellaboral": "NULL",
                                    "nombre": "CATAFORESIS, S.A. DE C.V.",
                                    "numempleado": "NULL",
                                    "numseguridadsocial": "NULL",
                                    "periodicidadpago": "NULL",
                                    "puesto": "NULL",
                                    "rfc": "CAT051122H76",
                                    "riesgopuesto": "NULL",
                                    "salariobasecotapor": "NULL",
                                    "salariodiariointegrado": "NULL",
                                    "sindicalizado": "NULL",
                                    "tipocontrato": "NULL",
                                    "tipojornada": "NULL",
                                    "tiporegimen": "NULL",
                                    "usocfdi": "G01"
                                },
                                {
                                    "uuid": "1F8FA056-C516-4349-8E87-DC2EC8F831D5",
                                    "comprobante_tipo": "I",
                                    "emisor_rfc": "FIS780810KQ9",
                                    "receptor_rfc": "CAT051122H76",
                                    "file_name": "1F8FA056-C516-4349-8E87-DC2EC8F831D5.xml",
                                    "file_path": "C:\\Users\\Roberto\\OneDrive\\cargoIabono\\Proyectos y Desarrollos\\P001_V001_CFDI-Reader\\01_Inputs\\Facturas\\1F8FA056-C516-4349-8E87-DC2EC8F831D5.xml",
                                    "row": "2",
                                    "antigüedad": "NULL",
                                    "banco": "NULL",
                                    "claveentfed": "NULL",
                                    "cuentabancaria": "NULL",
                                    "curp": "NULL",
                                    "departamento": "NULL",
                                    "fechainiciorellaboral": "NULL",
                                    "nombre": "CATAFORESIS, S.A. DE C.V.",
                                    "numempleado": "NULL",
                                    "numseguridadsocial": "NULL",
                                    "periodicidadpago": "NULL",
                                    "puesto": "NULL",
                                    "rfc": "CAT051122H76",
                                    "riesgopuesto": "NULL",
                                    "salariobasecotapor": "NULL",
                                    "salariodiariointegrado": "NULL",
                                    "sindicalizado": "NULL",
                                    "tipocontrato": "NULL",
                                    "tipojornada": "NULL",
                                    "tiporegimen": "NULL",
                                    "usocfdi": "G01"
                                },
                                {
                                    "uuid": "B7D29180-3BB4-904C-9DC5-8730016AA924",
                                    "comprobante_tipo": "N",
                                    "emisor_rfc": "EMS2103108P3",
                                    "receptor_rfc": "AOAR951019842",
                                    "file_name": "EMS2103108P3_Pago de nómina_20220815_N_AOAR951019842.xml",
                                    "file_path": "C:\\Users\\Roberto\\OneDrive\\cargoIabono\\Proyectos y Desarrollos\\P001_V001_CFDI-Reader\\01_Inputs\\Nomina\\EMS2103108P3_Pago de nómina_20220815_N_AOAR951019842.xml",
                                    "row": "1",
                                    "antigüedad": "P28W",
                                    "banco": "021",
                                    "claveentfed": "NLE",
                                    "cuentabancaria": "6544880714",
                                    "curp": "AOAR951019HNLLLB06",
                                    "departamento": "Finanzas",
                                    "fechainiciorellaboral": "2022-02-01",
                                    "nombre": "Roberto Carlos Alonso Alvarez",
                                    "numempleado": "20035",
                                    "numseguridadsocial": "43129510616",
                                    "periodicidadpago": "04",
                                    "puesto": "Senior FP&A",
                                    "rfc": "AOAR951019842",
                                    "riesgopuesto": "1",
                                    "salariobasecotapor": "2405.50",
                                    "salariodiariointegrado": "3159.17",
                                    "sindicalizado": "No",
                                    "tipocontrato": "01",
                                    "tipojornada": "01",
                                    "tiporegimen": "02",
                                    "usocfdi": "P01"
                                },
                                {
                                    "uuid": "B7D29180-3BB4-904C-9DC5-8730016AA924",
                                    "comprobante_tipo": "N",
                                    "emisor_rfc": "EMS2103108P3",
                                    "receptor_rfc": "AOAR951019842",
                                    "file_name": "EMS2103108P3_Pago de nómina_20220815_N_AOAR951019842.xml",
                                    "file_path": "C:\\Users\\Roberto\\OneDrive\\cargoIabono\\Proyectos y Desarrollos\\P001_V001_CFDI-Reader\\01_Inputs\\Nomina\\EMS2103108P3_Pago de nómina_20220815_N_AOAR951019842.xml",
                                    "row": "2",
                                    "antigüedad": "P28W",
                                    "banco": "021",
                                    "claveentfed": "NLE",
                                    "cuentabancaria": "6544880714",
                                    "curp": "AOAR951019HNLLLB06",
                                    "departamento": "Finanzas",
                                    "fechainiciorellaboral": "2022-02-01",
                                    "nombre": "Roberto Carlos Alonso Alvarez",
                                    "numempleado": "20035",
                                    "numseguridadsocial": "43129510616",
                                    "periodicidadpago": "04",
                                    "puesto": "Senior FP&A",
                                    "rfc": "AOAR951019842",
                                    "riesgopuesto": "1",
                                    "salariobasecotapor": "2405.50",
                                    "salariodiariointegrado": "3159.17",
                                    "sindicalizado": "No",
                                    "tipocontrato": "01",
                                    "tipojornada": "01",
                                    "tiporegimen": "02",
                                    "usocfdi": "P01"
                                }
                            ]
                        },
                        "text/html": [
                            "<table>",
                            "<tr><th>uuid</th><th>comprobante_tipo</th><th>emisor_rfc</th><th>receptor_rfc</th><th>file_name</th><th>file_path</th><th>row</th><th>antigüedad</th><th>banco</th><th>claveentfed</th><th>cuentabancaria</th><th>curp</th><th>departamento</th><th>fechainiciorellaboral</th><th>nombre</th><th>numempleado</th><th>numseguridadsocial</th><th>periodicidadpago</th><th>puesto</th><th>rfc</th><th>riesgopuesto</th><th>salariobasecotapor</th><th>salariodiariointegrado</th><th>sindicalizado</th><th>tipocontrato</th><th>tipojornada</th><th>tiporegimen</th><th>usocfdi</th></tr>",
                            "<tr><td>01DAD1D3-CA8F-4F0D-8CA7-E0347D111EC4</td><td>I</td><td>FIS780810KQ9</td><td>MES880922JQA</td><td>01DAD1D3-CA8F-4F0D-8CA7-E0347D111EC4.xml</td><td>C:\\Users\\Roberto\\OneDrive\\cargoIabono\\Proyectos y Desarrollos\\P001_V001_CFDI-Reader\\01_Inputs\\Facturas\\01DAD1D3-CA8F-4F0D-8CA7-E0347D111EC4.xml</td><td>1</td><td>NULL</td><td>NULL</td><td>NULL</td><td>NULL</td><td>NULL</td><td>NULL</td><td>NULL</td><td>MANUFACTURAS ESTAMPADAS</td><td>NULL</td><td>NULL</td><td>NULL</td><td>NULL</td><td>MES880922JQA</td><td>NULL</td><td>NULL</td><td>NULL</td><td>NULL</td><td>NULL</td><td>NULL</td><td>NULL</td><td>G01</td></tr>",
                            "<tr><td>01DAD1D3-CA8F-4F0D-8CA7-E0347D111EC4</td><td>I</td><td>FIS780810KQ9</td><td>MES880922JQA</td><td>01DAD1D3-CA8F-4F0D-8CA7-E0347D111EC4.xml</td><td>C:\\Users\\Roberto\\OneDrive\\cargoIabono\\Proyectos y Desarrollos\\P001_V001_CFDI-Reader\\01_Inputs\\Facturas\\01DAD1D3-CA8F-4F0D-8CA7-E0347D111EC4.xml</td><td>2</td><td>NULL</td><td>NULL</td><td>NULL</td><td>NULL</td><td>NULL</td><td>NULL</td><td>NULL</td><td>MANUFACTURAS ESTAMPADAS</td><td>NULL</td><td>NULL</td><td>NULL</td><td>NULL</td><td>MES880922JQA</td><td>NULL</td><td>NULL</td><td>NULL</td><td>NULL</td><td>NULL</td><td>NULL</td><td>NULL</td><td>G01</td></tr>",
                            "<tr><td>0A8BEAE0-F410-4A97-8860-7F5EBADC0D60</td><td>I</td><td>FIS780810KQ9</td><td>TCA640201ER3</td><td>0A8BEAE0-F410-4A97-8860-7F5EBADC0D60.xml</td><td>C:\\Users\\Roberto\\OneDrive\\cargoIabono\\Proyectos y Desarrollos\\P001_V001_CFDI-Reader\\01_Inputs\\Facturas\\0A8BEAE0-F410-4A97-8860-7F5EBADC0D60.xml</td><td>1</td><td>NULL</td><td>NULL</td><td>NULL</td><td>NULL</td><td>NULL</td><td>NULL</td><td>NULL</td><td>TUERCAS Y CANDADOS, S.A. DE C.V.</td><td>NULL</td><td>NULL</td><td>NULL</td><td>NULL</td><td>TCA640201ER3</td><td>NULL</td><td>NULL</td><td>NULL</td><td>NULL</td><td>NULL</td><td>NULL</td><td>NULL</td><td>P01</td></tr>",
                            "<tr><td>0A8BEAE0-F410-4A97-8860-7F5EBADC0D60</td><td>I</td><td>FIS780810KQ9</td><td>TCA640201ER3</td><td>0A8BEAE0-F410-4A97-8860-7F5EBADC0D60.xml</td><td>C:\\Users\\Roberto\\OneDrive\\cargoIabono\\Proyectos y Desarrollos\\P001_V001_CFDI-Reader\\01_Inputs\\Facturas\\0A8BEAE0-F410-4A97-8860-7F5EBADC0D60.xml</td><td>2</td><td>NULL</td><td>NULL</td><td>NULL</td><td>NULL</td><td>NULL</td><td>NULL</td><td>NULL</td><td>TUERCAS Y CANDADOS, S.A. DE C.V.</td><td>NULL</td><td>NULL</td><td>NULL</td><td>NULL</td><td>TCA640201ER3</td><td>NULL</td><td>NULL</td><td>NULL</td><td>NULL</td><td>NULL</td><td>NULL</td><td>NULL</td><td>P01</td></tr>",
                            "<tr><td>0C58F816-7800-44E2-96FF-631A8E432C50</td><td>I</td><td>FIS780810KQ9</td><td>KLM970416U59</td><td>0C58F816-7800-44E2-96FF-631A8E432C50.xml</td><td>C:\\Users\\Roberto\\OneDrive\\cargoIabono\\Proyectos y Desarrollos\\P001_V001_CFDI-Reader\\01_Inputs\\Facturas\\0C58F816-7800-44E2-96FF-631A8E432C50.xml</td><td>1</td><td>NULL</td><td>NULL</td><td>NULL</td><td>NULL</td><td>NULL</td><td>NULL</td><td>NULL</td><td>KERN LIBERS MEXICO, S.A. DE C.V.</td><td>NULL</td><td>NULL</td><td>NULL</td><td>NULL</td><td>KLM970416U59</td><td>NULL</td><td>NULL</td><td>NULL</td><td>NULL</td><td>NULL</td><td>NULL</td><td>NULL</td><td>P01</td></tr>",
                            "<tr><td>0C58F816-7800-44E2-96FF-631A8E432C50</td><td>I</td><td>FIS780810KQ9</td><td>KLM970416U59</td><td>0C58F816-7800-44E2-96FF-631A8E432C50.xml</td><td>C:\\Users\\Roberto\\OneDrive\\cargoIabono\\Proyectos y Desarrollos\\P001_V001_CFDI-Reader\\01_Inputs\\Facturas\\0C58F816-7800-44E2-96FF-631A8E432C50.xml</td><td>2</td><td>NULL</td><td>NULL</td><td>NULL</td><td>NULL</td><td>NULL</td><td>NULL</td><td>NULL</td><td>KERN LIBERS MEXICO, S.A. DE C.V.</td><td>NULL</td><td>NULL</td><td>NULL</td><td>NULL</td><td>KLM970416U59</td><td>NULL</td><td>NULL</td><td>NULL</td><td>NULL</td><td>NULL</td><td>NULL</td><td>NULL</td><td>P01</td></tr>",
                            "<tr><td>0D0E1EBB-003E-4F17-B2BE-0A5442819D1C</td><td>I</td><td>FIS780810KQ9</td><td>PSM101118J20</td><td>0D0E1EBB-003E-4F17-B2BE-0A5442819D1C.xml</td><td>C:\\Users\\Roberto\\OneDrive\\cargoIabono\\Proyectos y Desarrollos\\P001_V001_CFDI-Reader\\01_Inputs\\Facturas\\0D0E1EBB-003E-4F17-B2BE-0A5442819D1C.xml</td><td>1</td><td>NULL</td><td>NULL</td><td>NULL</td><td>NULL</td><td>NULL</td><td>NULL</td><td>NULL</td><td>PROGRESSIVE STAMPING DE MEXICO</td><td>NULL</td><td>NULL</td><td>NULL</td><td>NULL</td><td>PSM101118J20</td><td>NULL</td><td>NULL</td><td>NULL</td><td>NULL</td><td>NULL</td><td>NULL</td><td>NULL</td><td>G01</td></tr>",
                            "<tr><td>0D0E1EBB-003E-4F17-B2BE-0A5442819D1C</td><td>I</td><td>FIS780810KQ9</td><td>PSM101118J20</td><td>0D0E1EBB-003E-4F17-B2BE-0A5442819D1C.xml</td><td>C:\\Users\\Roberto\\OneDrive\\cargoIabono\\Proyectos y Desarrollos\\P001_V001_CFDI-Reader\\01_Inputs\\Facturas\\0D0E1EBB-003E-4F17-B2BE-0A5442819D1C.xml</td><td>2</td><td>NULL</td><td>NULL</td><td>NULL</td><td>NULL</td><td>NULL</td><td>NULL</td><td>NULL</td><td>PROGRESSIVE STAMPING DE MEXICO</td><td>NULL</td><td>NULL</td><td>NULL</td><td>NULL</td><td>PSM101118J20</td><td>NULL</td><td>NULL</td><td>NULL</td><td>NULL</td><td>NULL</td><td>NULL</td><td>NULL</td><td>G01</td></tr>",
                            "<tr><td>0F23FE0D-8324-4BCE-AFAC-68CB67E89714</td><td>P</td><td>FIS780810KQ9</td><td>FAN540305I15</td><td>0F23FE0D-8324-4BCE-AFAC-68CB67E89714.xml</td><td>C:\\Users\\Roberto\\OneDrive\\cargoIabono\\Proyectos y Desarrollos\\P001_V001_CFDI-Reader\\01_Inputs\\Facturas\\0F23FE0D-8324-4BCE-AFAC-68CB67E89714.xml</td><td>1</td><td>NULL</td><td>NULL</td><td>NULL</td><td>NULL</td><td>NULL</td><td>NULL</td><td>NULL</td><td>GENVAMEX, S.A. DE C.V. AV. NOGALAR SUR No. 301</td><td>NULL</td><td>NULL</td><td>NULL</td><td>NULL</td><td>FAN540305I15</td><td>NULL</td><td>NULL</td><td>NULL</td><td>NULL</td><td>NULL</td><td>NULL</td><td>NULL</td><td>P01</td></tr>",
                            "<tr><td>0F23FE0D-8324-4BCE-AFAC-68CB67E89714</td><td>P</td><td>FIS780810KQ9</td><td>FAN540305I15</td><td>0F23FE0D-8324-4BCE-AFAC-68CB67E89714.xml</td><td>C:\\Users\\Roberto\\OneDrive\\cargoIabono\\Proyectos y Desarrollos\\P001_V001_CFDI-Reader\\01_Inputs\\Facturas\\0F23FE0D-8324-4BCE-AFAC-68CB67E89714.xml</td><td>2</td><td>NULL</td><td>NULL</td><td>NULL</td><td>NULL</td><td>NULL</td><td>NULL</td><td>NULL</td><td>GENVAMEX, S.A. DE C.V. AV. NOGALAR SUR No. 301</td><td>NULL</td><td>NULL</td><td>NULL</td><td>NULL</td><td>FAN540305I15</td><td>NULL</td><td>NULL</td><td>NULL</td><td>NULL</td><td>NULL</td><td>NULL</td><td>NULL</td><td>P01</td></tr>",
                            "<tr><td>1F8FA056-C516-4349-8E87-DC2EC8F831D5</td><td>I</td><td>FIS780810KQ9</td><td>CAT051122H76</td><td>1F8FA056-C516-4349-8E87-DC2EC8F831D5.xml</td><td>C:\\Users\\Roberto\\OneDrive\\cargoIabono\\Proyectos y Desarrollos\\P001_V001_CFDI-Reader\\01_Inputs\\Facturas\\1F8FA056-C516-4349-8E87-DC2EC8F831D5.xml</td><td>1</td><td>NULL</td><td>NULL</td><td>NULL</td><td>NULL</td><td>NULL</td><td>NULL</td><td>NULL</td><td>CATAFORESIS, S.A. DE C.V.</td><td>NULL</td><td>NULL</td><td>NULL</td><td>NULL</td><td>CAT051122H76</td><td>NULL</td><td>NULL</td><td>NULL</td><td>NULL</td><td>NULL</td><td>NULL</td><td>NULL</td><td>G01</td></tr>",
                            "<tr><td>1F8FA056-C516-4349-8E87-DC2EC8F831D5</td><td>I</td><td>FIS780810KQ9</td><td>CAT051122H76</td><td>1F8FA056-C516-4349-8E87-DC2EC8F831D5.xml</td><td>C:\\Users\\Roberto\\OneDrive\\cargoIabono\\Proyectos y Desarrollos\\P001_V001_CFDI-Reader\\01_Inputs\\Facturas\\1F8FA056-C516-4349-8E87-DC2EC8F831D5.xml</td><td>2</td><td>NULL</td><td>NULL</td><td>NULL</td><td>NULL</td><td>NULL</td><td>NULL</td><td>NULL</td><td>CATAFORESIS, S.A. DE C.V.</td><td>NULL</td><td>NULL</td><td>NULL</td><td>NULL</td><td>CAT051122H76</td><td>NULL</td><td>NULL</td><td>NULL</td><td>NULL</td><td>NULL</td><td>NULL</td><td>NULL</td><td>G01</td></tr>",
                            "<tr><td>B7D29180-3BB4-904C-9DC5-8730016AA924</td><td>N</td><td>EMS2103108P3</td><td>AOAR951019842</td><td>EMS2103108P3_Pago de nómina_20220815_N_AOAR951019842.xml</td><td>C:\\Users\\Roberto\\OneDrive\\cargoIabono\\Proyectos y Desarrollos\\P001_V001_CFDI-Reader\\01_Inputs\\Nomina\\EMS2103108P3_Pago de nómina_20220815_N_AOAR951019842.xml</td><td>1</td><td>P28W</td><td>021</td><td>NLE</td><td>6544880714</td><td>AOAR951019HNLLLB06</td><td>Finanzas</td><td>2022-02-01</td><td>Roberto Carlos Alonso Alvarez</td><td>20035</td><td>43129510616</td><td>04</td><td>Senior FP&amp;A</td><td>AOAR951019842</td><td>1</td><td>2405.50</td><td>3159.17</td><td>No</td><td>01</td><td>01</td><td>02</td><td>P01</td></tr>",
                            "<tr><td>B7D29180-3BB4-904C-9DC5-8730016AA924</td><td>N</td><td>EMS2103108P3</td><td>AOAR951019842</td><td>EMS2103108P3_Pago de nómina_20220815_N_AOAR951019842.xml</td><td>C:\\Users\\Roberto\\OneDrive\\cargoIabono\\Proyectos y Desarrollos\\P001_V001_CFDI-Reader\\01_Inputs\\Nomina\\EMS2103108P3_Pago de nómina_20220815_N_AOAR951019842.xml</td><td>2</td><td>P28W</td><td>021</td><td>NLE</td><td>6544880714</td><td>AOAR951019HNLLLB06</td><td>Finanzas</td><td>2022-02-01</td><td>Roberto Carlos Alonso Alvarez</td><td>20035</td><td>43129510616</td><td>04</td><td>Senior FP&amp;A</td><td>AOAR951019842</td><td>1</td><td>2405.50</td><td>3159.17</td><td>No</td><td>01</td><td>01</td><td>02</td><td>P01</td></tr>",
                            "</table>"
                        ]
                    }
                }
            ],
            "execution_count": 37
        },
        {
            "cell_type": "code",
            "source": [
                "SELECT  cfdi.comprobante.uuid,\n",
                "        cfdi.comprobante.comprobante_tipo,\n",
                "        cfdi.comprobante.emisor_rfc,\n",
                "        cfdi.comprobante.receptor_rfc,\n",
                "        cfdi.comprobante.\n",
                "FROM cfdi.comprobante\n",
                "WHERE cfdi.comprobante.uuid = '01DAD1D3-CA8F-4F0D-8CA7-E0347D111EC4'"
            ],
            "metadata": {
                "azdata_cell_guid": "6ebd49ec-5493-4e89-ad6b-e4c4fb19379e",
                "language": "sql"
            },
            "outputs": [],
            "execution_count": null
        }
    ]
}