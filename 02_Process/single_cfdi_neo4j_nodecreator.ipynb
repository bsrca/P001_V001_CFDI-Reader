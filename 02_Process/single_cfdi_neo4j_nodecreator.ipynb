{
 "cells": [
  {
   "cell_type": "code",
   "execution_count": 1,
   "metadata": {},
   "outputs": [],
   "source": [
    "#Libraries for neo4j\n",
    "from py2neo import Graph, Node, Relationship\n",
    "\n",
    "#Libraries for xml\n",
    "import xml.etree.ElementTree as ET\n",
    "import pandas as pd\n",
    "import re"
   ]
  },
  {
   "cell_type": "code",
   "execution_count": 2,
   "metadata": {},
   "outputs": [],
   "source": [
    "#function to get all the child elements of a given xml element\n",
    "\n",
    "def get_child_elements(xml_root):\n",
    "    # Create a list to store all child elements\n",
    "    elements = []\n",
    "    #append xml root to elements list\n",
    "    #elements.append(xml_root)\n",
    "    # Get all child elements of a given xml element\n",
    "    for child in xml_root:\n",
    "        elements.append(child)\n",
    "        elements.extend(get_child_elements(child))\n",
    "    return elements"
   ]
  },
  {
   "cell_type": "code",
   "execution_count": 3,
   "metadata": {},
   "outputs": [],
   "source": [
    "# Set up the Neo4j driver\n",
    "uri = \"neo4j+s://2c9df469.databases.neo4j.io\"\n",
    "user = \"neo4j\"\n",
    "password = \"qcykrYY8F9afv2Nz1kOKpK8Q0dSNAfL3RJBY1ejvIGY\"\n",
    "\n",
    "# Set up the Neo4j driver\n",
    "graph = Graph(uri, auth=(user, password))"
   ]
  },
  {
   "cell_type": "code",
   "execution_count": 4,
   "metadata": {},
   "outputs": [],
   "source": [
    "# Define file to read\n",
    "#xml_file_path = r\"C:\\Users\\Roberto\\OneDrive\\cargoIabono\\Proyectos y Desarrollos\\P001_V001_CFDI-Reader\\01_Inputs\\Nomina\\EMS2103108P3_Pago de nómina_20220815_N_AOAR951019842.xml\"\n",
    "xml_file_path = r\"C:\\Users\\Roberto\\OneDrive\\cargoIabono\\Proyectos y Desarrollos\\P001_V001_CFDI-Reader\\01_Inputs\\Facturas\\0F23FE0D-8324-4BCE-AFAC-68CB67E89714.xml\"\n",
    "xml_tree = ET.parse(xml_file_path)\n",
    "xml_root = xml_tree.getroot()"
   ]
  },
  {
   "cell_type": "code",
   "execution_count": 5,
   "metadata": {},
   "outputs": [
    {
     "name": "stdout",
     "output_type": "stream",
     "text": [
      "{http://www.sat.gob.mx/cfd/3}Emisor {'Rfc': 'FIS780810KQ9', 'Nombre': 'FISACERO, S.A.P.I. DE C.V.', 'RegimenFiscal': '601'}\n",
      "{http://www.sat.gob.mx/cfd/3}Receptor {'Rfc': 'FAN540305I15', 'Nombre': 'GENVAMEX, S.A. DE C.V. AV. NOGALAR SUR No. 301', 'UsoCFDI': 'P01'}\n",
      "{http://www.sat.gob.mx/cfd/3}Conceptos {}\n",
      "{http://www.sat.gob.mx/cfd/3}Concepto {'ClaveProdServ': '84111506', 'Cantidad': '1', 'ClaveUnidad': 'ACT', 'Descripcion': 'Pago', 'ValorUnitario': '0', 'Importe': '0'}\n",
      "{http://www.sat.gob.mx/cfd/3}Complemento {}\n",
      "{http://www.sat.gob.mx/Pagos}Pagos {'Version': '1.0'}\n",
      "{http://www.sat.gob.mx/Pagos}Pago {'FechaPago': '2020-07-02T12:00:00', 'FormaDePagoP': '03', 'MonedaP': 'USD', 'TipoCambioP': '23.089300', 'Monto': '21355.97', 'NumOperacion': 'AUT. 70761686', 'CtaOrdenante': '058580012472100218', 'CtaBeneficiario': '112962000030952390'}\n",
      "{http://www.sat.gob.mx/Pagos}DoctoRelacionado {'IdDocumento': '9FBCCDBB-2B12-4D3D-B872-D01048B95B61', 'Serie': 'IA', 'Folio': '000000481', 'MonedaDR': 'USD', 'MetodoDePagoDR': 'PPD', 'NumParcialidad': '1', 'ImpSaldoAnt': '1017.02', 'ImpPagado': '1017.02', 'ImpSaldoInsoluto': '0.00'}\n",
      "{http://www.sat.gob.mx/Pagos}DoctoRelacionado {'IdDocumento': 'D8CD5D20-6BC0-41A5-913D-AF93F2C173A4', 'Serie': 'IA', 'Folio': '000000483', 'MonedaDR': 'USD', 'MetodoDePagoDR': 'PPD', 'NumParcialidad': '1', 'ImpSaldoAnt': '8244.28', 'ImpPagado': '8244.28', 'ImpSaldoInsoluto': '0.00'}\n",
      "{http://www.sat.gob.mx/Pagos}DoctoRelacionado {'IdDocumento': 'F37A03D5-58C1-4819-BF52-88C1E7056C1E', 'Serie': 'IA', 'Folio': '000000431', 'MonedaDR': 'USD', 'MetodoDePagoDR': 'PPD', 'NumParcialidad': '1', 'ImpSaldoAnt': '12094.67', 'ImpPagado': '12094.67', 'ImpSaldoInsoluto': '0.00'}\n",
      "{http://www.sat.gob.mx/TimbreFiscalDigital}TimbreFiscalDigital {'{http://www.w3.org/2001/XMLSchema-instance}schemaLocation': 'http://www.sat.gob.mx/TimbreFiscalDigital http://www.sat.gob.mx/sitio_internet/cfd/TimbreFiscalDigital/TimbreFiscalDigitalv11.xsd', 'Version': '1.1', 'UUID': '0F23FE0D-8324-4BCE-AFAC-68CB67E89714', 'FechaTimbrado': '2020-08-06T10:00:54', 'RfcProvCertif': 'ASE0209252Q1', 'SelloCFD': 'KYzHfFCfdi3rSOpAISJPq3K3OVj5QfmL2FVAAW/mU0+vgVext/LkwTXirfefSEeob+eC2O9ODS1/bs7DK0BwEJYRYULBH1ENTlGq19feq+Rv3N5nYDOV7hvQZ+K/jbRg1X4ms87TdUKP8r+dzCzHHWXUIDDl32NqkrG1r897ZVe2n3qjNowP3lnJa2U6kXMQHUcCubxCZR46J8eMW+uWOd6PnjxLpqQfv/0cpCSRmThEN/kIdKG6cIxsH0ZppQSTc9QU61xFRdz7nAp/vpjqBhIJHOZZjLO0U4y8SSRAmABFSMNnWdON44itg9XXwIcvedtVfzrV2uBC4nNAEsRC3w==', 'NoCertificadoSAT': '00001000000404481161', 'SelloSAT': 'UWWsOgtHZHB/UO0pEvSx4sVgpFrEe3ZyWCd5r199j46otdGR9Yn+1wZ2taXRv0hdD2184RRfOlxtOocjZM/njjKnF4wcJhJZcXw0I0QHYjA2E+nExYRNNCc+CYiR+buXnMQq8NrYuZETzdKP/g6xadWJ6/oxCNHJTLKEoNbM+6Qj+O8cC4NjikabC22nV7W/ivDAgf3obmEmF8D48+PwLDlpQxkKEpTNBnueIfW36FNVKhJyu8dMr3hL9nLCpHLIR/uNr4Xy1TFXO1F/ohjpQQva9P4f+Of1cvWjdmDf2fijMGPNIbdF9zbDmYvVM+mMSWGwqAPvk/CwMgug+Kd0uQ=='}\n",
      "{http://www.sat.gob.mx/cfd/3}Comprobante {'{http://www.w3.org/2001/XMLSchema-instance}schemaLocation': 'http://www.sat.gob.mx/cfd/3 http://www.sat.gob.mx/sitio_internet/cfd/3/cfdv33.xsd http://www.sat.gob.mx/Pagos http://www.sat.gob.mx/sitio_internet/cfd/Pagos/Pagos10.xsd', 'Version': '3.3', 'Serie': 'CPIA', 'Folio': '146', 'Fecha': '2020-08-06T10:00:40', 'Sello': 'KYzHfFCfdi3rSOpAISJPq3K3OVj5QfmL2FVAAW/mU0+vgVext/LkwTXirfefSEeob+eC2O9ODS1/bs7DK0BwEJYRYULBH1ENTlGq19feq+Rv3N5nYDOV7hvQZ+K/jbRg1X4ms87TdUKP8r+dzCzHHWXUIDDl32NqkrG1r897ZVe2n3qjNowP3lnJa2U6kXMQHUcCubxCZR46J8eMW+uWOd6PnjxLpqQfv/0cpCSRmThEN/kIdKG6cIxsH0ZppQSTc9QU61xFRdz7nAp/vpjqBhIJHOZZjLO0U4y8SSRAmABFSMNnWdON44itg9XXwIcvedtVfzrV2uBC4nNAEsRC3w==', 'NoCertificado': '00001000000405222177', 'Certificado': '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', 'SubTotal': '0', 'Moneda': 'XXX', 'Total': '0', 'TipoDeComprobante': 'P', 'LugarExpedicion': '65550'}\n"
     ]
    }
   ],
   "source": [
    "#Read XML Child elements\n",
    "elements = get_child_elements(xml_root)\n",
    "\n",
    "#add xml root to read it with their child elements\n",
    "elements.append(xml_root)\n",
    "\n",
    "#print child elements\n",
    "for element in elements:\n",
    "    print(element.tag, element.attrib)"
   ]
  },
  {
   "cell_type": "code",
   "execution_count": 6,
   "metadata": {},
   "outputs": [
    {
     "name": "stdout",
     "output_type": "stream",
     "text": [
      "Emisor {'Rfc': 'FIS780810KQ9', 'Nombre': 'FISACERO, S.A.P.I. DE C.V.', 'RegimenFiscal': '601'}\n",
      "Receptor {'Rfc': 'FAN540305I15', 'Nombre': 'GENVAMEX, S.A. DE C.V. AV. NOGALAR SUR No. 301', 'UsoCFDI': 'P01'}\n",
      "Concepto {'ClaveProdServ': '84111506', 'Cantidad': '1', 'ClaveUnidad': 'ACT', 'Descripcion': 'Pago', 'ValorUnitario': '0', 'Importe': '0'}\n",
      "Pagos {'Version': '1.0'}\n",
      "Pago {'FechaPago': '2020-07-02T12:00:00', 'FormaDePagoP': '03', 'MonedaP': 'USD', 'TipoCambioP': '23.089300', 'Monto': '21355.97', 'NumOperacion': 'AUT. 70761686', 'CtaOrdenante': '058580012472100218', 'CtaBeneficiario': '112962000030952390'}\n",
      "DoctoRelacionado {'IdDocumento': '9FBCCDBB-2B12-4D3D-B872-D01048B95B61', 'Serie': 'IA', 'Folio': '000000481', 'MonedaDR': 'USD', 'MetodoDePagoDR': 'PPD', 'NumParcialidad': '1', 'ImpSaldoAnt': '1017.02', 'ImpPagado': '1017.02', 'ImpSaldoInsoluto': '0.00'}\n",
      "DoctoRelacionado {'IdDocumento': 'D8CD5D20-6BC0-41A5-913D-AF93F2C173A4', 'Serie': 'IA', 'Folio': '000000483', 'MonedaDR': 'USD', 'MetodoDePagoDR': 'PPD', 'NumParcialidad': '1', 'ImpSaldoAnt': '8244.28', 'ImpPagado': '8244.28', 'ImpSaldoInsoluto': '0.00'}\n",
      "DoctoRelacionado {'IdDocumento': 'F37A03D5-58C1-4819-BF52-88C1E7056C1E', 'Serie': 'IA', 'Folio': '000000431', 'MonedaDR': 'USD', 'MetodoDePagoDR': 'PPD', 'NumParcialidad': '1', 'ImpSaldoAnt': '12094.67', 'ImpPagado': '12094.67', 'ImpSaldoInsoluto': '0.00'}\n",
      "TimbreFiscalDigital {'{http://www.w3.org/2001/XMLSchema-instance}schemaLocation': 'http://www.sat.gob.mx/TimbreFiscalDigital http://www.sat.gob.mx/sitio_internet/cfd/TimbreFiscalDigital/TimbreFiscalDigitalv11.xsd', 'Version': '1.1', 'UUID': '0F23FE0D-8324-4BCE-AFAC-68CB67E89714', 'FechaTimbrado': '2020-08-06T10:00:54', 'RfcProvCertif': 'ASE0209252Q1', 'SelloCFD': 'KYzHfFCfdi3rSOpAISJPq3K3OVj5QfmL2FVAAW/mU0+vgVext/LkwTXirfefSEeob+eC2O9ODS1/bs7DK0BwEJYRYULBH1ENTlGq19feq+Rv3N5nYDOV7hvQZ+K/jbRg1X4ms87TdUKP8r+dzCzHHWXUIDDl32NqkrG1r897ZVe2n3qjNowP3lnJa2U6kXMQHUcCubxCZR46J8eMW+uWOd6PnjxLpqQfv/0cpCSRmThEN/kIdKG6cIxsH0ZppQSTc9QU61xFRdz7nAp/vpjqBhIJHOZZjLO0U4y8SSRAmABFSMNnWdON44itg9XXwIcvedtVfzrV2uBC4nNAEsRC3w==', 'NoCertificadoSAT': '00001000000404481161', 'SelloSAT': 'UWWsOgtHZHB/UO0pEvSx4sVgpFrEe3ZyWCd5r199j46otdGR9Yn+1wZ2taXRv0hdD2184RRfOlxtOocjZM/njjKnF4wcJhJZcXw0I0QHYjA2E+nExYRNNCc+CYiR+buXnMQq8NrYuZETzdKP/g6xadWJ6/oxCNHJTLKEoNbM+6Qj+O8cC4NjikabC22nV7W/ivDAgf3obmEmF8D48+PwLDlpQxkKEpTNBnueIfW36FNVKhJyu8dMr3hL9nLCpHLIR/uNr4Xy1TFXO1F/ohjpQQva9P4f+Of1cvWjdmDf2fijMGPNIbdF9zbDmYvVM+mMSWGwqAPvk/CwMgug+Kd0uQ=='}\n",
      "Comprobante {'{http://www.w3.org/2001/XMLSchema-instance}schemaLocation': 'http://www.sat.gob.mx/cfd/3 http://www.sat.gob.mx/sitio_internet/cfd/3/cfdv33.xsd http://www.sat.gob.mx/Pagos http://www.sat.gob.mx/sitio_internet/cfd/Pagos/Pagos10.xsd', 'Version': '3.3', 'Serie': 'CPIA', 'Folio': '146', 'Fecha': '2020-08-06T10:00:40', 'Sello': 'KYzHfFCfdi3rSOpAISJPq3K3OVj5QfmL2FVAAW/mU0+vgVext/LkwTXirfefSEeob+eC2O9ODS1/bs7DK0BwEJYRYULBH1ENTlGq19feq+Rv3N5nYDOV7hvQZ+K/jbRg1X4ms87TdUKP8r+dzCzHHWXUIDDl32NqkrG1r897ZVe2n3qjNowP3lnJa2U6kXMQHUcCubxCZR46J8eMW+uWOd6PnjxLpqQfv/0cpCSRmThEN/kIdKG6cIxsH0ZppQSTc9QU61xFRdz7nAp/vpjqBhIJHOZZjLO0U4y8SSRAmABFSMNnWdON44itg9XXwIcvedtVfzrV2uBC4nNAEsRC3w==', 'NoCertificado': '00001000000405222177', 'Certificado': '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', 'SubTotal': '0', 'Moneda': 'XXX', 'Total': '0', 'TipoDeComprobante': 'P', 'LugarExpedicion': '65550'}\n"
     ]
    }
   ],
   "source": [
    "for element in elements:\n",
    "    if element.attrib:\n",
    "        print(re.sub(r\"{.*?}\", \"\", element.tag), element.attrib)"
   ]
  },
  {
   "cell_type": "code",
   "execution_count": 7,
   "metadata": {},
   "outputs": [
    {
     "name": "stdout",
     "output_type": "stream",
     "text": [
      "Emisor\n",
      "Receptor\n",
      "Conceptos\n",
      "Concepto\n",
      "Complemento\n",
      "Pagos\n",
      "Pago\n",
      "DoctoRelacionado\n",
      "DoctoRelacionado\n",
      "DoctoRelacionado\n",
      "TimbreFiscalDigital\n",
      "Comprobante\n"
     ]
    }
   ],
   "source": [
    "#cleantag\n",
    "for element in elements:\n",
    "    cleaned_tag = re.sub(r\"{.*?}\", \"\", element.tag)\n",
    "    print(cleaned_tag)"
   ]
  },
  {
   "cell_type": "code",
   "execution_count": 8,
   "metadata": {},
   "outputs": [],
   "source": [
    "\n",
    "# Traverse the XML tree and create nodes and relationships\n",
    "for parent in xml_root:\n",
    "    parent_node = Node(parent.tag, **parent.attrib)\n",
    "    graph.create(parent_node)\n",
    "    \n",
    "# Save the nodes and relationships to the graph database\n",
    "#graph.commit()\n"
   ]
  },
  {
   "attachments": {},
   "cell_type": "markdown",
   "metadata": {},
   "source": [
    "testing on row below"
   ]
  },
  {
   "cell_type": "code",
   "execution_count": 36,
   "metadata": {},
   "outputs": [],
   "source": [
    "# Traverse the XML tree and create nodes and relationships\n",
    "for parent in xml_root:\n",
    "    parent_node = Node(parent.tag, **parent.attrib)\n",
    "    graph.create(parent_node)\n",
    "    for child in parent:\n",
    "        child_node = Node(child.tag, **child.attrib)\n",
    "        graph.create(child_node)\n",
    "        graph.create(Relationship(parent_node, 'HAS_CHILD', child_node))"
   ]
  },
  {
   "cell_type": "code",
   "execution_count": 17,
   "metadata": {},
   "outputs": [],
   "source": [
    "# writing code, testing cleaned tag\n",
    "\n",
    "# Traverse the XML tree and create nodes and relationships\n",
    "for parent in xml_root:\n",
    "    # cleaned parent tag\n",
    "    parent_cleaned_tag = re.sub(r\"{.*?}\", \"\", parent.tag)\n",
    "    # create node\n",
    "    parent_node = Node(parent_cleaned_tag, **parent.attrib)\n",
    "    graph.create(parent_node)\n",
    "\n",
    "    for child in parent:\n",
    "        # cleaned child tag\n",
    "        child_cleaned_tag = re.sub(r\"{.*?}\", \"\", child.tag)\n",
    "        # create child node\n",
    "        child_node = Node(child_cleaned_tag, **child.attrib)\n",
    "        graph.create(child_node)\n",
    "        # create relationship\n",
    "        graph.create(Relationship(parent_node, 'HAS_CHILD', child_node))\n",
    "\n",
    "# Save the nodes and relationships to the graph database\n",
    "\n",
    "    \n",
    "# Save the nodes and relationships to the graph database\n",
    "#graph.commit()\n"
   ]
  },
  {
   "cell_type": "code",
   "execution_count": 19,
   "metadata": {},
   "outputs": [
    {
     "name": "stdout",
     "output_type": "stream",
     "text": [
      "Node('Conceptos')\tHAS_CHILD(Node('Conceptos'), Node('Concepto', Cantidad='1', ClaveProdServ='84111506', ClaveUnidad='ACT', Descripcion='Pago', Importe='0', ValorUnitario='0'))\tNode('Concepto', Cantidad='1', ClaveProdServ='84111506', ClaveUnidad='ACT', Descripcion='Pago', Importe='0', ValorUnitario='0')\n",
      "Node('Complemento')\tHAS_CHILD(Node('Complemento'), Node('Pagos', Version='1.0'))\tNode('Pagos', Version='1.0')\n",
      "Node('Complemento')\tHAS_CHILD(Node('Complemento'), Node('TimbreFiscalDigital', FechaTimbrado='2020-08-06T10:00:54', NoCertificadoSAT='00001000000404481161', RfcProvCertif='ASE0209252Q1', SelloCFD='KYzHfFCfdi3rSOpAISJPq3K3OVj5QfmL2FVAAW/mU0+vgVext/LkwTXirfefSEeob+eC2O9ODS1/bs7DK0BwEJYRYULBH1ENTlGq19feq+Rv3N5nYDOV7hvQZ+K/jbRg1X4ms87TdUKP8r+dzCzHHWXUIDDl32NqkrG1r897ZVe2n3qjNowP3lnJa2U6kXMQHUcCubxCZR46J8eMW+uWOd6PnjxLpqQfv/0cpCSRmThEN/kIdKG6cIxsH0ZppQSTc9QU61xFRdz7nAp/vpjqBhIJHOZZjLO0U4y8SSRAmABFSMNnWdON44itg9XXwIcvedtVfzrV2uBC4nNAEsRC3w==', SelloSAT='UWWsOgtHZHB/UO0pEvSx4sVgpFrEe3ZyWCd5r199j46otdGR9Yn+1wZ2taXRv0hdD2184RRfOlxtOocjZM/njjKnF4wcJhJZcXw0I0QHYjA2E+nExYRNNCc+CYiR+buXnMQq8NrYuZETzdKP/g6xadWJ6/oxCNHJTLKEoNbM+6Qj+O8cC4NjikabC22nV7W/ivDAgf3obmEmF8D48+PwLDlpQxkKEpTNBnueIfW36FNVKhJyu8dMr3hL9nLCpHLIR/uNr4Xy1TFXO1F/ohjpQQva9P4f+Of1cvWjdmDf2fijMGPNIbdF9zbDmYvVM+mMSWGwqAPvk/CwMgug+Kd0uQ==', UUID='0F23FE0D-8324-4BCE-AFAC-68CB67E89714', Version='1.1', **{'{http://www.w3.org/2001/XMLSchema-instance}schemaLocation': 'http://www.sat.gob.mx/TimbreFiscalDigital http://www.sat.gob.mx/sitio_internet/cfd/TimbreFiscalDigital/TimbreFiscalDigitalv11.xsd'}))\tNode('TimbreFiscalDigital', FechaTimbrado='2020-08-06T10:00:54', NoCertificadoSAT='00001000000404481161', RfcProvCertif='ASE0209252Q1', SelloCFD='KYzHfFCfdi3rSOpAISJPq3K3OVj5QfmL2FVAAW/mU0+vgVext/LkwTXirfefSEeob+eC2O9ODS1/bs7DK0BwEJYRYULBH1ENTlGq19feq+Rv3N5nYDOV7hvQZ+K/jbRg1X4ms87TdUKP8r+dzCzHHWXUIDDl32NqkrG1r897ZVe2n3qjNowP3lnJa2U6kXMQHUcCubxCZR46J8eMW+uWOd6PnjxLpqQfv/0cpCSRmThEN/kIdKG6cIxsH0ZppQSTc9QU61xFRdz7nAp/vpjqBhIJHOZZjLO0U4y8SSRAmABFSMNnWdON44itg9XXwIcvedtVfzrV2uBC4nNAEsRC3w==', SelloSAT='UWWsOgtHZHB/UO0pEvSx4sVgpFrEe3ZyWCd5r199j46otdGR9Yn+1wZ2taXRv0hdD2184RRfOlxtOocjZM/njjKnF4wcJhJZcXw0I0QHYjA2E+nExYRNNCc+CYiR+buXnMQq8NrYuZETzdKP/g6xadWJ6/oxCNHJTLKEoNbM+6Qj+O8cC4NjikabC22nV7W/ivDAgf3obmEmF8D48+PwLDlpQxkKEpTNBnueIfW36FNVKhJyu8dMr3hL9nLCpHLIR/uNr4Xy1TFXO1F/ohjpQQva9P4f+Of1cvWjdmDf2fijMGPNIbdF9zbDmYvVM+mMSWGwqAPvk/CwMgug+Kd0uQ==', UUID='0F23FE0D-8324-4BCE-AFAC-68CB67E89714', Version='1.1', **{'{http://www.w3.org/2001/XMLSchema-instance}schemaLocation': 'http://www.sat.gob.mx/TimbreFiscalDigital http://www.sat.gob.mx/sitio_internet/cfd/TimbreFiscalDigital/TimbreFiscalDigitalv11.xsd'})\n"
     ]
    }
   ],
   "source": [
    "# Define your Cypher query\n",
    "query = \"\"\"\n",
    "MATCH (n)-[r]->(m)\n",
    "RETURN n, r, m\n",
    "\"\"\"\n",
    "\n",
    "# Run the query and store the results in a variable\n",
    "results = graph.run(query)\n",
    "\n",
    "# Loop through the results and print each record\n",
    "for record in results:\n",
    "    print(record)"
   ]
  },
  {
   "cell_type": "code",
   "execution_count": null,
   "metadata": {},
   "outputs": [],
   "source": [
    "# Create a NeoVis object with your database credentials\n",
    "vis = NeoVis(uri\", user, password)\n",
    "\n",
    "# Define the Cypher query to execute\n",
    "query = \"\"\"\n",
    "MATCH (n)-[r]->(m)\n",
    "RETURN n, r, m\n",
    "\"\"\"\n",
    "\n",
    "# Render the query results as a graph in the notebook\n",
    "vis.render(query)"
   ]
  },
  {
   "cell_type": "code",
   "execution_count": 16,
   "metadata": {},
   "outputs": [
    {
     "data": {
      "text/html": [
       "(No data)"
      ],
      "text/plain": [
       "(No data)"
      ]
     },
     "execution_count": 16,
     "metadata": {},
     "output_type": "execute_result"
    }
   ],
   "source": [
    "#delete all nodes and relationships\n",
    "graph.run(\"MATCH (n) DETACH DELETE n\")"
   ]
  },
  {
   "cell_type": "code",
   "execution_count": null,
   "metadata": {},
   "outputs": [],
   "source": [
    "#reference code IGNORE TO EXECUTE\n",
    "\n",
    "# Define the Py2neo graph\n",
    "graph = Graph()\n",
    "\n",
    "# Traverse the XML tree and create nodes and relationships\n",
    "for parent in xml_root:\n",
    "    parent_node = Node(parent.tag, **parent.attrib)\n",
    "    graph.create(parent_node)\n",
    "    \n",
    "    for child in parent:\n",
    "        child_node = Node(child.tag, **child.attrib)\n",
    "        graph.create(child_node)\n",
    "        graph.create(Relationship(parent_node, 'HAS_CHILD', child_node))\n",
    "\n",
    "# Save the nodes and relationships to the graph database\n",
    "graph.commit()\n"
   ]
  }
 ],
 "metadata": {
  "kernelspec": {
   "display_name": "Python 3",
   "language": "python",
   "name": "python3"
  },
  "language_info": {
   "codemirror_mode": {
    "name": "ipython",
    "version": 3
   },
   "file_extension": ".py",
   "mimetype": "text/x-python",
   "name": "python",
   "nbconvert_exporter": "python",
   "pygments_lexer": "ipython3",
   "version": "3.10.8"
  },
  "orig_nbformat": 4
 },
 "nbformat": 4,
 "nbformat_minor": 2
}
