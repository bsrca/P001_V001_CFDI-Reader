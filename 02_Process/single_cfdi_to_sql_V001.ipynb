{
 "cells": [
  {
   "cell_type": "code",
   "execution_count": 122,
   "metadata": {},
   "outputs": [],
   "source": [
    "#import Libriaries\n",
    "import xml.etree.ElementTree as ET\n",
    "import pandas as pd\n",
    "import re\n",
    "import pyodbc #oldwayto connect to sql server\n",
    "import pydash #to format table and field names\n",
    "import pandasgui as pg #to visualize dataframes\n",
    "import sqlalchemy  #new way to connect to sql server"
   ]
  },
  {
   "cell_type": "code",
   "execution_count": 123,
   "metadata": {},
   "outputs": [],
   "source": [
    "# Define the connection details\n",
    "server = 'jacobo-dev.database.windows.net'\n",
    "port = '1433'\n",
    "database = 'jacobo-dev-sqlserver-azure-001'\n",
    "username = 'azure-admin'\n",
    "password = 'ja-2023-un0ypzjo'\n",
    "driver = '{ODBC Driver 18 for SQL Server}'\n",
    "\n",
    "# Define the connection string\n",
    "conn_str = f\"DRIVER={driver};SERVER={server},{port};DATABASE={database};UID={username};PWD={password};Encrypt=yes;TrustServerCertificate=no;Connection Timeout=30\""
   ]
  },
  {
   "cell_type": "code",
   "execution_count": 124,
   "metadata": {},
   "outputs": [
    {
     "name": "stdout",
     "output_type": "stream",
     "text": [
      "Error connecting to database: ('08001', '[08001] [Microsoft][ODBC Driver 18 for SQL Server]TCP Provider: Timeout error [258].  (258) (SQLDriverConnect); [08001] [Microsoft][ODBC Driver 18 for SQL Server]Login timeout expired (0); [08001] [Microsoft][ODBC Driver 18 for SQL Server]Invalid connection string attribute (0); [08001] [Microsoft][ODBC Driver 18 for SQL Server]Unable to complete login process due to delay in login response (258)')\n"
     ]
    }
   ],
   "source": [
    "# Test SQL DB Connection\n",
    "try:\n",
    "    conn = pyodbc.connect(conn_str)\n",
    "    print(\"Connection successful!\")\n",
    "    conn.close()\n",
    "except pyodbc.Error as e:\n",
    "    print(\"Error connecting to database:\", e)\n"
   ]
  },
  {
   "cell_type": "code",
   "execution_count": 125,
   "metadata": {},
   "outputs": [],
   "source": [
    "#function to get all the child elements of a given xml element\n",
    "\n",
    "def get_child_elements(xml_root):\n",
    "    # Create a list to store all child elements\n",
    "    elements = []\n",
    "    #append xml root to elements list\n",
    "    #elements.append(xml_root)\n",
    "    # Get all child elements of a given xml element\n",
    "    for child in xml_root:\n",
    "        elements.append(child)\n",
    "        elements.extend(get_child_elements(child))\n",
    "    return elements\n"
   ]
  },
  {
   "cell_type": "code",
   "execution_count": 126,
   "metadata": {},
   "outputs": [],
   "source": [
    "def process_xml_elements(conn, elements):\n",
    "    \"\"\"\n",
    "    Inserts the attributes of each XML element into a SQL table with the same name\n",
    "    as the element tag.\n",
    "    \"\"\"\n",
    "    #conn = pyodbc.connect(conn_str)\n",
    "    cursor = conn.cursor()\n",
    "    \n",
    "    # loop through the elements and their attributes\n",
    "    for element in elements:\n",
    "        # create the SQL table name using the element tag\n",
    "        table_name = element.tag\n",
    "\n",
    "        # create the SQL create table query\n",
    "        create_table_query = f\"CREATE TABLE IF NOT EXISTS {table_name} (\"\n",
    "        for attr in element.attrib:\n",
    "            create_table_query += f\"{attr} VARCHAR(MAX), \"\n",
    "        create_table_query = create_table_query[:-2] + \")\"\n",
    "\n",
    "        # execute the create table query\n",
    "        cursor.execute(create_table_query)\n",
    "        cursor.commit()\n",
    "\n",
    "        # insert the element attributes into the table\n",
    "        insert_query = f\"INSERT INTO {table_name} (\"\n",
    "        for attr in element.attrib:\n",
    "            insert_query += f\"{attr}, \"\n",
    "        insert_query = insert_query[:-2] + \") VALUES (\"\n",
    "        for attr in element.attrib:\n",
    "            insert_query += f\"'{element.attrib[attr]}', \"\n",
    "        insert_query = insert_query[:-2] + \")\"\n",
    "\n",
    "        # execute the insert query\n",
    "        cursor.execute(insert_query)\n",
    "        cursor.commit()\n",
    "\n",
    "    # close the database connection\n",
    "    conn.close()"
   ]
  },
  {
   "cell_type": "code",
   "execution_count": 127,
   "metadata": {},
   "outputs": [],
   "source": [
    "def pascal_case(text):\n",
    "    return ''.join(word.capitalize() for word in text.split())\n"
   ]
  },
  {
   "cell_type": "code",
   "execution_count": 128,
   "metadata": {},
   "outputs": [],
   "source": [
    "# Define file to read\n",
    "xml_file_path = r\"C:\\Users\\Roberto\\OneDrive\\cargoIabono\\Proyectos y Desarrollos\\P001_V001_CFDI-Reader\\01_Inputs\\Nomina\\EMS2103108P3_Pago de nómina_20220815_N_AOAR951019842.xml\"\n",
    "xml_tree = ET.parse(xml_file_path)\n",
    "xml_root = xml_tree.getroot()"
   ]
  },
  {
   "cell_type": "code",
   "execution_count": 129,
   "metadata": {},
   "outputs": [
    {
     "name": "stdout",
     "output_type": "stream",
     "text": [
      "{http://www.sat.gob.mx/cfd/3}Emisor {'Rfc': 'EMS2103108P3', 'Nombre': 'ESAB MEXICO SERVICES SA DE CV', 'RegimenFiscal': '601'}\n",
      "{http://www.sat.gob.mx/cfd/3}Receptor {'Rfc': 'AOAR951019842', 'Nombre': 'Roberto Carlos Alonso Alvarez', 'UsoCFDI': 'P01'}\n",
      "{http://www.sat.gob.mx/cfd/3}Concepto {'ClaveProdServ': '84111505', 'Cantidad': '1', 'ClaveUnidad': 'ACT', 'Descripcion': 'Pago de nómina', 'ValorUnitario': '43376.49', 'Importe': '43376.49', 'Descuento': '14787.52'}\n",
      "{http://www.sat.gob.mx/nomina12}Nomina {'Version': '1.2', 'TipoNomina': 'O', 'FechaPago': '2022-08-15', 'FechaInicialPago': '2022-08-01', 'FechaFinalPago': '2022-08-15', 'NumDiasPagados': '15.000', 'TotalPercepciones': '43376.49', 'TotalDeducciones': '14787.52', 'TotalOtrosPagos': '0.00'}\n",
      "{http://www.sat.gob.mx/nomina12}Emisor {'RegistroPatronal': 'Y3936393101'}\n",
      "{http://www.sat.gob.mx/nomina12}Receptor {'Curp': 'AOAR951019HNLLLB06', 'NumSeguridadSocial': '43129510616', 'FechaInicioRelLaboral': '2022-02-01', 'Antigüedad': 'P28W', 'TipoContrato': '01', 'Sindicalizado': 'No', 'TipoJornada': '01', 'TipoRegimen': '02', 'NumEmpleado': '20035', 'Departamento': 'Finanzas', 'Puesto': 'Senior FP&A', 'RiesgoPuesto': '1', 'PeriodicidadPago': '04', 'Banco': '021', 'CuentaBancaria': '6544880714', 'SalarioBaseCotApor': '2405.50', 'SalarioDiarioIntegrado': '3159.17', 'ClaveEntFed': 'NLE'}\n",
      "{http://www.sat.gob.mx/nomina12}Percepciones {'TotalSueldos': '43376.49', 'TotalGravado': '41500.20', 'TotalExento': '1876.29'}\n",
      "{http://www.sat.gob.mx/nomina12}Percepcion {'TipoPercepcion': '001', 'Clave': '101', 'Concepto': 'Sueldo normal', 'ImporteGravado': '41500.2', 'ImporteExento': '0'}\n",
      "{http://www.sat.gob.mx/nomina12}Percepcion {'TipoPercepcion': '005', 'Clave': '1fa', 'Concepto': 'Fondo de ahorro', 'ImporteGravado': '0', 'ImporteExento': '1876.29'}\n",
      "{http://www.sat.gob.mx/nomina12}Deducciones {'TotalOtrasDeducciones': '4709.84', 'TotalImpuestosRetenidos': '10077.68'}\n",
      "{http://www.sat.gob.mx/nomina12}Deduccion {'TipoDeduccion': '002', 'Clave': '201', 'Concepto': 'ISR', 'Importe': '10077.68'}\n",
      "{http://www.sat.gob.mx/nomina12}Deduccion {'TipoDeduccion': '001', 'Clave': '202', 'Concepto': 'Seguro social', 'Importe': '957.26'}\n",
      "{http://www.sat.gob.mx/nomina12}Deduccion {'TipoDeduccion': '004', 'Clave': '2rfap', 'Concepto': 'Retencion Fondo de Ahorro Patrón', 'Importe': '1876.29'}\n",
      "{http://www.sat.gob.mx/nomina12}Deduccion {'TipoDeduccion': '004', 'Clave': '2rfao', 'Concepto': 'Retencion Fondo de Ahorro Trabajador', 'Importe': '1876.29'}\n",
      "{http://www.sat.gob.mx/nomina12}OtroPago {'TipoOtroPago': '002', 'Clave': '107', 'Concepto': 'Subsidio para el empleo (efectivamente entregado al trabajador)', 'Importe': '0.00'}\n",
      "{http://www.sat.gob.mx/nomina12}SubsidioAlEmpleo {'SubsidioCausado': '0'}\n",
      "{http://www.sat.gob.mx/TimbreFiscalDigital}TimbreFiscalDigital {'{http://www.w3.org/2001/XMLSchema-instance}schemaLocation': 'http://www.sat.gob.mx/TimbreFiscalDigital http://www.sat.gob.mx/sitio_internet/cfd/TimbreFiscalDigital/TimbreFiscalDigitalv11.xsd', 'SelloSAT': 'V+o6bK02nYnMZ9udxYSX4JVabpcocXPhTQlbChhoS/acqWvtmG6l+gofEBpLc4MWRJ/9+TsouU4w7MG/uFpHP/drvkI1nITGBBtb0TtO55zIfcmWwH6/4xrDyyutqbWbCqoEy46u0tCsoL1IahZuL1Uzvoo+JQZ+VObKam0Mxdcs/NjwWnSoOqA2DoLX6xE9k3L5Bq9zdRcc/bpU3/Etusfl6XkeTGwPduYrPxhqu6MPKSfETupchlffiPs5/TH+/axS+XcGXsY6wX2Uc5d5qo/difvPJ3tZKwnB4iwaUa2tcLBiQfo0ouX5xI+XzAsJznb+tw3+my/XnVgBqP4D0g==', 'NoCertificadoSAT': '00001000000502000436', 'SelloCFD': 'Te4Lmnf/eDgK5YLE2UC/LENClMEglH2XUavfiO1DS/Ym7GRbVvDvn1r0VcZqNVxVK6atZddZ09MBVnv9wSUzOsnx9NmeYdylXUw97RgBB+5f6PdI8zR9tLm/ohPt/HwQbmbrSM9rrBs6u8+UDsrKrPgIc10/93VH4PGs2NxUyJPReI79kqlyF+2l++DkXqtApXwcC2aJIWtvqCYc+XWaVB42h0jFnrtyILg7Hw33d8VGbWHEEDgVVG0LLmcpmGqOM+1k0JwCZZmBKW3prGntWBvRq36DwB7vx/WgXw8jQNF5NL+OERwZpTVd/zDCTeIbQKfMtge39rbKrPGMGAk8AA==', 'RfcProvCertif': 'SCD110105654', 'FechaTimbrado': '2022-08-15T14:18:43', 'UUID': 'B7D29180-3BB4-904C-9DC5-8730016AA924', 'Version': '1.1'}\n",
      "{http://www.sat.gob.mx/cfd/3}Comprobante {'{http://www.w3.org/2001/XMLSchema-instance}schemaLocation': 'http://www.sat.gob.mx/cfd/3 http://www.sat.gob.mx/sitio_internet/cfd/3/cfdv33.xsd http://www.sat.gob.mx/nomina12 http://www.sat.gob.mx/sitio_internet/cfd/nomina/nomina12.xsd', 'Version': '3.3', 'Serie': 'NOM', 'Folio': '1334', 'Fecha': '2022-08-15T14:18:40', 'Sello': 'Te4Lmnf/eDgK5YLE2UC/LENClMEglH2XUavfiO1DS/Ym7GRbVvDvn1r0VcZqNVxVK6atZddZ09MBVnv9wSUzOsnx9NmeYdylXUw97RgBB+5f6PdI8zR9tLm/ohPt/HwQbmbrSM9rrBs6u8+UDsrKrPgIc10/93VH4PGs2NxUyJPReI79kqlyF+2l++DkXqtApXwcC2aJIWtvqCYc+XWaVB42h0jFnrtyILg7Hw33d8VGbWHEEDgVVG0LLmcpmGqOM+1k0JwCZZmBKW3prGntWBvRq36DwB7vx/WgXw8jQNF5NL+OERwZpTVd/zDCTeIbQKfMtge39rbKrPGMGAk8AA==', 'FormaPago': '99', 'NoCertificado': '00001000000508041177', 'Certificado': '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', 'SubTotal': '43376.49', 'Descuento': '14787.52', 'Moneda': 'MXN', 'Total': '28588.97', 'TipoDeComprobante': 'N', 'MetodoPago': 'PUE', 'LugarExpedicion': '64000'}\n"
     ]
    }
   ],
   "source": [
    "#Read XML Child elements\n",
    "elements = get_child_elements(xml_root)\n",
    "\n",
    "#add xml root to read it with their child elements\n",
    "elements.append(xml_root)\n",
    "\n",
    "#print child elements\n",
    "for element in elements:\n",
    "    if element.attrib:\n",
    "        print(element.tag, element.attrib)"
   ]
  },
  {
   "attachments": {},
   "cell_type": "markdown",
   "metadata": {},
   "source": [
    "**SQL Query with pandas.**"
   ]
  },
  {
   "cell_type": "code",
   "execution_count": 131,
   "metadata": {},
   "outputs": [
    {
     "name": "stderr",
     "output_type": "stream",
     "text": [
      "C:\\Users\\Roberto\\AppData\\Local\\Temp\\ipykernel_27424\\2157251554.py:8: UserWarning:\n",
      "\n",
      "pandas only supports SQLAlchemy connectable (engine/connection) or database string URI or sqlite3 DBAPI2 connection. Other DBAPI2 objects are not tested. Please consider using SQLAlchemy.\n",
      "\n",
      "PandasGUI INFO — pandasgui.gui — Opening PandasGUI\n"
     ]
    },
    {
     "name": "stdout",
     "output_type": "stream",
     "text": [
      "   Id         Name  Age                    Email\n",
      "0   1     John Doe   30     john.doe@example.com\n",
      "1   2   Jane Smith   25   jane.smith@example.com\n",
      "2   3  Bob Johnson   40  bob.johnson@example.com\n",
      "3   4    Alice Lee   35    alice.lee@example.com\n",
      "4   5    Tom Brown   28    tom.brown@example.com\n"
     ]
    },
    {
     "data": {
      "text/plain": [
       "<pandasgui.gui.PandasGui at 0x1894bdc0a60>"
      ]
     },
     "execution_count": 131,
     "metadata": {},
     "output_type": "execute_result"
    }
   ],
   "source": [
    "## Test Query Retrieve Data\n",
    "\n",
    "# Define the SQL query\n",
    "sample_query = \"SELECT * FROM [cfditest].[SampleTable]\"\n",
    "\n",
    "# Establish the database connection\n",
    "conn = pyodbc.connect(conn_str)\n",
    "\n",
    "# Execute the SQL query and load the data into a pandas dataframe\n",
    "df = pd.read_sql(sample_query, conn)\n",
    "\n",
    "# Print the first five rows of the dataframe\n",
    "print(df.head())\n",
    "\n",
    "# display data using pandasgui\n",
    "pg.show(df.head())"
   ]
  },
  {
   "cell_type": "code",
   "execution_count": null,
   "metadata": {},
   "outputs": [],
   "source": [
    "#cleantag\n",
    "for element in elements:\n",
    "    cleaned_tag = re.sub(r\"{.*?}\", \"\", element.tag)\n",
    "    print(cleaned_tag)"
   ]
  },
  {
   "cell_type": "code",
   "execution_count": null,
   "metadata": {},
   "outputs": [],
   "source": []
  }
 ],
 "metadata": {
  "kernelspec": {
   "display_name": "Python 3",
   "language": "python",
   "name": "python3"
  },
  "language_info": {
   "codemirror_mode": {
    "name": "ipython",
    "version": 3
   },
   "file_extension": ".py",
   "mimetype": "text/x-python",
   "name": "python",
   "nbconvert_exporter": "python",
   "pygments_lexer": "ipython3",
   "version": "3.10.8"
  },
  "orig_nbformat": 4
 },
 "nbformat": 4,
 "nbformat_minor": 2
}
